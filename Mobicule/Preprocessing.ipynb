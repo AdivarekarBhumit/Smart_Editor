{
 "cells": [
  {
   "cell_type": "code",
   "execution_count": 5,
   "metadata": {
    "ExecuteTime": {
     "end_time": "2019-01-16T05:16:55.709337Z",
     "start_time": "2019-01-16T05:16:55.703126Z"
    }
   },
   "outputs": [],
   "source": [
    "values = [\"NOLG STTT\", \".MAHARASHTRA STATE MOTOR DRIVING LICENCE\", \"DL No MHO01 20180006033\", \"DOI 15-02-2018\",\n",
    "\"arty w\", \"Valid Till 14-02-2038 NT\", \"15-02-2013\", \"AUTHORISATION TO DRIVE FOLLOWING CLASS\", \"cov\", \n",
    "\"15-02-2018\", \"MCWG 15-02-2018\", \"DOB 11-12-1997 BG A\", \"Name BHUMIT ADIVAREKAR\", \"S/DW of JAY ADIVAREKAR\",\n",
    "\"Add 3 421 RAMDOOT BLDG\", \"M P ROAD CURRY ROAD\", \"Mumbai MH\", \"OF Nd\", \"PIN 400012Signature ID of Ags Arn\",\n",
    "\"PIN 400012\", \"If IAL EF ersSuing Authority MHO1\", \"Impression of Holde\"]"
   ]
  },
  {
   "cell_type": "code",
   "execution_count": 6,
   "metadata": {
    "ExecuteTime": {
     "end_time": "2019-01-16T05:16:56.005937Z",
     "start_time": "2019-01-16T05:16:56.002377Z"
    }
   },
   "outputs": [
    {
     "name": "stdout",
     "output_type": "stream",
     "text": [
      "{0: 'NOLG STTT', 1: 'MAHARASHTRA STATE MOTOR DRIVING LICENCE', 2: 'DL No MHO01 20180006033', 3: 'DOI 15-02-2018', 4: 'arty w', 5: 'Valid Till 14-02-2038 NT', 6: '15-02-2013', 7: 'AUTHORISATION TO DRIVE FOLLOWING CLASS', 8: 'cov', 9: '15-02-2018', 10: 'MCWG 15-02-2018', 11: 'DOB 11-12-1997 BG A', 12: 'Name BHUMIT ADIVAREKAR', 13: 'S/DW of JAY ADIVAREKAR', 14: 'Add 3 421 RAMDOOT BLDG', 15: 'M P ROAD CURRY ROAD', 16: 'Mumbai MH', 17: 'OF Nd', 18: 'PIN 400012Signature ID of Ags Arn', 19: 'PIN 400012', 20: 'If IAL EF ersSuing Authority MHO1', 21: 'Impression of Holde'}\n"
     ]
    }
   ],
   "source": [
    "details = {}\n",
    "for idx, i in enumerate(values):\n",
    "    details[idx] = i\n",
    "print(details)"
   ]
  },
  {
   "cell_type": "code",
   "execution_count": 58,
   "metadata": {
    "ExecuteTime": {
     "end_time": "2019-01-16T07:59:18.411882Z",
     "start_time": "2019-01-16T07:59:18.404947Z"
    }
   },
   "outputs": [],
   "source": [
    "details1 = {0: '111 1', 1: '2 VIL ALMAHARASHTRA STATE MOTOR DRIVING LICENCE', 2: 'DOI 05-11-2008', 3: '2 DL No MHO1 20080116201', 4: 'w aid Tiff 04-11-2028 NT', 5: 'FORM 7RULE 16 2', 6: 'DLD 24-08-2016', 7: 'RUL', 8: 'AUTHORISATION TO DRIVE FOLLOWING CLASS22 IT IANA', 9: 'OF VEHICLES THROUGHOUT INDIA', 10: 'MCWG 05-11-2008', 11: 'DOB 19-04-1989 BG', 12: 'Name ONAL TINWALA', 13: 'S/D/W of RAJAB TINWALA', 14: 'Add 2ND FLR R/21 43/47 JEEVANBHAI BLDG', 15: 'MASTAN TANK ST MUMBAI', 16: 'PIN 400008', 17: 'Signature/Thumb', 18: 'S$gnature ID of a name', 19: '117 750 49 01 2016280', 20: 'Impression of Holder'}"
   ]
  },
  {
   "cell_type": "code",
   "execution_count": 125,
   "metadata": {
    "ExecuteTime": {
     "end_time": "2019-01-16T10:42:21.027664Z",
     "start_time": "2019-01-16T10:42:21.023186Z"
    }
   },
   "outputs": [
    {
     "data": {
      "text/plain": [
       "{0: 'THE UNION OF INDIA',\n",
       " 1: 'MAHARASHTRA STATE MOTOR DRIVING LICENCE',\n",
       " 2: 'DL No MHO01 20090077155',\n",
       " 3: 'DOI 24-07-2009',\n",
       " 4: 'Valid Tilf 23-07-2029 NT',\n",
       " 5: 'FORM 7',\n",
       " 6: 'RULE 16 2',\n",
       " 7: 'AUTHORISATION TO DRIVE FOLLOWING CLASS',\n",
       " 8: 'OF VEHICLES THROUGHOUT INDIA',\n",
       " 9: 'DOI',\n",
       " 10: 'LMV 24-07-2009',\n",
       " 11: 'DOB 28-04-1990 BG',\n",
       " 12: 'Name VIDIT SHAH',\n",
       " 13: 'S/D/W of MANOJ SHAH',\n",
       " 14: 'NH AF FW Add 151/B KALPATARU RESIDENCY SION E',\n",
       " 15: 'MUMBAI',\n",
       " 16: 'Rab pd Sy -',\n",
       " 17: 'PIN 400022',\n",
       " 18: 'Signature/Thumb',\n",
       " 19: 'ID of',\n",
       " 20: 'Impression of Holder',\n",
       " 21: 'Gg ure oisSuing Authority MHO1 2009150'}"
      ]
     },
     "execution_count": 125,
     "metadata": {},
     "output_type": "execute_result"
    }
   ],
   "source": [
    "details1 = {0: 'THE UNION OF INDIA', 1: 'MAHARASHTRA STATE MOTOR DRIVING LICENCE', 2: 'DL No MHO01 20090077155', 3: 'DOI 24-07-2009', 4: 'Valid Tilf 23-07-2029 NT', 5: 'FORM 7', 6: 'RULE 16 2', 7: 'AUTHORISATION TO DRIVE FOLLOWING CLASS', 8: 'OF VEHICLES THROUGHOUT INDIA', 9: 'DOI', 10: 'LMV 24-07-2009', 11: 'DOB 28-04-1990 BG', 12: 'Name VIDIT SHAH', 13: 'S/D/W of MANOJ SHAH', 14: 'NH AF FW Add 151/B KALPATARU RESIDENCY SION E', 15: 'MUMBAI', 16: 'Rab pd Sy -', 17: 'PIN 400022', 18: 'Signature/Thumb', 19: 'ID of', 20: 'Impression of Holder', 21: 'Gg ure oisSuing Authority MHO1 2009150'}\n",
    "details1"
   ]
  },
  {
   "cell_type": "code",
   "execution_count": 126,
   "metadata": {
    "ExecuteTime": {
     "end_time": "2019-01-16T10:42:27.783507Z",
     "start_time": "2019-01-16T10:42:27.777182Z"
    }
   },
   "outputs": [
    {
     "data": {
      "text/plain": [
       "{0: 'THE UNION OF INDIA',\n",
       " 1: 'MAHARASHTRA STATE MOTOR DRIVING LICENCE',\n",
       " 2: 'DL No MH01 20060039783STH ANA',\n",
       " 3: 'DO 19-07-2006',\n",
       " 4: 'Vaid Till 18-07-2026 NT',\n",
       " 5: 'FORM',\n",
       " 6: 'DLD 25-03-2017',\n",
       " 7: 'FF Jim RULE 16 2',\n",
       " 8: 'AUTHORISATION TO DRIVE FOLLOWING CLASS',\n",
       " 9: 'OF VEHICLES THROUGHOUT INDIA',\n",
       " 10: 'Cov',\n",
       " 11: 'MCWG 19-07-2006',\n",
       " 12: 'LMV 19-07-2006',\n",
       " 13: 'DOB 12-03-1987 BG',\n",
       " 14: 'Name ABHISHEK BHAUD',\n",
       " 15: 'S/DMV of PRAKASH BHAUD',\n",
       " 16: 'Add 19 A 3RD FLR COLABA',\n",
       " 17: 'CHAMBER COLABA CROSS LANE',\n",
       " 18: 'MUMB3AI',\n",
       " 19: 'PIN 400005',\n",
       " 20: 'Signature/Thumb',\n",
       " 21: 'Signature ID of',\n",
       " 22: 'Jsuing Authority MHG1 2017284',\n",
       " 23: 'Impression of Holder'}"
      ]
     },
     "execution_count": 126,
     "metadata": {},
     "output_type": "execute_result"
    }
   ],
   "source": [
    "details1 = {0: 'THE UNION OF INDIA', 1: 'MAHARASHTRA STATE MOTOR DRIVING LICENCE', 2: 'DL No MH01 20060039783STH ANA', 3: 'DO 19-07-2006', 4: 'Vaid Till 18-07-2026 NT', 5: 'FORM', 6: 'DLD 25-03-2017', 7: 'FF Jim RULE 16 2', 8: 'AUTHORISATION TO DRIVE FOLLOWING CLASS', 9: 'OF VEHICLES THROUGHOUT INDIA', 10: 'Cov', 11: 'MCWG 19-07-2006', 12: 'LMV 19-07-2006', 13: 'DOB 12-03-1987 BG', 14: 'Name ABHISHEK BHAUD', 15: 'S/DMV of PRAKASH BHAUD', 16: 'Add 19 A 3RD FLR COLABA', 17: 'CHAMBER COLABA CROSS LANE', 18: 'MUMB3AI', 19: 'PIN 400005', 20: 'Signature/Thumb', 21: 'Signature ID of', 22: 'Jsuing Authority MHG1 2017284', 23: 'Impression of Holder'}\n",
    "details1"
   ]
  },
  {
   "cell_type": "code",
   "execution_count": 72,
   "metadata": {
    "ExecuteTime": {
     "end_time": "2019-01-16T09:52:50.517193Z",
     "start_time": "2019-01-16T09:52:50.506530Z"
    }
   },
   "outputs": [
    {
     "data": {
      "text/plain": [
       "{0: 'THE UNION OF INDIA',\n",
       " 1: 'MAHARASHTRA STATE MOTOR DRIVING LICENCE',\n",
       " 2: 'DOI 16-05-2016',\n",
       " 3: 'Valid Till 15-05-2036 NT',\n",
       " 4: 'FORM 7ire rr 4',\n",
       " 5: '16-10-2018',\n",
       " 6: 'Ise 3RULE 16 2',\n",
       " 7: 'AUTHORISATION TO DRIVE FOLLOWING CLASS',\n",
       " 8: 'OF VEHICLES THROUGHOUT INDIA',\n",
       " 9: 'cov',\n",
       " 10: 'LMV 16-05-2016',\n",
       " 11: 'DOB 04-09-1989 BG O',\n",
       " 12: 'Name GANESH PALVE',\n",
       " 13: 'S/DWW of SUBHASH PALVE',\n",
       " 14: 'Add SANTOSH NAGAR NR DHANANJAY NIWAS',\n",
       " 15: 'O T SECTION ULHASNAGAR- 4 DIST- THANE Ulhasnagar ------- -',\n",
       " 16: 'Ulhasnagar Thane MH',\n",
       " 17: 'PIN 421004',\n",
       " 18: 'Signature ID of',\n",
       " 19: 'Signature/Thumb',\n",
       " 20: 'IsSuing Authority MHO5',\n",
       " 21: 'Impression of Holder'}"
      ]
     },
     "execution_count": 72,
     "metadata": {},
     "output_type": "execute_result"
    }
   ],
   "source": [
    "details1 = {0: 'THE UNION OF INDIA', 1: 'MAHARASHTRA STATE MOTOR DRIVING LICENCE', 2: 'DOI 16-05-2016', 3: 'Valid Till 15-05-2036 NT', 4: 'FORM 7ire rr 4', 5: '16-10-2018', 6: 'Ise 3RULE 16 2', 7: 'AUTHORISATION TO DRIVE FOLLOWING CLASS', 8: 'OF VEHICLES THROUGHOUT INDIA', 9: 'cov', 10: 'LMV 16-05-2016', 11: 'DOB 04-09-1989 BG O', 12: 'Name GANESH PALVE', 13: 'S/DWW of SUBHASH PALVE', 14: 'Add SANTOSH NAGAR NR DHANANJAY NIWAS', 15: 'O T SECTION ULHASNAGAR- 4 DIST- THANE Ulhasnagar ------- -', 16: 'Ulhasnagar Thane MH', 17: 'PIN 421004', 18: 'Signature ID of', 19: 'Signature/Thumb', 20: 'IsSuing Authority MHO5', 21: 'Impression of Holder'}\n",
    "details1"
   ]
  },
  {
   "cell_type": "code",
   "execution_count": 62,
   "metadata": {
    "ExecuteTime": {
     "end_time": "2019-01-16T09:23:24.045427Z",
     "start_time": "2019-01-16T09:23:24.031187Z"
    }
   },
   "outputs": [
    {
     "data": {
      "text/plain": [
       "{0: 'THE UNION OF INDIA',\n",
       " 1: 'aa a a a a a a a a a a a a EEEMAHARASHTRA STATE MOTOR DRIVING LICENCE',\n",
       " 2: 'GE DL No MH02 20090128158',\n",
       " 3: 'DO 27-07-2009',\n",
       " 4: 'Valid Till 26-07-2029 NT',\n",
       " 5: 'FORM',\n",
       " 6: 'AED 01-10-2011',\n",
       " 7: 'RULE 16 2',\n",
       " 8: 'AUTHORISATION TO DRIVE FOLLOWING CLASS',\n",
       " 9: 'OF VEHICLES THROUGHOUT INDIA',\n",
       " 10: 'DOJ',\n",
       " 11: 'LMV 19-09-2011',\n",
       " 12: 'MCWG 27-07-2009',\n",
       " 13: 'DOB 27-09-1986 BG',\n",
       " 14: 'Name AVANI PATEL',\n",
       " 15: 'S/D/W Of NAVIN PATEL',\n",
       " 16: 'Add D-603 GOKUL RESIDENCY THAUKAR VILLAGE',\n",
       " 17: 'KANDIVALI E',\n",
       " 18: 'MUMBAI',\n",
       " 19: 'PIN 400101',\n",
       " 20: 'Signature/Thumb',\n",
       " 21: 'Signature ID of',\n",
       " 22: 'Jsuing Authority MHO02 2011287',\n",
       " 23: 'Impression of Holder'}"
      ]
     },
     "execution_count": 62,
     "metadata": {},
     "output_type": "execute_result"
    }
   ],
   "source": [
    "details1 = {0: 'THE UNION OF INDIA', 1: 'aa a a a a a a a a a a a a EEEMAHARASHTRA STATE MOTOR DRIVING LICENCE', 2: 'GE DL No MH02 20090128158', 3: 'DO 27-07-2009', 4: 'Valid Till 26-07-2029 NT', 5: 'FORM', 6: 'AED 01-10-2011', 7: 'RULE 16 2', 8: 'AUTHORISATION TO DRIVE FOLLOWING CLASS', 9: 'OF VEHICLES THROUGHOUT INDIA', 10: 'DOJ', 11: 'LMV 19-09-2011',\n",
    "12: 'MCWG 27-07-2009', 13: 'DOB 27-09-1986 BG', 14: 'Name AVANI PATEL', 15: 'S/D/W Of NAVIN PATEL', 16: 'Add D-603 GOKUL RESIDENCY THAUKAR VILLAGE', 17: 'KANDIVALI E', 18: 'MUMBAI', 19: 'PIN 400101', 20: 'Signature/Thumb', 21: 'Signature ID of', 22: 'Jsuing Authority MHO02 2011287', 23: 'Impression of Holder'}\n",
    "details1"
   ]
  },
  {
   "cell_type": "code",
   "execution_count": 35,
   "metadata": {
    "ExecuteTime": {
     "end_time": "2019-01-16T06:31:00.875811Z",
     "start_time": "2019-01-16T06:31:00.865464Z"
    }
   },
   "outputs": [
    {
     "name": "stdout",
     "output_type": "stream",
     "text": [
      "{0: 'RENE fel Reig ir', 1: 'MAHARASHTRA STATE MOTOR DRIVING LICENCE', 2: 'DOI 1 1502-2018', 3: 'DL No MH01 20180006033', 4: 'TM Fa', 5: 'Valid Till 14-02-2038 NT', 6: '15-02-2018', 7: 'FAIRS RULE 16 2', 8: 'AUTHORISATION TO DRIVE FOLLOWING CLASS', 9: 'OF VEHICLES THROUGHOUT INDIA', 10: 'CoV', 11: 'LMV 16-02-2018- mm maa', 12: 'MCWG 15-02-2018', 13: 'DOB 11-12-1997 BG A', 14: 'Name BHUMIT ADIVAREKAR', 15: 'S/DMW of VIJAY ADIVAREKAR', 16: 'Add 3 421 RAMDOOT BLDG', 17: 'MP RCAD CURRY ROAD', 18: 'Mumbai MH', 19: '-PIN 400012 yong FerransSignature 1D ofBE Ah', 20: 'PIN 400012', 21: 'Signature/Thumb', 22: 'impression jon of Holder'}\n"
     ]
    }
   ],
   "source": [
    "details1 = {0: 'RENE fel Reig ir', 1: 'MAHARASHTRA STATE MOTOR DRIVING LICENCE', 2: 'DOI 1 1502-2018', 3: 'DL No MH01 20180006033', 4: 'TM Fa', 5: 'Valid Till 14-02-2038 NT', 6: '15-02-2018', 7: 'FAIRS RULE 16 2', 8: 'AUTHORISATION TO DRIVE FOLLOWING CLASS', 9: 'OF VEHICLES THROUGHOUT INDIA', 10: 'CoV', 11: 'LMV 16-02-2018- mm maa', 12: 'MCWG 15-02-2018', 13: 'DOB 11-12-1997 BG A', 14: 'Name BHUMIT ADIVAREKAR', 15: 'S/DMW of VIJAY ADIVAREKAR', 16: 'Add 3 421 RAMDOOT BLDG', 17: 'MP RCAD CURRY ROAD', 18: 'Mumbai MH', 19: '-PIN 400012 yong FerransSignature 1D ofBE Ah', 20: 'PIN 400012', 21: 'Signature/Thumb', 22: 'impression jon of Holder'}\n",
    "print(details1)"
   ]
  },
  {
   "cell_type": "code",
   "execution_count": 32,
   "metadata": {
    "ExecuteTime": {
     "end_time": "2019-01-16T06:25:39.125849Z",
     "start_time": "2019-01-16T06:25:39.120227Z"
    }
   },
   "outputs": [
    {
     "name": "stdout",
     "output_type": "stream",
     "text": [
      "{0: 'THE UNION OF INDIA', 1: 'EE I MAHARASHTRA STATE MOTOR DRIVING LICENCE', 2: 'DL No MH01 20130006033', 3: 'DO 1 15-02-2018', 4: 'aoa ad', 5: '15-02-2018', 6: 'RULE 16 2', 7: 'AUTHORISATION TO DRIVE FOLLOWING CLASS', 8: 'OF VEHICLES THROUGHQUT INDIA', 9: 'Cov', 10: 'LMV 16-02-2018', 11: 'MCWG 15-02-2018', 12: 'DOB 11-12-1997 BG A', 13: 'Name BHUMIT ADIVAREKAR', 14: 'S/DMW of VIJAY ADIVAREKAR', 15: 'Add 3 421 RAMDOOT BLDG', 16: 'MP ROAD CURRY ROAD', 17: 'Mumbai MH', 18: 'Nad zn', 19: 'Azim Ure', 20: 'PIN 400012', 21: 'Signature/Thumb', 22: 'Signature ID ofas', 23: 'issuing Authority MHO1', 24: 'Impression of Holder'}\n"
     ]
    }
   ],
   "source": [
    "details1 = {0: 'THE UNION OF INDIA', 1: 'EE I MAHARASHTRA STATE MOTOR DRIVING LICENCE',\n",
    "            2: 'DL No MH01 20130006033', 3: 'DO 1 15-02-2018', 4: 'aoa ad', 5: '15-02-2018',\n",
    "            6: 'RULE 16 2', 7: 'AUTHORISATION TO DRIVE FOLLOWING CLASS',\n",
    "            8: 'OF VEHICLES THROUGHQUT INDIA', 9: 'Cov', 10: 'LMV 16-02-2018',\n",
    "            11: 'MCWG 15-02-2018', 12: 'DOB 11-12-1997 BG A', 13: 'Name BHUMIT ADIVAREKAR',\n",
    "            14: 'S/DMW of VIJAY ADIVAREKAR', 15: 'Add 3 421 RAMDOOT BLDG',\n",
    "            16: 'MP ROAD CURRY ROAD', 17: 'Mumbai MH', 18: 'Nad zn', 19: 'Azim Ure',\n",
    "            20: 'PIN 400012', 21: 'Signature/Thumb', 22: 'Signature ID ofas',\n",
    "            23: 'issuing Authority MHO1', 24: 'Impression of Holder'}\n",
    "print(details1)"
   ]
  },
  {
   "cell_type": "code",
   "execution_count": 7,
   "metadata": {
    "ExecuteTime": {
     "end_time": "2019-01-16T05:16:56.907906Z",
     "start_time": "2019-01-16T05:16:56.894288Z"
    }
   },
   "outputs": [
    {
     "name": "stdout",
     "output_type": "stream",
     "text": [
      "NOLG STTT\n",
      "MAHARASHTRA STATE MOTOR DRIVING LICENCE\n",
      "DL No MHO01 20180006033\n",
      "DOI 15-02-2018\n",
      "arty w\n",
      "Valid Till 14-02-2038 NT\n",
      "15-02-2013\n",
      "AUTHORISATION TO DRIVE FOLLOWING CLASS\n",
      "cov\n",
      "15-02-2018\n",
      "MCWG 15-02-2018\n",
      "DOB 11-12-1997 BG A\n",
      "Name BHUMIT ADIVAREKAR\n",
      "S/DW of JAY ADIVAREKAR\n",
      "Add 3 421 RAMDOOT BLDG\n",
      "M P ROAD CURRY ROAD\n",
      "Mumbai MH\n",
      "OF Nd\n",
      "PIN 400012Signature ID of Ags Arn\n",
      "PIN 400012\n",
      "If IAL EF ersSuing Authority MHO1\n",
      "Impression of Holde\n"
     ]
    }
   ],
   "source": [
    "for i in values:\n",
    "    print(i)"
   ]
  },
  {
   "cell_type": "code",
   "execution_count": null,
   "metadata": {},
   "outputs": [],
   "source": [
    "DL NO\n",
    "Name\n",
    "Fathers Name\n",
    "Add\n",
    "PIN"
   ]
  },
  {
   "cell_type": "code",
   "execution_count": 59,
   "metadata": {
    "ExecuteTime": {
     "end_time": "2019-01-16T07:59:31.657156Z",
     "start_time": "2019-01-16T07:59:31.649125Z"
    }
   },
   "outputs": [
    {
     "data": {
      "text/plain": [
       "{0: '111 1',\n",
       " 1: '2 VIL ALMAHARASHTRA STATE MOTOR DRIVING LICENCE',\n",
       " 2: 'DOI 05-11-2008',\n",
       " 3: '2 DL No MHO1 20080116201',\n",
       " 4: 'w aid Tiff 04-11-2028 NT',\n",
       " 5: 'FORM 7RULE 16 2',\n",
       " 6: 'DLD 24-08-2016',\n",
       " 7: 'RUL',\n",
       " 8: 'AUTHORISATION TO DRIVE FOLLOWING CLASS22 IT IANA',\n",
       " 9: 'OF VEHICLES THROUGHOUT INDIA',\n",
       " 10: 'MCWG 05-11-2008',\n",
       " 11: 'DOB 19-04-1989 BG',\n",
       " 12: 'Name ONAL TINWALA',\n",
       " 13: 'S/D/W of RAJAB TINWALA',\n",
       " 14: 'Add 2ND FLR R/21 43/47 JEEVANBHAI BLDG',\n",
       " 15: 'MASTAN TANK ST MUMBAI',\n",
       " 16: 'PIN 400008',\n",
       " 17: 'Signature/Thumb',\n",
       " 18: 'S$gnature ID of a name',\n",
       " 19: '117 750 49 01 2016280',\n",
       " 20: 'Impression of Holder'}"
      ]
     },
     "execution_count": 59,
     "metadata": {},
     "output_type": "execute_result"
    }
   ],
   "source": [
    "details1"
   ]
  },
  {
   "cell_type": "code",
   "execution_count": 103,
   "metadata": {
    "ExecuteTime": {
     "end_time": "2019-01-16T10:26:15.814639Z",
     "start_time": "2019-01-16T10:26:15.804143Z"
    }
   },
   "outputs": [],
   "source": [
    "import re"
   ]
  },
  {
   "cell_type": "markdown",
   "metadata": {},
   "source": [
    "# Licence Labels extraction"
   ]
  },
  {
   "cell_type": "code",
   "execution_count": 127,
   "metadata": {
    "ExecuteTime": {
     "end_time": "2019-01-16T10:42:40.017863Z",
     "start_time": "2019-01-16T10:42:39.989694Z"
    }
   },
   "outputs": [
    {
     "data": {
      "text/plain": [
       "{'Address': '19 A 3RD FLR COLABA CHAMBER COLABA CROSS LANE MUMB3AI',\n",
       " 'DL NO': 'MH01 20060039783STH ANA',\n",
       " 'Date of Birth': '12-03-1987',\n",
       " \"Father's Name\": 'PRAKASH BHAUD',\n",
       " 'Name': 'ABHISHEK BHAUD',\n",
       " 'Pin Code': '400005'}"
      ]
     },
     "execution_count": 127,
     "metadata": {},
     "output_type": "execute_result"
    }
   ],
   "source": [
    "imp = {}\n",
    "num = 0\n",
    "for idx in range(len(details1)):\n",
    "    if 'DL No' in details1[idx]:\n",
    "        imp[\"DL NO\"] = details1[idx].split('DL No')[-1].strip()\n",
    "        del details1[idx]\n",
    "    elif details1[idx].startswith('DOB'):\n",
    "        dob = re.findall(\"([0-9]{2}\\-[0-9]{2}\\-[0-9]{4})\", details1[idx].split(' ', 1)[1])[0]\n",
    "        #imp[\"DOB\"] = details1[idx].split(' ', 1)[1].strip().split(r\"[0-9]{0,2}\\-[0-9]{0,2}\\-[0-9]{0,4}\", 1)[0]\n",
    "        imp[\"Date of Birth\"] = dob\n",
    "        del details1[idx]\n",
    "        imp[\"Name\"] = details1[idx + 1].split(' ', 1)[1].strip()\n",
    "        del details1[idx + 1]\n",
    "        try:\n",
    "            imp[\"Father's Name\"] = details1[idx + 2].split('of',1)[1].strip()\n",
    "            del details1[idx + 2]\n",
    "        except Exception as _:\n",
    "            imp[\"Father's Name\"] = details1[idx + 2].split('Of',1)[1].strip()\n",
    "            del details1[idx + 2]\n",
    "        i = 4\n",
    "        address = details1[idx + 3].split('Add', 1)[1].strip()\n",
    "        del details1[idx + 3]\n",
    "        while not details1[idx + i].startswith('PIN') and i < 8:\n",
    "            if details1[idx + i].isupper() != True:\n",
    "                del details1[idx + i]\n",
    "                i += 1\n",
    "                continue\n",
    "            address += ' ' + details1[idx + i]\n",
    "            del details1[idx + i]\n",
    "            i += 1\n",
    "        imp[\"Address\"] = address\n",
    "        imp[\"Pin Code\"] = details1[idx + i].split(' ', 1)[1]\n",
    "        del details1[idx + i]\n",
    "        break\n",
    "    elif details1[idx].startswith('Name'):\n",
    "        dob = re.findall(\"([0-9]{2}\\-[0-9]{2}\\-[0-9]{4})\", details1[idx - 1].split(' ', 1)[1])[0]\n",
    "        imp[\"Date of Birth\"] = dob\n",
    "        del details1[idx - 1]\n",
    "        imp[\"Name\"] = details1[idx][4:].strip()\n",
    "        del details1[idx]\n",
    "        try:\n",
    "            imp[\"Father's Name\"] = details1[idx + 2].split('of',1)[1].strip()\n",
    "            del details1[idx + 2]\n",
    "        except Exception as _:\n",
    "            imp[\"Father's Name\"] = details1[idx + 2].split('Of',1)[1].strip()\n",
    "            del details1[idx + 2]\n",
    "        i = 3\n",
    "        address = details1[idx + 2].split('Add', 1)[1].strip()\n",
    "        del details1[idx + 2]\n",
    "        while not details1[idx + i].startswith('PIN') and i < 7:\n",
    "            if details1[idx + i].isupper() != True:\n",
    "                del details1[idx + i]\n",
    "                i += 1\n",
    "                continue\n",
    "            address += ' ' + details1[idx + i]\n",
    "            del details1[idx + i]\n",
    "            i += 1\n",
    "        imp[\"Address\"] = address\n",
    "        imp[\"Pin Code\"] = details1[idx + i].split(' ', 1)[1]\n",
    "        del details1[idx + i]\n",
    "        break\n",
    "imp\n",
    "# details1\n",
    "# print(details1)"
   ]
  },
  {
   "cell_type": "code",
   "execution_count": 183,
   "metadata": {
    "ExecuteTime": {
     "end_time": "2019-01-16T14:20:05.578658Z",
     "start_time": "2019-01-16T14:20:05.573535Z"
    }
   },
   "outputs": [],
   "source": [
    "aadhar = {0: 'MOHAMMED MUTEEULLAH MOHAMMED', 1: 'WH a4 / Year of Birth 1994', 2: 'EY / Male', 3: '4622 7574 0201'}"
   ]
  },
  {
   "cell_type": "code",
   "execution_count": 186,
   "metadata": {
    "ExecuteTime": {
     "end_time": "2019-01-16T14:20:23.059047Z",
     "start_time": "2019-01-16T14:20:23.055410Z"
    }
   },
   "outputs": [],
   "source": [
    "aadhar = {0: 'AFA', 1: 'Praneet Shrihari Bomma', 2: 'DOB 04-10-1996', 3: '2808 4878 6547'}"
   ]
  },
  {
   "cell_type": "code",
   "execution_count": 189,
   "metadata": {
    "ExecuteTime": {
     "end_time": "2019-01-16T14:20:44.484711Z",
     "start_time": "2019-01-16T14:20:44.481940Z"
    }
   },
   "outputs": [],
   "source": [
    "aadhar = {0: 'Vidit Manoj Shah', 1: '/ 008 28/04/1990 Wik', 2: '/ MALE', 3: '4455 8760 7069', 4: 'AT-1T7 -'}"
   ]
  },
  {
   "cell_type": "code",
   "execution_count": 192,
   "metadata": {
    "ExecuteTime": {
     "end_time": "2019-01-16T14:20:54.717387Z",
     "start_time": "2019-01-16T14:20:54.712771Z"
    }
   },
   "outputs": [],
   "source": [
    "aadhar = {0: 'GOVERNMENT OF INDIA', 1: 'Praneet Shrihari Bomma', 2: 'DOB 04-10-1996', 3: 'Ea EFs', 4: 'RIE', 5: 'GenderMale', 6: '2808 4878 6547'}"
   ]
  },
  {
   "cell_type": "code",
   "execution_count": 134,
   "metadata": {
    "ExecuteTime": {
     "end_time": "2019-01-16T12:42:48.033395Z",
     "start_time": "2019-01-16T12:42:48.023274Z"
    }
   },
   "outputs": [
    {
     "data": {
      "text/plain": [
       "{0: 'GOVERNMENT OF INDIA',\n",
       " 1: 'Praneet Shrihari Bomma',\n",
       " 2: 'DOB 04-10-1996',\n",
       " 3: 'Ea EFs',\n",
       " 4: 'RIE',\n",
       " 5: 'GenderMale',\n",
       " 6: '2808 4878 6547'}"
      ]
     },
     "execution_count": 134,
     "metadata": {},
     "output_type": "execute_result"
    }
   ],
   "source": [
    "aadhar"
   ]
  },
  {
   "cell_type": "code",
   "execution_count": 193,
   "metadata": {
    "ExecuteTime": {
     "end_time": "2019-01-16T14:20:58.108832Z",
     "start_time": "2019-01-16T14:20:58.103471Z"
    }
   },
   "outputs": [
    {
     "data": {
      "text/plain": [
       "['2808 4878 6547',\n",
       " 'GenderMale',\n",
       " 'RIE',\n",
       " 'Ea EFs',\n",
       " 'DOB 04-10-1996',\n",
       " 'Praneet Shrihari Bomma',\n",
       " 'GOVERNMENT OF INDIA']"
      ]
     },
     "execution_count": 193,
     "metadata": {},
     "output_type": "execute_result"
    }
   ],
   "source": [
    "temp = []\n",
    "for i, j in aadhar.items():\n",
    "    temp.append(j)\n",
    "temp = temp[::-1]\n",
    "temp"
   ]
  },
  {
   "cell_type": "markdown",
   "metadata": {},
   "source": [
    "# Aadhar Labels Extraction"
   ]
  },
  {
   "cell_type": "code",
   "execution_count": 194,
   "metadata": {
    "ExecuteTime": {
     "end_time": "2019-01-16T14:20:59.854048Z",
     "start_time": "2019-01-16T14:20:59.845181Z"
    }
   },
   "outputs": [
    {
     "data": {
      "text/plain": [
       "{'Aadhar No': '2808 4878 6547',\n",
       " 'Date of Birth': '04-10-1996',\n",
       " 'Gender': 'Male',\n",
       " 'Name': 'Praneet Shrihari Bomma'}"
      ]
     },
     "execution_count": 194,
     "metadata": {},
     "output_type": "execute_result"
    }
   ],
   "source": [
    "imp = {}\n",
    "num = 0\n",
    "\n",
    "for idx in range(len(temp)):\n",
    "    if re.search(\"[0-9]{4}\\s[0-9]{4}\\s[0-9]{4}\", temp[idx]):\n",
    "        try:\n",
    "            imp['Aadhar No'] = re.findall(\"[0-9]{4}\\s[0-9]{4}\\s[0-9]{4}\", temp[idx])[0]\n",
    "        except Exception as _:\n",
    "            imp['Aadhar No'] = \"Not Found\"\n",
    "        if temp[idx + 1].endswith(\"Female\") or temp[idx + 1].endswith(\"FEMALE\"):\n",
    "            imp[\"Gender\"] = \"Female\"\n",
    "        elif temp[idx + 1].endswith(\"Male\") or temp[idx + 1].endswith(\"MALE\"):\n",
    "            imp[\"Gender\"] = \"Male\"\n",
    "        elif temp[idx + 2].endswith(\"Female\") or temp[idx + 2].endswith(\"FEMALE\"):\n",
    "            imp[\"Gender\"] = \"Female\"\n",
    "        elif temp[idx + 2].endswith(\"Male\") or temp[idx + 2].endswith(\"MALE\"):\n",
    "            imp[\"Gender\"] = \"Male\"\n",
    "        elif temp[idx + 3].endswith(\"Female\") or temp[idx + 3].endswith(\"FEMALE\"):\n",
    "            imp[\"Gender\"] = \"Female\"\n",
    "        elif temp[idx + 3].endswith(\"Male\") or temp[idx + 3].endswith(\"MALE\"):\n",
    "            imp[\"Gender\"] = \"Male\"\n",
    "    elif re.search(\"[0-9]{2}\\-|/[0-9]{2}\\-|/[0-9]{4}\", temp[idx]):\n",
    "        try:\n",
    "            imp[\"Date of Birth\"] = re.findall(\"[0-9]{2}\\-[0-9]{2}\\-[0-9]{4}\", temp[idx])[0]\n",
    "        except Exception as e:\n",
    "            imp[\"Date of Birth\"] = re.findall(\"[0-9]{2}/[0-9]{2}/[0-9]{4}\", temp[idx])[0]\n",
    "        imp[\"Name\"] = temp[idx + 1]\n",
    "    elif \"Year of Birth\" in temp[idx]:\n",
    "        try:\n",
    "            imp[\"Year of Birth\"] = re.findall(\"[0-9]{4}\", temp[idx])[0]\n",
    "        except Exception as _:\n",
    "            imp[\"Year of Birth\"] = \"Not Found\"\n",
    "        imp[\"Name\"] = temp[idx + 1]\n",
    "imp"
   ]
  },
  {
   "cell_type": "code",
   "execution_count": 174,
   "metadata": {
    "ExecuteTime": {
     "end_time": "2019-01-16T14:02:43.945833Z",
     "start_time": "2019-01-16T14:02:43.942377Z"
    }
   },
   "outputs": [
    {
     "data": {
      "text/plain": [
       "['28/04/1990']"
      ]
     },
     "execution_count": 174,
     "metadata": {},
     "output_type": "execute_result"
    }
   ],
   "source": [
    "check = \"/ 008 28/04/1990 Wik\"\n",
    "re.findall(\"[0-9]{2}/[0-9]{2}/[0-9]{4}\", check)"
   ]
  },
  {
   "cell_type": "code",
   "execution_count": null,
   "metadata": {},
   "outputs": [],
   "source": []
  },
  {
   "cell_type": "code",
   "execution_count": null,
   "metadata": {},
   "outputs": [],
   "source": []
  },
  {
   "cell_type": "code",
   "execution_count": null,
   "metadata": {},
   "outputs": [],
   "source": []
  },
  {
   "cell_type": "code",
   "execution_count": 94,
   "metadata": {
    "ExecuteTime": {
     "end_time": "2019-01-15T09:40:29.758288Z",
     "start_time": "2019-01-15T09:40:05.776293Z"
    }
   },
   "outputs": [
    {
     "data": {
      "image/png": "[encoded data removed]",
      "text/plain": [
       "<Figure size 432x288 with 1 Axes>"
      ]
     },
     "metadata": {},
     "output_type": "display_data"
    }
   ],
   "source": [
    "img = cv2.imread('ignore/mp6.jpg', 0)\n",
    "# img = cv2.resize(img, (600, 300))\n",
    "# img = cv2.adaptiveThreshold(img, 255, cv2.ADAPTIVE_THRESH_GAUSSIAN_C, cv2.THRESH_BINARY_INV, 15, 5)\n",
    "\n",
    "kernel_sharpening = np.array([[-1,-1,-1], \n",
    "                              [-1, 9,-1],\n",
    "                              [-1,-1,-1]])\n",
    "\n",
    "hist,bins = np.histogram(img,256,[0,256])\n",
    "plt.plot(hist), \n",
    "plt.show()\n",
    "mean = int((np.argmax(hist) + np.argmin(hist)) / 2)\n",
    "\n",
    "\n",
    "\n",
    "# img = cv2.GaussianBlur(img, (5, 5), 0)\n",
    "# img = cv2.adaptiveThreshold(img,255, cv2.ADAPTIVE_THRESH_GAUSSIAN_C, cv2.THRESH_BINARY,15,5)\n",
    "_, img = cv2.threshold(img, np.argmax(hist) - 15, 255, cv2.THRESH_BINARY)\n",
    "# img = cv2.GaussianBlur(img, (5, 5), 0)\n",
    "# img = cv2.filter2D(img, -1, kernel_sharpening)\n",
    "\n",
    "kernel = np.ones((5, 2), np.uint8)\n",
    "\n",
    "# test = cv2.morphologyEx(OBinary, cv2.MORPH_OPEN, kernel)\n",
    "# test = cv2.dilate(img, kernel, iterations = 1)\n",
    "\n",
    "# test = cv2.Canny(test, 30, 150)\n",
    "\n",
    "# _, ctrs_line, _ = cv2.findContours(test.copy(), cv2.RETR_EXTERNAL, cv2.CHAIN_APPROX_SIMPLE)\n",
    "# sorted_ctrs_line = sorted(ctrs_line, key=lambda ctr: cv2.boundingRect(ctr)[1])\n",
    "# # img = cv2.copyMakeBorder(img, 40, 40, 40, 40, cv2.BORDER_CONSTANT)\n",
    "# # img = cv2.resize(img, (32, 32))\n",
    "# cv2.imshow('test', test)\n",
    "# cv2.waitKey(0)\n",
    "# cv2.destroyAllWindows()\n",
    "# for i, ctr_line in enumerate(sorted_ctrs_line):\n",
    "#     x_line, y_line, w_line, h_line = cv2.boundingRect(ctr_line)\n",
    "#     if w_line * h_line < 200 or h_line < 20:\n",
    "#         continue\n",
    "#     print(x_line, y_line, w_line, h_line)\n",
    "#     cropped_line = img[y_line:y_line + h_line, x_line:x_line + w_line]\n",
    "#     cropped_line = cv2.copyMakeBorder(cropped_line, 1,1,1,1,cv2.BORDER_CONSTANT)\n",
    "#     cropped_line = cv2.resize(cropped_line, (32, 32))\n",
    "#     cropped_line = cv2.copyMakeBorder(cropped_line, 2,2,2,2,cv2.BORDER_CONSTANT)\n",
    "#     cropped_line = cv2.resize(cropped_line, (32, 32))\n",
    "#     cv2.imshow('test', cropped_line)\n",
    "#     cv2.waitKey(0)\n",
    "#     cv2.destroyAllWindows()\n",
    "#     output = model.predict_classes(cropped_line.reshape(-1, 32, 32, 1))\n",
    "#     print(output)\n",
    "\n",
    "# for i, ctr_line in enumerate(sorted_ctrs_line):\n",
    "#     # getting coordinates of the line contour\n",
    "#     x_line, y_line, w_line, h_line = cv2.boundingRect(ctr_line)\n",
    "    \n",
    "cv2.imshow('test', img)\n",
    "cv2.waitKey(0)\n",
    "cv2.destroyAllWindows()\n",
    "\n",
    "cv2.destroyAllWindows()"
   ]
  },
  {
   "cell_type": "code",
   "execution_count": null,
   "metadata": {},
   "outputs": [],
   "source": []
  },
  {
   "cell_type": "code",
   "execution_count": 3,
   "metadata": {
    "ExecuteTime": {
     "end_time": "2019-01-15T07:27:56.755181Z",
     "start_time": "2019-01-15T07:27:56.750565Z"
    }
   },
   "outputs": [],
   "source": [
    "import cv2\n",
    "import numpy as np"
   ]
  },
  {
   "cell_type": "code",
   "execution_count": 23,
   "metadata": {
    "ExecuteTime": {
     "end_time": "2019-01-15T07:49:59.449334Z",
     "start_time": "2019-01-15T07:49:57.395831Z"
    }
   },
   "outputs": [],
   "source": [
    "img = cv2.imread('ignore/test1.jpg', 0)\n",
    "# img = cv2.resize(img, (600, 300))\n",
    "# img = cv2.adaptiveThreshold(img, 255, cv2.ADAPTIVE_THRESH_GAUSSIAN_C, cv2.THRESH_BINARY_INV, 15, 5)\n",
    "\n",
    "kernel_sharpening = np.array([[-1,-1,-1], \n",
    "                              [-1, 9,-1],\n",
    "                              [-1,-1,-1]])\n",
    "# img = cv2.GaussianBlur(img, (5, 5), 0)\n",
    "# img = cv2.adaptiveThreshold(img,255, cv2.ADAPTIVE_THRESH_GAUSSIAN_C, cv2.THRESH_BINARY_INV,15,5)\n",
    "_, img = cv2.threshold(img, 212, 255, cv2.THRESH_BINARY_INV)\n",
    "# img = cv2.GaussianBlur(img, (5, 5), 0)\n",
    "# img = cv2.filter2D(img, -1, kernel_sharpening)\n",
    "\n",
    "kernel = np.ones((5, 2), np.uint8)\n",
    "\n",
    "# test = cv2.morphologyEx(OBinary, cv2.MORPH_OPEN, kernel)\n",
    "# test = cv2.dilate(img, kernel, iterations = 1)\n",
    "\n",
    "# test = cv2.Canny(test, 30, 150)\n",
    "\n",
    "# _, ctrs_line, _ = cv2.findContours(test.copy(), cv2.RETR_EXTERNAL, cv2.CHAIN_APPROX_SIMPLE)\n",
    "# sorted_ctrs_line = sorted(ctrs_line, key=lambda ctr: cv2.boundingRect(ctr)[1])\n",
    "# # img = cv2.copyMakeBorder(img, 40, 40, 40, 40, cv2.BORDER_CONSTANT)\n",
    "# # img = cv2.resize(img, (32, 32))\n",
    "# cv2.imshow('test', test)\n",
    "# cv2.waitKey(0)\n",
    "# cv2.destroyAllWindows()\n",
    "# for i, ctr_line in enumerate(sorted_ctrs_line):\n",
    "#     x_line, y_line, w_line, h_line = cv2.boundingRect(ctr_line)\n",
    "#     if w_line * h_line < 200 or h_line < 20:\n",
    "#         continue\n",
    "#     print(x_line, y_line, w_line, h_line)\n",
    "#     cropped_line = img[y_line:y_line + h_line, x_line:x_line + w_line]\n",
    "#     cropped_line = cv2.copyMakeBorder(cropped_line, 1,1,1,1,cv2.BORDER_CONSTANT)\n",
    "#     cropped_line = cv2.resize(cropped_line, (32, 32))\n",
    "#     cropped_line = cv2.copyMakeBorder(cropped_line, 2,2,2,2,cv2.BORDER_CONSTANT)\n",
    "#     cropped_line = cv2.resize(cropped_line, (32, 32))\n",
    "#     cv2.imshow('test', cropped_line)\n",
    "#     cv2.waitKey(0)\n",
    "#     cv2.destroyAllWindows()\n",
    "#     output = model.predict_classes(cropped_line.reshape(-1, 32, 32, 1))\n",
    "#     print(output)\n",
    "\n",
    "# for i, ctr_line in enumerate(sorted_ctrs_line):\n",
    "#     # getting coordinates of the line contour\n",
    "#     x_line, y_line, w_line, h_line = cv2.boundingRect(ctr_line)\n",
    "    \n",
    "cv2.imshow('test', img)\n",
    "cv2.waitKey(0)\n",
    "cv2.destroyAllWindows()\n",
    "\n",
    "cv2.destroyAllWindows()"
   ]
  },
  {
   "cell_type": "code",
   "execution_count": null,
   "metadata": {},
   "outputs": [],
   "source": []
  },
  {
   "cell_type": "code",
   "execution_count": null,
   "metadata": {},
   "outputs": [],
   "source": []
  },
  {
   "cell_type": "code",
   "execution_count": null,
   "metadata": {},
   "outputs": [],
   "source": []
  },
  {
   "cell_type": "code",
   "execution_count": null,
   "metadata": {},
   "outputs": [],
   "source": []
  },
  {
   "cell_type": "code",
   "execution_count": 117,
   "metadata": {
    "ExecuteTime": {
     "end_time": "2019-01-05T03:46:52.985210Z",
     "start_time": "2019-01-05T03:46:52.959157Z"
    }
   },
   "outputs": [],
   "source": [
    "def pre_process(template_type, image_path):\n",
    "    image = cv2.imread(image_path)\n",
    "    \n",
    "    kernel_sharpening = np.array([[-1,-1,-1], \n",
    "                              [-1, 9,-1],\n",
    "                              [-1,-1,-1]])\n",
    "#     image = cv2.medianBlur(image, 5)\n",
    "#     image = cv2.filter2D(image, -1, kernel_sharpening)\n",
    "#     image = cv2.medianBlur(image, 5)\n",
    "#     image = cv2.filter2D(image, -1, kernel_sharpening)\n",
    "#     image = cv2.medianBlur(image, 5)\n",
    "\n",
    "    image = cv2.GaussianBlur(image, (5, 5), 0)\n",
    "    image = cv2.filter2D(image, -1, kernel_sharpening)\n",
    "    image = cv2.GaussianBlur(image, (5, 5), 0)\n",
    "    image = cv2.filter2D(image, -1, kernel_sharpening)\n",
    "    image = cv2.GaussianBlur(image, (5, 5), 0)\n",
    "#     showImage('luminance', image)\n",
    "    lab = cv2.cvtColor(image, cv2.COLOR_BGR2LAB)\n",
    "\n",
    "    luminance, a, b = cv2.split(lab)\n",
    "\n",
    "    hist,bins = np.histogram(luminance,256,[0,256])\n",
    "\n",
    "    mean = int((np.argmax(hist) + np.argmin(hist)) / 2)\n",
    "\n",
    "    luminance[luminance > mean] = 255\n",
    "    luminance[luminance <= mean] = 0\n",
    "\n",
    "#     cv2.imwrite('luminance.jpg', luminance)\n",
    "\n",
    "    template = cv2.imread(template_type, 0)\n",
    "    \n",
    "    ret3, template = cv2.threshold(template, 220, 255, cv2.THRESH_BINARY_INV + cv2.THRESH_OTSU)\n",
    "\n",
    "    luminance = np.subtract(template, luminance)\n",
    "    \n",
    "    kernel = np.ones((2, 2), np.uint8)\n",
    "    luminance = cv2.erode(luminance, kernel, iterations=1)\n",
    "    \n",
    "    luminance = np.invert(luminance)\n",
    "#     showImage('luminance', luminance)\n",
    "#     text = pyt.image_to_string(luminance)\n",
    "#     data = text.replace(\"#\", \"4\").replace(\"'\", \"\").replace('\"', '').replace('!', 'I').replace(']', 'I').upper().split('\\n')\n",
    "    \n",
    "    return luminance\n",
    "\n",
    "def get_text(image):\n",
    "    \n",
    "    # getting edges of the text in image\n",
    "    image_edges = cv2.Canny(image, 30, 150)\n",
    "    \n",
    "    \n",
    "    # dilating image to detect individual lines\n",
    "    kernel_line = np.ones((2, 100), np.uint8)\n",
    "    dilated_line = cv2.dilate(image_edges, kernel_line, iterations=1)\n",
    "    \n",
    "    # finding contours of the line\n",
    "    im2, ctrs_line, hier = cv2.findContours(dilated_line.copy(), cv2.RETR_EXTERNAL, cv2.CHAIN_APPROX_SIMPLE)\n",
    "    sorted_ctrs_line = sorted(ctrs_line, key=lambda ctr: cv2.boundingRect(ctr)[1])\n",
    "    \n",
    "    text = []\n",
    "\n",
    "    for i, ctr_line in enumerate(sorted_ctrs_line):\n",
    "        # getting coordinates of the line contour\n",
    "        x_line, y_line, w_line, h_line = cv2.boundingRect(ctr_line)\n",
    "        if w_line * h_line < 3000 or w_line * h_line > 50000 or h_line <= 20:\n",
    "            continue\n",
    "        cropped_line = image[y_line:y_line + h_line, x_line:x_line + w_line]\n",
    "        # cropped_line = np.invert(cropped_line)\n",
    "        cropped_line= cv2.copyMakeBorder(cropped_line,10,10,10,10,cv2.BORDER_CONSTANT,value=[255, 255, 255])\n",
    "#         showImage('test', cropped_line)\n",
    "        line_text = pyt.image_to_string(cropped_line)\n",
    "        line_text = line_text.replace('/', 'i').replace(\"#\", \"4\").replace(\"'\", \"\").replace('\"', '').replace('!', 'I').replace(']', 'I').upper()\n",
    "        if line_text != '':\n",
    "#             print(line_text)\n",
    "            text.append(line_text)\n",
    "    return text\n",
    "\n",
    "def showImage(title, image):\n",
    "    cv2.imshow(title, image)\n",
    "    cv2.waitKey(0)\n",
    "    cv2.destroyAllWindows()"
   ]
  },
  {
   "cell_type": "code",
   "execution_count": 55,
   "metadata": {
    "ExecuteTime": {
     "end_time": "2019-01-05T01:53:50.023102Z",
     "start_time": "2019-01-05T01:53:42.846430Z"
    }
   },
   "outputs": [
    {
     "name": "stdout",
     "output_type": "stream",
     "text": [
      "CSUPR6644H\n",
      "FOR WR AM { FATHERS NAME\n",
      "['CSUPR6644H', 'FOR WR AM { FATHERS NAME']\n"
     ]
    }
   ],
   "source": [
    "test = pre_process('pancard_template.jpg', 'test4.png')\n",
    "text = get_text(test)\n",
    "print(text)"
   ]
  },
  {
   "cell_type": "code",
   "execution_count": null,
   "metadata": {},
   "outputs": [],
   "source": []
  },
  {
   "cell_type": "code",
   "execution_count": 69,
   "metadata": {
    "ExecuteTime": {
     "end_time": "2019-01-05T02:26:21.200242Z",
     "start_time": "2019-01-05T02:26:21.195126Z"
    }
   },
   "outputs": [],
   "source": [
    "import os"
   ]
  },
  {
   "cell_type": "code",
   "execution_count": 118,
   "metadata": {
    "ExecuteTime": {
     "end_time": "2019-01-05T03:47:45.360442Z",
     "start_time": "2019-01-05T03:47:02.318709Z"
    }
   },
   "outputs": [
    {
     "name": "stdout",
     "output_type": "stream",
     "text": [
      "['CSUPR6644H']\n",
      "['CSUPRBB644H', 'WIIPUL SINGH RAGHUVANSHI', '©»\\n&\\n(3\\n=\\nW\\nSA', '2RIJ BIHARI SINGH', 'ZEEI']\n",
      "['CSUPRBB644H', 'WIIPUL SINGH RAGHUVANSHI', '©»\\n&\\n(3\\n=\\nW\\nSA', '2RIJ BIHARI SINGH', 'ZEEI']\n",
      "['CSUPRGSO44H', 'A\\n{=\\nA\\n\\n—V', 'VIPUL SINGH RAGHUVANSHII', 'ES RE\\nTY OND ME', 'BRIJ BIHARI SINGH', '08I11I1897']\n",
      "['CSUPRG644H', 'A NAME', 'VIPUL SINGH RAGHUVANSHI', 'TOT HT ITH I FATHERS NAME', 'BRI1J BIHAR} SINGH', '~~ ~ . .\\nHA RT DE. DATE OF BIRTH', '08I11I1997']\n",
      "['CSUPR6644H']\n",
      "['CSUPRGBE44H', 'ATH I NAME', 'VIPUL SINGH RAGHUVANSHI', 'T9QT EHT 1H I FATHERS NAME', 'BRIJ BIHARI SINGH']\n",
      "['CSUPRG643H', 'AE']\n",
      "['VIPUL SINGH RAGRHUVARNSHI', 'BRIJ BIHARI SINGH', 'LOIS', '08I11I1997', 'LR, ON\\nETA RE RR A RE TT A A A LTT YL I IMCS THR YUMEINT LPT 4 YT LARRY LN} LLP']\n",
      "['CSUPR6644H', 'J I NAME', 'VIPUL SINGH RAGHUVANSHI', '{OAT &T 99 I FATHERS NAME', 'BRIJ BIHARI SINGH']\n",
      "['[180\\n\\nLE']\n",
      "['[180\\n\\nLE']\n",
      "['CSUPR6644H', 'I NLAME', 'VIE JL SINGH RAGHUVANSHI', 'TFT WT AY I FATHERS NAME', 'BRIJ BIHARI SINGH']\n",
      "['CSUPRG644H', 'A NAME', 'VIPUL SINGH RAGHUVANSHI', 'TOT HT ITH I FATHERS NAME', 'BRI1J BIHAR} SINGH', '~~ ~ . .\\nHA RT DE. DATE OF BIRTH', '08I11I1997']\n",
      "['CSUPR6644H', 'J I NAME', 'VIPUL SINGH RAGHUVANSHI', '{OAT &T 99 I FATHERS NAME', 'BRIJ BIHARI SINGH']\n",
      "['CSUPRG644H', 'VYHPUL SINGH RAGHUVANSHI', 'ON', '2RIJ BIHARI SINGH', '08I11I1997']\n",
      "['CSUPR6644H', 'HY I NAME', 'BRIJ BIHARI SINGH']\n",
      "['CSUPR6644H', 'LE FR DM 2 ER', 'OT J MAME', 'VIPUL SINGH RAGHUVANSHI', '3\\n\\nZT TRY\\n\\n“IN', 'BRIJ BIHARI SINGH', 'A']\n",
      "['CSUPRGG44H', '“TQ I NAME']\n",
      "['CSUPR6644H', 'QJ1¥ I NAME', '{OAR SHT ATH I FATHERS NAME', 'BRIJ BIHARI SINGH']\n",
      "['CSUPR6644H', '2\\n\\nJD\\n\\n4\\n\\nI NAME', 'VIPUL SINGH RAGHUVANSHI', 'FOAT 657 TH I FATHERS NAME', 'BRIJ BIHARI SINGH']\n",
      "['5\\n\\nLO\\nFRG\\n\\n \\n\\nLL I 0-1', 'FAN\\n\\nJAN\\n\\nSHI', 'ARM', '08I11I1997']\n",
      "['CSUPRG6644H']\n",
      "['CSUPRBB644H', 'WIIPUL SINGH RAGHUVANSHI', '©»\\n&\\n(3\\n=\\nW\\nSA', '2RIJ BIHARI SINGH', 'ZEEI']\n"
     ]
    }
   ],
   "source": [
    "for i in os.listdir('pancards/'):\n",
    "    test = pre_process('pancard_template.jpg', 'pancards/' + i)\n",
    "    text = get_text(test)\n",
    "    print(text)"
   ]
  },
  {
   "cell_type": "code",
   "execution_count": null,
   "metadata": {},
   "outputs": [],
   "source": []
  },
  {
   "cell_type": "code",
   "execution_count": 46,
   "metadata": {
    "ExecuteTime": {
     "end_time": "2019-01-08T11:07:56.820017Z",
     "start_time": "2019-01-08T11:07:56.815225Z"
    }
   },
   "outputs": [],
   "source": [
    "def clean_text(text_list):\n",
    "    my_list = []\n",
    "    for i in text_list:\n",
    "        if i != ' ' or i != '  ' or i != '':\n",
    "            i = re.sub('[^A-Za-z0-9-/ ]+', '', i)\n",
    "            shortword = re.compile(r'\\W*\\b[^0-9/]\\w{1,2}\\b')\n",
    "            i = shortword.sub('', i)\n",
    "            i = i.lstrip()\n",
    "            i = i.rstrip()\n",
    "            i = re.sub('\\s{2,}', '', i) \n",
    "            if i == '':\n",
    "                continue\n",
    "            my_list.append(i)\n",
    "    return my_list"
   ]
  },
  {
   "cell_type": "code",
   "execution_count": null,
   "metadata": {},
   "outputs": [],
   "source": []
  },
  {
   "cell_type": "code",
   "execution_count": 17,
   "metadata": {
    "ExecuteTime": {
     "end_time": "2019-01-15T07:33:04.064151Z",
     "start_time": "2019-01-15T07:33:02.784969Z"
    }
   },
   "outputs": [],
   "source": [
    "import cv2\n",
    "import matplotlib.pyplot as plt\n",
    "import numpy as np\n",
    "import pytesseract as pyt\n",
    "import re"
   ]
  },
  {
   "cell_type": "code",
   "execution_count": 65,
   "metadata": {
    "ExecuteTime": {
     "end_time": "2019-01-15T09:12:45.792701Z",
     "start_time": "2019-01-15T09:12:41.787805Z"
    }
   },
   "outputs": [
    {
     "name": "stdout",
     "output_type": "stream",
     "text": [
      "(801, 1421, 3)\n",
      "229\n"
     ]
    }
   ],
   "source": [
    "image = cv2.imread('ignore/test1.jpg')\n",
    "# image = cv2.resize(image, None, fx = 0.3, fy = 0.3)\n",
    "# cv2.imshow('title', image)\n",
    "# cv2.waitKey(0)\n",
    "# image = image[450:1080, 0:900]\n",
    "print(image.shape)\n",
    "\n",
    "kernel_sharpening = np.array([[-1,-1,-1], \n",
    "                              [-1, 9,-1],\n",
    "                              [-1,-1,-1]])\n",
    "\n",
    "image = cv2.GaussianBlur(image, (5, 5), 0)\n",
    "image = cv2.filter2D(image, -1, kernel_sharpening)\n",
    "image = cv2.GaussianBlur(image, (3, 3), 0)\n",
    "image = cv2.filter2D(image, -1, kernel_sharpening)\n",
    "image = cv2.GaussianBlur(image, (3, 3), 0)\n",
    "\n",
    "# cv2.imshow('title', image)\n",
    "# cv2.waitKey(0)\n",
    "\n",
    "lab = cv2.cvtColor(image, cv2.COLOR_BGR2LAB)\n",
    "luminance, a, b = cv2.split(lab)\n",
    "\n",
    "# luminance, a, b = cv2.split(image)\n",
    "# b,bins = np.histogram(luminance,256,[0,256])\n",
    "# g,bins = np.histogram(a,256,[0,256])\n",
    "# r,bins = np.histogram(b,256,[0,256])\n",
    "# plt.plot(b), \n",
    "# plt.show()\n",
    "# plt.plot(g)\n",
    "# plt.show()\n",
    "# plt.plot(r)\n",
    "# plt.show()\n",
    "\n",
    "# cv2.imshow('title', b)\n",
    "# cv2.waitKey(0)\n",
    "\n",
    "hist,bins = np.histogram(luminance,256,[0,256])\n",
    "\n",
    "print(np.argmax(hist))\n",
    "\n",
    "luminance = np.clip(luminance, np.argmax(hist) - 15, np.argmax(hist) + 15)\n",
    "\n",
    "luminance[luminance == np.argmax(hist) - 15] = 0\n",
    "luminance[luminance == np.argmax(hist) + 15] = 255\n",
    "luminance[luminance == 255] = 0\n",
    "# luminance[(luminance > np.argmax(hist) - 15) and (luminance < np.argmax(hist) + 15)] = 255\n",
    "\n",
    "# luminance[luminance > np.argmax(hist) - 15] = 255\n",
    "# luminance[luminance < np.argmax(hist) - 15] = 0\n",
    "# luminance[luminance < np.argmax(hist) + 15] = 255\n",
    "# luminance[luminance > np.argmax(hist) + 15] = 255\n",
    "\n",
    "# mean = int((np.argmax(hist) + np.argmin(hist)) / 2)\n",
    "\n",
    "# mean = np.argmax(hist)\n",
    "# plt.plot(hist)\n",
    "# plt.show()\n",
    "# luminance[luminance > mean] = 255\n",
    "# luminance[luminance <= mean] = 0\n",
    "\n",
    "# image = cv2.GaussianBlur(image, (3, 3), 0)\n",
    "# image = cv2.filter2D(image, -1, kernel_sharpening)\n",
    "# image = cv2.Laplacian(image, cv2.CV_64F)\n",
    "# image = cv2.Canny(image, 0, 10)\n",
    "\n",
    "# showImage('lines', dilated_line)\n",
    "\n",
    "# # finding contours of the line\n",
    "# _, ctrs_line, _ = cv2.findContours(image.copy(), cv2.RETR_EXTERNAL, cv2.CHAIN_APPROX_SIMPLE)\n",
    "# sorted_ctrs_line = sorted(ctrs_line, key=lambda ctr: cv2.boundingRect(ctr)[3])\n",
    "\n",
    "# x_line, y_line, w_line, h_line = cv2.boundingRect(sorted_ctrs_line[-1])\n",
    "# print(x_line, y_line, w_line, h_line)\n",
    "\n",
    "# cropped_line = image[y_line:y_line + h_line, x_line:x_line + w_line]\n",
    "\n",
    "# for i, ctr_line in enumerate(sorted_ctrs_line):\n",
    "#     # getting coordinates of the line contour\n",
    "#     x_line, y_line, w_line, h_line = cv2.boundingRect(ctr_line)\n",
    "#     if w_line * h_line < 3000 or w_line * h_line > 50000:\n",
    "#         continue\n",
    "\n",
    "#     cropped_line = image[y_line:y_line + h_line, x_line:x_line + w_line]\n",
    "#     blac = np.invert(cropped_line)\n",
    "#     cv2.imwrite('bdgdfg' + str(i) + '.jpg', blac)\n",
    "\n",
    "#     testing = og_image[y_line:y_line + h_line, x_line:x_line + w_line]\n",
    "\n",
    "cv2.imshow('title', luminance)\n",
    "cv2.waitKey(0)\n",
    "\n",
    "text = pyt.image_to_string(luminance, config=('--oem 1 --psm 3'))\n",
    "data = text.replace(\"#\", \"4\").replace(\"'\", \"\").replace('\"', '').replace('!', 'I').replace(']', 'I').upper().split('\\n')\n",
    "# clean_text(data)\n",
    "# print(data)\n",
    "# cv2.imshow('title', luminance)\n",
    "# cv2.waitKey(0)\n",
    "# cv2.imshow('title', cv2.resize(a, None, fx = 0.5, fy = 0.5))\n",
    "# cv2.waitKey(0)\n",
    "# cv2.imshow('title', cv2.resize(b, None, fx = 0.5, fy = 0.5))\n",
    "# cv2.waitKey(0)\n",
    "cv2.destroyAllWindows()"
   ]
  },
  {
   "cell_type": "code",
   "execution_count": null,
   "metadata": {},
   "outputs": [],
   "source": [
    "BE CE\n",
    "INCOME TAX DEPARTMENT ZL GOVLOF INDIA\n",
    "= SET = IE\n",
    "PERMANENT ACCOUNT NUMBER CARD\n",
    "CSUPR6644H\n",
    "RE MAME\n",
    "VIPUL SINGH RAGHUVANSHI\n",
    "ATT ITH [ FATHERS NAME\n",
    "BRIJ BIHARI SINGH\n",
    "TEETER D > OF BIR\n",
    "08/11/1997\n",
    "WIPED\n",
    "GTATHY [ SIGNATURE"
   ]
  },
  {
   "cell_type": "code",
   "execution_count": null,
   "metadata": {},
   "outputs": [],
   "source": []
  },
  {
   "cell_type": "code",
   "execution_count": null,
   "metadata": {},
   "outputs": [],
   "source": []
  },
  {
   "cell_type": "code",
   "execution_count": null,
   "metadata": {},
   "outputs": [],
   "source": []
  },
  {
   "cell_type": "code",
   "execution_count": 1,
   "metadata": {
    "ExecuteTime": {
     "end_time": "2018-12-31T05:34:09.568414Z",
     "start_time": "2018-12-31T05:33:59.334766Z"
    }
   },
   "outputs": [],
   "source": [
    "import cv2\n",
    "import os\n",
    "import shutil\n",
    "import numpy as np\n",
    "import matplotlib.pyplot as plt\n",
    "from PIL import Image\n",
    "import thinning\n",
    "import pytesseract as pyt\n",
    "import imutils"
   ]
  },
  {
   "cell_type": "code",
   "execution_count": 2,
   "metadata": {
    "ExecuteTime": {
     "end_time": "2018-12-31T05:34:09.601346Z",
     "start_time": "2018-12-31T05:34:09.597362Z"
    }
   },
   "outputs": [],
   "source": [
    "def showImage(title, image):\n",
    "    cv2.imshow(title, image)\n",
    "    cv2.waitKey(0)\n",
    "    cv2.destroyAllWindows()"
   ]
  },
  {
   "cell_type": "code",
   "execution_count": 64,
   "metadata": {
    "ExecuteTime": {
     "end_time": "2018-12-31T10:09:07.687539Z",
     "start_time": "2018-12-31T10:08:58.408741Z"
    }
   },
   "outputs": [
    {
     "data": {
      "image/png": "[encoded data removed]",
      "text/plain": [
       "<Figure size 432x288 with 1 Axes>"
      ]
     },
     "metadata": {},
     "output_type": "display_data"
    },
    {
     "name": "stdout",
     "output_type": "stream",
     "text": [
      "(1080, 1920)\n",
      "172\n",
      "129\n"
     ]
    },
    {
     "data": {
      "image/png": "[encoded data removed]",
      "text/plain": [
       "<Figure size 432x288 with 1 Axes>"
      ]
     },
     "metadata": {},
     "output_type": "display_data"
    },
    {
     "name": "stdout",
     "output_type": "stream",
     "text": [
      "' ‘ MH01 20150001078 ‘u-12-f/(J14\n",
      "\n",
      "._ Vv\n",
      "\n",
      "(arc ', 09-12-2034 (NT)\n",
      "COV ‘1:\n",
      "LMV 10—12-2014\n",
      "\n",
      "MCWG 10—12—2014\n",
      "\n",
      ".3ij 04-10-1996 5;\")\n",
      "\n",
      "Name PRANEET BOMMA\n",
      "\n",
      "S/DM O/ SHRIHARI BOMMA\n",
      "\n",
      "Add 307 SUKH SAGAR NEW PRABHADEVI ROAD\n",
      "PRABHADEW MUMBAI\n",
      "\n",
      "PIN 400025\n"
     ]
    },
    {
     "data": {
      "text/plain": [
       "True"
      ]
     },
     "execution_count": 64,
     "metadata": {},
     "output_type": "execute_result"
    }
   ],
   "source": [
    "image = cv2.imread('IP/licence_image2.png')\n",
    "\n",
    "# Create our shapening kernel, it must equal to one eventually\n",
    "kernel_sharpening = np.array([[-1,-1,-1], \n",
    "                              [-1, 9,-1],\n",
    "                              [-1,-1,-1]])\n",
    "# applying the sharpening kernel to the input image & displaying it.\n",
    "# image = cv2.filter2D(image, -1, kernel_sharpening)\n",
    "\n",
    "# showImage('test', image)\n",
    "\n",
    "lab = cv2.cvtColor(image, cv2.COLOR_BGR2LAB)\n",
    "\n",
    "showImage('test', lab)\n",
    "\n",
    "l, a, b = cv2.split(lab)\n",
    "lm = l.copy()\n",
    "la = l.copy()\n",
    "aa = a.copy()\n",
    "bb = b.copy()\n",
    "\n",
    "hist,bins = np.histogram(l,256,[0,256])\n",
    "hista,bins = np.histogram(a,256,[0,256])\n",
    "histb,bins = np.histogram(b,256,[0,256])\n",
    "plt.plot(hist), plt.plot(hista)\n",
    "# plt.plot(hista), plt.plot(histb)\n",
    "plt.show()\n",
    "\n",
    "# lm -= 100\n",
    "# lm[lm < 0] = 0\n",
    "print(lm.shape)\n",
    "print(np.argmax(hist))\n",
    "mean = int((np.argmax(hist) + np.argmin(hist)) / 2)\n",
    "max_a = np.argmax(hista)\n",
    "print(max_a)\n",
    "# kernel = np.ones((2, 2), np.uint8)\n",
    "# lm = cv2.erode(lm, kernel, iterations = 2)\n",
    "\n",
    "bb = cv2.filter2D(bb, -1, kernel_sharpening)\n",
    "\n",
    "showImage('test', lm)\n",
    "\n",
    "# aa[aa > int(120)] = 255\n",
    "# aa[aa <= int(120)] = 0\n",
    "\n",
    "showImage('test', aa)\n",
    "showImage('test', bb)\n",
    "\n",
    "lm[lm > mean] = 255\n",
    "lm[lm <= mean] = 0\n",
    "\n",
    "# aa[aa > 150] = 255\n",
    "# aa[aa <= 150] = 0\n",
    "\n",
    "# bb[bb > 95] = 255\n",
    "# bb[bb <= 95] = 0\n",
    "\n",
    "# la += 40\n",
    "# la[la > 255] = 255\n",
    "\n",
    "# lab = cv2.merge(l, a, b)\n",
    "# laba = np.concatenate((la, a, b))\n",
    "# # laba = np.invert(laba)\n",
    "# # print(np.max(l))\n",
    "# showImage('test', laba)\n",
    "\n",
    "hist,bins = np.histogram(lm,256,[0,256])\n",
    "plt.plot(hist)\n",
    "plt.show()\n",
    "labm = np.concatenate((lm, aa, bb))\n",
    "\n",
    "\n",
    "\n",
    "# lm = cv2.morphologyEx(lm, cv2.MORPH_OPEN, kernel)\n",
    "# lm = cv2.erode(lm, kernel, iterations = 2)\n",
    "# lm = cv2.dilate(lm, kernel, iterations = 3)\n",
    "\n",
    "template = cv2.imread('IP/license_template.jpg', 0)\n",
    "ret3, template = cv2.threshold(template, 220, 255, cv2.THRESH_BINARY_INV + cv2.THRESH_OTSU)\n",
    "\n",
    "lm = np.subtract(template, lm)\n",
    "\n",
    "lm = np.invert(lm)\n",
    "showImage('test', lm)\n",
    "\n",
    "text = pyt.image_to_string(lm)\n",
    "print(text)\n",
    "\n",
    "showImage('test', lm)\n",
    "\n",
    "cv2.imwrite('tess.jpg', lm)"
   ]
  },
  {
   "cell_type": "code",
   "execution_count": null,
   "metadata": {},
   "outputs": [],
   "source": []
  },
  {
   "cell_type": "code",
   "execution_count": null,
   "metadata": {},
   "outputs": [],
   "source": []
  },
  {
   "cell_type": "code",
   "execution_count": null,
   "metadata": {},
   "outputs": [],
   "source": []
  },
  {
   "cell_type": "code",
   "execution_count": null,
   "metadata": {},
   "outputs": [],
   "source": []
  },
  {
   "cell_type": "code",
   "execution_count": 15,
   "metadata": {
    "ExecuteTime": {
     "end_time": "2019-01-05T01:07:48.827047Z",
     "start_time": "2019-01-05T01:07:45.592574Z"
    }
   },
   "outputs": [],
   "source": [
    "import cv2\n",
    "import os\n",
    "import shutil\n",
    "import numpy as np\n",
    "import matplotlib.pyplot as plt\n",
    "from PIL import Image\n",
    "import thinning\n",
    "import pytesseract as pyt\n",
    "import imutils"
   ]
  },
  {
   "cell_type": "code",
   "execution_count": 16,
   "metadata": {
    "ExecuteTime": {
     "end_time": "2019-01-05T01:07:48.901413Z",
     "start_time": "2019-01-05T01:07:48.882000Z"
    }
   },
   "outputs": [],
   "source": [
    "def getText(template, image):\n",
    "    \n",
    "    template = cv2.imread(template, 0)\n",
    "#     showImage('og', template)\n",
    "#     testing = image\n",
    "    \n",
    "    image = cv2.imread(image, 0)\n",
    "    ret3, template = cv2.threshold(template, 220, 255, cv2.THRESH_BINARY + cv2.THRESH_OTSU)\n",
    "    global og_image\n",
    "    og_image = image\n",
    "#     testing = cv2.imread(testing)\n",
    "#     testing = increase_brightness(testing)\n",
    "#     showImage('testing', testing)\n",
    "#     testing = cv2.cvtColor(testing, cv2.COLOR_BGR2GRAY)\n",
    "#     kernel = np.array([[-1,-1,-1], [-1,9,-1], [-1,-1,-1]])\n",
    "#     testing = cv2.filter2D(testing, -1, kernel)\n",
    "#     kernel = np.ones((3, 3), np.uint8)\n",
    "#     testing = cv2.dilate(testing, kernel, iterations = 1)\n",
    "#     ret3, testing = cv2.threshold(testing, 220, 255, cv2.THRESH_BINARY + cv2.THRESH_OTSU)\n",
    "#     thresh = np.invert(testing)\n",
    "#     testing1 = cv2.Canny(testing, 30, 150)\n",
    "#     kernel = np.ones((3, 3), np.uint8)\n",
    "#     testing = cv2.dilate(testing1, kernel, iterations = 1)\n",
    "#     testing = np.subtract(thresh, testing)\n",
    "#     showImage('testing', testing)\n",
    "#     cv2.imwrite('bright.jpg', testing)\n",
    "    \n",
    "    # Sharpening the image\n",
    "    kernel = np.array([[-1,-1,-1], [-1,9,-1], [-1,-1,-1]])\n",
    "    unsharp_image = cv2.filter2D(image, -1, kernel)\n",
    "    \n",
    "#     cv2.imshow('og', unsharp_image)\n",
    "    cv2.waitKey(0)\n",
    "    cv2.destroyAllWindows()\n",
    "\n",
    "    # Adaptive Thresholding\n",
    "    # OBinary = cv2.adaptiveThreshold(unsharp_image,255, cv2.ADAPTIVE_THRESH_GAUSSIAN_C, cv2.THRESH_BINARY_INV,15,5)\n",
    "\n",
    "    # Thresholding\n",
    "    ret3, OBinary = cv2.threshold(unsharp_image, 220, 255, cv2.THRESH_BINARY_INV+ cv2.THRESH_OTSU)\n",
    "\n",
    "    showImage('testing', OBinary)\n",
    "#     OBinary = cv2.medianBlur(OBinary, 5)\n",
    "#     OBinary = cv2.bilateralFilter(OBinary,12,25,25)\n",
    "#     cv2.imwrite('nonbilateral.jpg', OBinary)\n",
    "    kernel = np.ones((2, 2), np.uint8)\n",
    "#     \n",
    "#     OBinary = cv2.morphologyEx(OBinary, cv2.MORPH_OPEN, kernel)\n",
    "    OBinary = cv2.erode(OBinary, kernel, iterations = 3)\n",
    "#     OBinary = cv2.medianBlur(OBinary, 3)\n",
    "    showImage('testing', OBinary)\n",
    "#     showImage(\"subtracted\", OBinary)\n",
    "    \n",
    "    # Eroding\n",
    "#     kernel = np.ones((3, 3), np.uint8)\n",
    "#     OBinary = cv2.erode(OBinary, kernel, iterations = 1)\n",
    "    \n",
    "    subtract = np.subtract(OBinary, template)\n",
    "    showImage('testing', subtract)\n",
    "    text = pyt.image_to_string(subtract)\n",
    "    text = text.replace('/', 'i').replace(\"#\", \"4\").replace(\"'\", \"\").replace('\"', '').replace('!', 'I').replace(']', 'I').upper()\n",
    "#     if text == '':\n",
    "#         continue\n",
    "#     print(text)\n",
    "    \n",
    "    testing = imutils.skeletonize(subtract, size=(3, 3))\n",
    "#     showImage('testing', testing)\n",
    "    \n",
    "    get_lines(subtract)\n",
    "    \n",
    "#     showImage(\"subtracted\", subtract)\n",
    "\n",
    "    cv2.destroyAllWindows()\n",
    "    \n",
    "    \n",
    "def showImage(title, image):\n",
    "    cv2.imshow(title, image)\n",
    "    cv2.waitKey(0)\n",
    "    cv2.destroyAllWindows()\n",
    "    \n",
    "\n",
    "def get_lines(image):\n",
    "    \n",
    "    # getting edges of the text in image\n",
    "    image_edges = cv2.Canny(image, 30, 150)\n",
    "    \n",
    "    # dilating image to detect individual lines\n",
    "    kernel_line = np.ones((2, 100), np.uint8)\n",
    "    dilated_line = cv2.dilate(image_edges, kernel_line, iterations=1)\n",
    "    \n",
    "    showImage('lines', dilated_line)\n",
    "    \n",
    "    # finding contours of the line\n",
    "    im2, ctrs_line, hier = cv2.findContours(dilated_line.copy(), cv2.RETR_EXTERNAL, cv2.CHAIN_APPROX_SIMPLE)\n",
    "    sorted_ctrs_line = sorted(ctrs_line, key=lambda ctr: cv2.boundingRect(ctr)[1])\n",
    "    \n",
    "    for i, ctr_line in enumerate(sorted_ctrs_line):\n",
    "        # getting coordinates of the line contour\n",
    "        x_line, y_line, w_line, h_line = cv2.boundingRect(ctr_line)\n",
    "        if w_line * h_line < 3000 or w_line * h_line > 50000:\n",
    "            continue\n",
    "            \n",
    "        cropped_line = image[y_line:y_line + h_line, x_line:x_line + w_line]\n",
    "        blac = np.invert(cropped_line)\n",
    "        cv2.imwrite('bdgdfg' + str(i) + '.jpg', blac)\n",
    "        \n",
    "        testing = og_image[y_line:y_line + h_line, x_line:x_line + w_line]\n",
    "        \n",
    "        ret3, testing = cv2.threshold(testing, 220, 255, cv2.THRESH_BINARY + cv2.THRESH_OTSU)\n",
    "        testing = np.invert(testing)\n",
    "        testing = imutils.skeletonize(testing, size=(3, 3))\n",
    "        cv2.imwrite('casdsad' + str(i) + '.jpg', testing)\n",
    "        kernel = np.ones((3, 3), np.uint8)\n",
    "        testing = cv2.dilate(testing, kernel, iterations = 1)\n",
    "        cv2.imwrite('asdsad' + str(i) + '.jpg', testing)\n",
    "        \n",
    "        text = pyt.image_to_string(cropped_line)\n",
    "        text = text.replace('/', 'i').replace(\"#\", \"4\").replace(\"'\", \"\").replace('\"', '').replace('!', 'I').replace(']', 'I').upper()\n",
    "        if text == '':\n",
    "            continue\n",
    "        print(text)\n",
    "        \n",
    "def increase_brightness(img, value=60):\n",
    "    hsv = cv2.cvtColor(img, cv2.COLOR_BGR2HSV)\n",
    "    h, s, v = cv2.split(hsv)\n",
    "\n",
    "#     lim = 255 - value\n",
    "#     v[v > lim] = 255\n",
    "#     v[v <= lim] += value\n",
    "    v += 255\n",
    "    v[v > 255] = 255\n",
    "    print(np.max(v))\n",
    "\n",
    "    final_hsv = cv2.merge((h, s, v))\n",
    "    img = cv2.cvtColor(final_hsv, cv2.COLOR_HSV2BGR)\n",
    "    return img"
   ]
  },
  {
   "cell_type": "code",
   "execution_count": 17,
   "metadata": {
    "ExecuteTime": {
     "end_time": "2019-01-05T01:08:08.979909Z",
     "start_time": "2019-01-05T01:07:48.929674Z"
    },
    "scrolled": false
   },
   "outputs": [
    {
     "name": "stdout",
     "output_type": "stream",
     "text": [
      "CL NO NMHO1 20150001078\n",
      "10-12-2014\n",
      "09-12-2034 (\n",
      "\n",
      "TRE\n",
      "IS\n",
      "FAV P= TA ATAL PRANEET EOCMMA\n",
      "SAN OF SHRIHART ROMMA\n",
      "ADD 307 SUKH SAGAR NEW PRARBHADEVI ROAD\n",
      "PRAEHADEVI MUMBA,\n"
     ]
    }
   ],
   "source": [
    "template = 'IP/license_template.jpg'\n",
    "image = 'IP/licence_image5.png'\n",
    "\n",
    "getText(template, image)"
   ]
  },
  {
   "cell_type": "code",
   "execution_count": null,
   "metadata": {},
   "outputs": [],
   "source": []
  },
  {
   "cell_type": "code",
   "execution_count": 119,
   "metadata": {
    "ExecuteTime": {
     "end_time": "2018-12-28T08:54:44.692640Z",
     "start_time": "2018-12-28T08:54:19.563126Z"
    }
   },
   "outputs": [],
   "source": [
    "test = cv2.imread('pancard.jpg')\n",
    "test = cv2.cvtColor(test, cv2.COLOR_BGR2RGB)\n",
    "\n",
    "cv2.imshow('test', test)\n",
    "cv2.waitKey(0)\n",
    "cv2.destroyAllWindows()"
   ]
  },
  {
   "cell_type": "code",
   "execution_count": null,
   "metadata": {},
   "outputs": [],
   "source": []
  },
  {
   "cell_type": "code",
   "execution_count": null,
   "metadata": {},
   "outputs": [],
   "source": []
  },
  {
   "cell_type": "code",
   "execution_count": 5,
   "metadata": {
    "ExecuteTime": {
     "end_time": "2018-12-28T10:11:49.687500Z",
     "start_time": "2018-12-28T10:11:49.351035Z"
    }
   },
   "outputs": [
    {
     "ename": "SyntaxError",
     "evalue": "'break' outside loop (<ipython-input-5-eae237d2ec83>, line 21)",
     "output_type": "error",
     "traceback": [
      "\u001b[0;36m  File \u001b[0;32m\"<ipython-input-5-eae237d2ec83>\"\u001b[0;36m, line \u001b[0;32m21\u001b[0m\n\u001b[0;31m    break\u001b[0m\n\u001b[0m    ^\u001b[0m\n\u001b[0;31mSyntaxError\u001b[0m\u001b[0;31m:\u001b[0m 'break' outside loop\n"
     ]
    }
   ],
   "source": [
    "image = cv2.imread('IP/pancard.jpg')\n",
    "\n",
    "hsv = cv2.cvtColor(image, cv2.COLOR_BGR2HSV) \n",
    "lower_red = np.array([110,50,50]) \n",
    "upper_red = np.array([130,255,255])\n",
    "\n",
    "mask = cv2.inRange(hsv, lower_red, upper_red) \n",
    "  \n",
    "# The bitwise and of the frame and mask is done so  \n",
    "# that only the blue coloured objects are highlighted  \n",
    "# and stored in res \n",
    "res = cv2.bitwise_and(image,image, mask= mask) \n",
    "cv2.imshow('frame',image) \n",
    "cv2.imshow('mask',mask) \n",
    "cv2.imshow('res',res) \n",
    "  \n",
    "# This displays the frame, mask  \n",
    "# and res which we created in 3 separate windows. \n",
    "k = cv2.waitKey(0\n",
    "                \n",
    "# Destroys all of the HighGUI windows. \n",
    "cv2.destroyAllWindows() "
   ]
  },
  {
   "cell_type": "code",
   "execution_count": null,
   "metadata": {},
   "outputs": [],
   "source": []
  },
  {
   "cell_type": "code",
   "execution_count": null,
   "metadata": {},
   "outputs": [],
   "source": []
  },
  {
   "cell_type": "code",
   "execution_count": null,
   "metadata": {},
   "outputs": [],
   "source": []
  },
  {
   "cell_type": "code",
   "execution_count": null,
   "metadata": {},
   "outputs": [],
   "source": []
  },
  {
   "cell_type": "code",
   "execution_count": null,
   "metadata": {},
   "outputs": [],
   "source": []
  },
  {
   "cell_type": "code",
   "execution_count": 33,
   "metadata": {
    "ExecuteTime": {
     "end_time": "2018-12-27T11:44:04.047873Z",
     "start_time": "2018-12-27T11:44:03.410704Z"
    },
    "scrolled": true
   },
   "outputs": [
    {
     "name": "stdout",
     "output_type": "stream",
     "text": [
      "CSUPRGGMH\n",
      "\n",
      " \n",
      "\n",
      "‘w ,\n",
      "Wi Name\n",
      "VIPUL SINGH RAGHUVANSHI\n"
     ]
    }
   ],
   "source": [
    "# pre_processed = pre_processing('hhbh.jpg')\n",
    "pre_processed = cv2.imread('check.jpg', 0)\n",
    "text = pyt.image_to_string(pre_processed)\n",
    "print(text.replace('/', 'i').replace(\"'\", \"\").replace('\"', ''))"
   ]
  },
  {
   "cell_type": "code",
   "execution_count": null,
   "metadata": {},
   "outputs": [],
   "source": []
  },
  {
   "cell_type": "code",
   "execution_count": null,
   "metadata": {},
   "outputs": [],
   "source": []
  },
  {
   "cell_type": "code",
   "execution_count": 30,
   "metadata": {
    "ExecuteTime": {
     "end_time": "2018-12-27T11:40:36.789841Z",
     "start_time": "2018-12-27T11:40:36.783239Z"
    }
   },
   "outputs": [],
   "source": [
    "def pre_processing(path):\n",
    "    \n",
    "    # Read Image\n",
    "    img = cv2.imread(path, 0)\n",
    "    grayscaled = img\n",
    "    # Grayscale step\n",
    "#     grayscaled = cv2.cvtColor(img, cv2.COLOR_BGR2GRAY)\n",
    "    \n",
    "#     cv2.imshow('test', grayscaled)\n",
    "#     cv2.waitKey(0)\n",
    "#     cv2.destroyAllWindows()\n",
    "    \n",
    "    # Noise Clearing step\n",
    "    noise_cleared = cv2.fastNlMeansDenoising(grayscaled, None, 4, 7, 21)\n",
    "#     gaussian_3 = cv2.GaussianBlur(grayscaled, (9,9), 10.0)\n",
    "#     unsharp_image = cv2.addWeighted(grayscaled, 1.5, gaussian_3, -0.5, 0, grayscaled)\n",
    "#     cv2.imshow('test', unsharp_image)\n",
    "#     cv2.waitKey(0)\n",
    "#     cv2.destroyAllWindows()\n",
    "    \n",
    "    # Adaptive Thresholding\n",
    "#     OBinary = cv2.adaptiveThreshold(unsharp_image,255, cv2.ADAPTIVE_THRESH_GAUSSIAN_C, cv2.THRESH_BINARY_INV,15,5)\n",
    "    \n",
    "    # Thresholding\n",
    "    ret3, OBinary = cv2.threshold(noise_cleared, 250, 255, cv2.THRESH_BINARY_INV+ cv2.THRESH_OTSU)\n",
    "#     OBinary = imutils.skeletonize(OBinary, size=(3, 3))\n",
    "    OBinary = cv2.medianBlur(OBinary, 5)\n",
    "    \n",
    "#     cv2.imshow('blur', OBinary)\n",
    "#     cv2.waitKey(0)\n",
    "#     cv2.destroyAllWindows()\n",
    "    \n",
    "    global og_image\n",
    "    og_image = OBinary\n",
    "    \n",
    "    # Eroding\n",
    "    kernel = np.ones((2, 2), np.uint8)\n",
    "    OBinary = cv2.erode(OBinary, kernel, iterations = 1)\n",
    "    \n",
    "    cv2.imshow('erode', OBinary)\n",
    "    cv2.waitKey(0)\n",
    "    cv2.destroyAllWindows()\n",
    "    \n",
    "    cv2.imwrite('asds.jpg', OBinary)\n",
    "    \n",
    "    return OBinary"
   ]
  },
  {
   "cell_type": "code",
   "execution_count": 31,
   "metadata": {
    "ExecuteTime": {
     "end_time": "2018-12-27T11:40:46.391553Z",
     "start_time": "2018-12-27T11:40:38.041488Z"
    }
   },
   "outputs": [
    {
     "name": "stdout",
     "output_type": "stream",
     "text": [
      "~ OL No MH01 20150001078 00i 10-12-2014 ‘-\n",
      "Valid TIil 09-12-2034 (NT)\n",
      "\n",
      "AUYHORISA TION TO DRIVE FOLLOVﬁNO CLASS\n",
      "OF VEMCLES THROUGHOUTiMOM\n",
      "\n",
      "COV DOI\n",
      "LMV 10-12-2014\n",
      "MCWG 10-12-2014\n",
      "\n",
      "FORM]\n",
      "RULE 1‘ (2)\n",
      "\n",
      " \n",
      "\n",
      "DOB 04-10-1996 86\n",
      "\n",
      "Name PRANEET BOMMA\n",
      "SiDiWOISHRIHARI BOMMA\n",
      "\n",
      "Add 307 SUKH SAGAR NEW PRABHADEVI ROAD x.\n",
      "PRABHADEVI MUMBAI\n",
      "l _\n",
      "\n",
      "PIN 00002:; W, T I.\n",
      "naw &iL)or ’ signatureiThumb\n",
      "\n",
      "7S umg uihonty MH012015211 ImpressmolHobar\n"
     ]
    }
   ],
   "source": [
    "pre_processed = pre_processing('licence.jpg')\n",
    "text = pyt.image_to_string(pre_processed)\n",
    "print(text.replace('/', 'i').replace(\"'\", \"\").replace('\"', ''))"
   ]
  },
  {
   "cell_type": "code",
   "execution_count": null,
   "metadata": {},
   "outputs": [],
   "source": []
  },
  {
   "cell_type": "code",
   "execution_count": null,
   "metadata": {},
   "outputs": [],
   "source": []
  },
  {
   "cell_type": "code",
   "execution_count": 13,
   "metadata": {
    "ExecuteTime": {
     "end_time": "2018-12-27T11:34:57.481906Z",
     "start_time": "2018-12-27T11:34:57.478171Z"
    }
   },
   "outputs": [],
   "source": [
    "import cv2\n",
    "import os\n",
    "import shutil\n",
    "import numpy as np\n",
    "from matplotlib.pyplot import imshow\n",
    "from PIL import Image\n",
    "import thinning\n",
    "import pytesseract as pyt\n",
    "import imutils"
   ]
  },
  {
   "cell_type": "markdown",
   "metadata": {},
   "source": [
    "# Preprocessing"
   ]
  },
  {
   "cell_type": "code",
   "execution_count": 30,
   "metadata": {
    "ExecuteTime": {
     "end_time": "2018-12-27T11:05:53.806004Z",
     "start_time": "2018-12-27T11:05:53.792496Z"
    }
   },
   "outputs": [],
   "source": [
    "def pre_processing(path):\n",
    "    \n",
    "    # Read Image\n",
    "    img = cv2.imread(path, 0)\n",
    "    grayscaled = img\n",
    "    # Grayscale step\n",
    "#     grayscaled = cv2.cvtColor(img, cv2.COLOR_BGR2GRAY)\n",
    "    \n",
    "    cv2.imshow('test', grayscaled)\n",
    "    cv2.waitKey(0)\n",
    "    cv2.destroyAllWindows()\n",
    "    \n",
    "    # Noise Clearing step\n",
    "#     noise_cleared = cv2.fastNlMeansDenoising(grayscaled, None, 4, 7, 21)\n",
    "    gaussian_3 = cv2.GaussianBlur(grayscaled, (9,9), 10.0)\n",
    "    unsharp_image = cv2.addWeighted(grayscaled, 1.5, gaussian_3, -0.5, 0, grayscaled)\n",
    "    cv2.imshow('test', unsharp_image)\n",
    "    cv2.waitKey(0)\n",
    "    cv2.destroyAllWindows()\n",
    "    \n",
    "    # Adaptive Thresholding\n",
    "#     OBinary = cv2.adaptiveThreshold(unsharp_image,255, cv2.ADAPTIVE_THRESH_GAUSSIAN_C, cv2.THRESH_BINARY_INV,15,5)\n",
    "    \n",
    "    # Thresholding\n",
    "    ret3, OBinary = cv2.threshold(grayscaled, 250, 255, cv2.THRESH_BINARY_INV+ cv2.THRESH_OTSU)\n",
    "#     OBinary = imutils.skeletonize(OBinary, size=(3, 3))\n",
    "    OBinary = cv2.medianBlur(OBinary, 5)\n",
    "    \n",
    "    cv2.imshow('blur', OBinary)\n",
    "    cv2.waitKey(0)\n",
    "    cv2.destroyAllWindows()\n",
    "    \n",
    "    global og_image\n",
    "    og_image = OBinary\n",
    "    \n",
    "    # Eroding\n",
    "    kernel = np.ones((3, 3), np.uint8)\n",
    "    OBinary = cv2.erode(OBinary, kernel, iterations = 1)\n",
    "    \n",
    "    cv2.imshow('erode', OBinary)\n",
    "    cv2.waitKey(0)\n",
    "    cv2.destroyAllWindows()\n",
    "    \n",
    "    cv2.imwrite('asds.jpg', OBinary)\n",
    "    \n",
    "    return OBinary"
   ]
  },
  {
   "cell_type": "markdown",
   "metadata": {},
   "source": [
    "# Convert image into matrix of image rows and image columns"
   ]
  },
  {
   "cell_type": "code",
   "execution_count": 3,
   "metadata": {
    "ExecuteTime": {
     "end_time": "2018-12-27T07:34:59.644973Z",
     "start_time": "2018-12-27T07:34:59.637536Z"
    }
   },
   "outputs": [],
   "source": [
    "'''\n",
    "this function convert image into matrix of image rows\n",
    "'''\n",
    "\n",
    "\n",
    "def imgToMatrixR(img):\n",
    "    # get dimensions\n",
    "    height, width = img.shape\n",
    "    matrix = []\n",
    "    # getting pixels values for all rows\n",
    "    for i in range(0, height):\n",
    "        row = []\n",
    "        for j in range(0, width):\n",
    "            row.append(img[i, j])\n",
    "        matrix.append(row)\n",
    "    return matrix\n",
    "\n",
    "\n",
    "'''\n",
    "this function convert image into matrix of image columns\n",
    "'''\n",
    "\n",
    "\n",
    "def imgToMatrixC(img):\n",
    "    # get dimensions\n",
    "    height, width = img.shape\n",
    "    matrix = []\n",
    "    # getting pixels values for all columns\n",
    "    for i in range(0, width):\n",
    "        col = []\n",
    "        for j in range(0, height):\n",
    "            col.append(img[j, i])\n",
    "        matrix.append(col)\n",
    "    return matrix\n",
    "\n",
    "\n",
    "'''\n",
    "this function count a specific value (parameter p) in matrix\n",
    "'''\n",
    "\n",
    "\n",
    "def countPixel(matrix, p):\n",
    "    counter = []\n",
    "    for k in range(0, len(matrix)):\n",
    "        counter.append(matrix[k].count(p))\n",
    "    return counter"
   ]
  },
  {
   "cell_type": "markdown",
   "metadata": {},
   "source": [
    "# Line Segmentation"
   ]
  },
  {
   "cell_type": "code",
   "execution_count": 8,
   "metadata": {
    "ExecuteTime": {
     "end_time": "2018-12-27T07:37:14.466411Z",
     "start_time": "2018-12-27T07:37:14.456077Z"
    }
   },
   "outputs": [],
   "source": [
    "def get_lines(image):\n",
    "    \n",
    "    # getting edges of the text in image\n",
    "    image_edges = cv2.Canny(image, 30, 150)\n",
    "    \n",
    "    # dilating image to detect individual lines\n",
    "    kernel_line = np.ones((3, 25), np.uint8)\n",
    "    dilated_line = cv2.dilate(image_edges, kernel_line, iterations=1)\n",
    "    \n",
    "    # finding contours of the line\n",
    "    im2, ctrs_line, hier = cv2.findContours(dilated_line.copy(), cv2.RETR_EXTERNAL, cv2.CHAIN_APPROX_SIMPLE)\n",
    "    sorted_ctrs_line = sorted(ctrs_line, key=lambda ctr: cv2.boundingRect(ctr)[1])\n",
    "    \n",
    "    for i, ctr_line in enumerate(sorted_ctrs_line):\n",
    "        # getting coordinates of the line contour\n",
    "        x_line, y_line, w_line, h_line = cv2.boundingRect(ctr_line)\n",
    "        if w_line * h_line < 3000 or w_line * h_line > 50000:\n",
    "            continue\n",
    "            \n",
    "        cropped_line = pre_processed[y_line:y_line + h_line, x_line:x_line + w_line]\n",
    "        cv2.imshow('test', cropped_line)\n",
    "        cv2.waitKey(0)\n",
    "        cv2.destroyAllWindows()\n",
    "        text = pyt.image_to_string(cropped_line)\n",
    "        print(text)\n",
    "            \n",
    "#         get_words(x_line, y_line, w_line, h_line)"
   ]
  },
  {
   "cell_type": "markdown",
   "metadata": {},
   "source": [
    "# Word Segmentation"
   ]
  },
  {
   "cell_type": "code",
   "execution_count": 5,
   "metadata": {
    "ExecuteTime": {
     "end_time": "2018-12-27T07:32:45.220085Z",
     "start_time": "2018-12-27T07:32:45.203116Z"
    }
   },
   "outputs": [],
   "source": [
    "def get_words(x, y, w, h):\n",
    "\n",
    "    cropped_line = pre_processed[y:y + h, x:x + w]\n",
    "    # getting edges of the text in image\n",
    "    \n",
    "    # Edge Detection\n",
    "    image_edges = cv2.Canny(cropped_line, 30, 150)\n",
    "    \n",
    "    kernel_word = np.ones((3, 12), np.uint8)\n",
    "    dilated_word = cv2.dilate(image_edges, kernel_word, iterations=1)\n",
    "    \n",
    "    # Getting contours from the line\n",
    "    im2, ctrs_word, hier = cv2.findContours(dilated_word.copy(), cv2.RETR_EXTERNAL, cv2.CHAIN_APPROX_SIMPLE)\n",
    "    sorted_ctrs_word = sorted(ctrs_word, key=lambda ctr: cv2.boundingRect(ctr)[0])\n",
    "    \n",
    "    for i, ctr_word in enumerate(sorted_ctrs_word):\n",
    "        # getting coordinates of the word contour\n",
    "        x_word, y_word, w_word, h_word = cv2.boundingRect(ctr_word)\n",
    "        \n",
    "        adjusted_x = x + x_word\n",
    "        adjusted_y = y + y_word\n",
    "        \n",
    "        cropped_word = pre_processed[adjusted_y:adjusted_y + h_word, adjusted_x:adjusted_x + w_word]\n",
    "        \n",
    "#         get_characters(adjusted_x, adjusted_y, w_word, h_word)"
   ]
  },
  {
   "cell_type": "markdown",
   "metadata": {},
   "source": [
    "# Character Segmentation"
   ]
  },
  {
   "cell_type": "code",
   "execution_count": 6,
   "metadata": {
    "ExecuteTime": {
     "end_time": "2018-12-27T05:41:35.950887Z",
     "start_time": "2018-12-27T05:41:35.812228Z"
    }
   },
   "outputs": [],
   "source": [
    "def get_characters(x, y, w, h):\n",
    "\n",
    "    cropped_word = pre_processed[y:y + h, x:x + w]\n",
    "    \n",
    "    kernel_word = np.ones((5, 3), np.uint8)\n",
    "    cropped_word = cv2.dilate(cropped_word, kernel_word, iterations=1)\n",
    "    \n",
    "#     cv2.imshow('test', cropped_word)\n",
    "#     cv2.waitKey(0)\n",
    "#     cv2.destroyAllWindows()\n",
    "    \n",
    "    # get image dimension\n",
    "    height, width = cropped_word.shape\n",
    "    \n",
    "    # convert image to matrix of columns\n",
    "    matrix = imgToMatrixC(cropped_word)\n",
    "    \n",
    "    # count white pixels in each column\n",
    "    white_counter = countPixel(matrix, 255)\n",
    "    \n",
    "    # determine potential segmentation columns (psc).\n",
    "    # psc is any column contains no or one white bixel at most , last column in image is also a psc .\n",
    "    psc = [0]\n",
    "    for p in range(0, len(white_counter)):\n",
    "        if white_counter[p] <= 2 or p >= len(white_counter) - 1:\n",
    "            psc.append(p)\n",
    "            \n",
    "    # determine segmentation columns (sc)\n",
    "    # sc is the average column between each sequence set of psc , average = summ of columns index/count of columns\n",
    "    sc = []\n",
    "    summ = 0\n",
    "    count = 0\n",
    "    for n in range(0, len(psc) - 1):\n",
    "        summ = summ + psc[n]\n",
    "        count = count + 1\n",
    "        # combine each set of sequence black columns into only one sc ,last column is also a sc\n",
    "        if psc[n] + 3 < psc[n + 1] or n >= len(psc) - 2:\n",
    "            sc.append(int(summ / count))\n",
    "            summ = 0\n",
    "            count = 0\n",
    "            \n",
    "    # segment image into chars\n",
    "    for c in range(0, len(sc) - 1):\n",
    "        crop_img = og_image[y:y + height, x + sc[c]:x + sc[c + 1] + 2]\n",
    "        if crop_img.shape[0] < 20 or crop_img.shape[0] * crop_img.shape[1] < 300:\n",
    "            continue\n",
    "        global j\n",
    "        j += 1\n",
    "        directory= \"output/characters\"\n",
    "        if not os.path.exists(directory):\n",
    "            os.makedirs(directory)\n",
    "        cv2.imwrite(directory+\"/\"+str(j)+\".png\", crop_img)"
   ]
  },
  {
   "cell_type": "code",
   "execution_count": 8,
   "metadata": {
    "ExecuteTime": {
     "end_time": "2018-12-27T08:39:01.260862Z",
     "start_time": "2018-12-27T08:38:46.814461Z"
    }
   },
   "outputs": [
    {
     "ename": "NameError",
     "evalue": "name 'get_lines' is not defined",
     "output_type": "error",
     "traceback": [
      "\u001b[0;31m---------------------------------------------------------------------------\u001b[0m",
      "\u001b[0;31mNameError\u001b[0m                                 Traceback (most recent call last)",
      "\u001b[0;32m<ipython-input-8-3304982eed78>\u001b[0m in \u001b[0;36m<module>\u001b[0;34m()\u001b[0m\n\u001b[1;32m      2\u001b[0m \u001b[0mimage\u001b[0m \u001b[0;34m=\u001b[0m \u001b[0mpre_processed\u001b[0m\u001b[0;34m.\u001b[0m\u001b[0mcopy\u001b[0m\u001b[0;34m(\u001b[0m\u001b[0;34m)\u001b[0m\u001b[0;34m\u001b[0m\u001b[0m\n\u001b[1;32m      3\u001b[0m \u001b[0mj\u001b[0m \u001b[0;34m=\u001b[0m \u001b[0;36m0\u001b[0m\u001b[0;34m\u001b[0m\u001b[0m\n\u001b[0;32m----> 4\u001b[0;31m \u001b[0mget_lines\u001b[0m\u001b[0;34m(\u001b[0m\u001b[0mimage\u001b[0m\u001b[0;34m)\u001b[0m\u001b[0;34m\u001b[0m\u001b[0m\n\u001b[0m\u001b[1;32m      5\u001b[0m \u001b[0;31m# get_words(lines[80], img)\u001b[0m\u001b[0;34m\u001b[0m\u001b[0;34m\u001b[0m\u001b[0m\n\u001b[1;32m      6\u001b[0m \u001b[0;31m# for i in lines:\u001b[0m\u001b[0;34m\u001b[0m\u001b[0;34m\u001b[0m\u001b[0m\n",
      "\u001b[0;31mNameError\u001b[0m: name 'get_lines' is not defined"
     ]
    }
   ],
   "source": [
    "pre_processed = pre_processing('licence.jpg')\n",
    "image = pre_processed.copy()\n",
    "j = 0\n",
    "get_lines(image)\n",
    "# get_words(lines[80], img)\n",
    "# for i in lines:\n",
    "#     print(i[2] * i[3])\n",
    "#     get_words(i, img)"
   ]
  },
  {
   "cell_type": "code",
   "execution_count": null,
   "metadata": {},
   "outputs": [],
   "source": []
  },
  {
   "cell_type": "code",
   "execution_count": null,
   "metadata": {},
   "outputs": [],
   "source": []
  },
  {
   "cell_type": "code",
   "execution_count": null,
   "metadata": {},
   "outputs": [],
   "source": []
  },
  {
   "cell_type": "markdown",
   "metadata": {},
   "source": [
    "# Working on thinned image"
   ]
  },
  {
   "cell_type": "code",
   "execution_count": null,
   "metadata": {},
   "outputs": [],
   "source": []
  },
  {
   "cell_type": "code",
   "execution_count": 2,
   "metadata": {
    "ExecuteTime": {
     "end_time": "2018-12-27T06:14:35.031681Z",
     "start_time": "2018-12-27T06:14:34.721886Z"
    }
   },
   "outputs": [],
   "source": [
    "import cv2\n",
    "import os\n",
    "import shutil\n",
    "import numpy as np\n",
    "from matplotlib.pyplot import imshow\n",
    "from PIL import Image\n",
    "import thinning"
   ]
  },
  {
   "cell_type": "markdown",
   "metadata": {},
   "source": [
    "# Preprocessing"
   ]
  },
  {
   "cell_type": "code",
   "execution_count": 37,
   "metadata": {
    "ExecuteTime": {
     "end_time": "2018-12-27T06:55:31.891493Z",
     "start_time": "2018-12-27T06:55:31.884669Z"
    }
   },
   "outputs": [],
   "source": [
    "def pre_processing(path):\n",
    "    \n",
    "    # Read Image\n",
    "    img = cv2.imread(path)\n",
    "    \n",
    "    # Grayscale step\n",
    "    grayscaled = cv2.cvtColor(img, cv2.COLOR_BGR2GRAY)\n",
    "    \n",
    "    # Noise Clearing step\n",
    "    noise_cleared = cv2.fastNlMeansDenoising(grayscaled, None, 4, 7, 21)\n",
    "    \n",
    "    # Adaptive Thresholding\n",
    "    OBinary = cv2.adaptiveThreshold(noise_cleared,255, cv2.ADAPTIVE_THRESH_MEAN_C, cv2.THRESH_BINARY_INV,15,5)\n",
    "    \n",
    "    kernel = np.ones((3, 3), np.uint8)\n",
    "    OBinary = cv2.erode(OBinary, kernel, iterations = 1)\n",
    "    \n",
    "    thinned = thinning.guo_hall_thinning(OBinary)\n",
    "    cv2.imshow('test', thinned)\n",
    "    cv2.waitKey(0)\n",
    "    cv2.destroyAllWindows()\n",
    "    \n",
    "    # Thresholding\n",
    "    ret3, OBinary = cv2.threshold(noise_cleared, 250, 255, cv2.THRESH_BINARY_INV + cv2.THRESH_OTSU)\n",
    "    thinned = thinning.guo_hall_thinning(OBinary)\n",
    "    cv2.imshow('test', thinned)\n",
    "    cv2.waitKey(0)\n",
    "    cv2.destroyAllWindows()\n",
    "    \n",
    "    \n",
    "    global og_image\n",
    "    og_image = OBinary\n",
    "    \n",
    "    # Eroding\n",
    "    kernel = np.ones((3, 3), np.uint8)\n",
    "    OBinary = cv2.erode(OBinary, kernel, iterations = 1)\n",
    "    \n",
    "    return OBinary"
   ]
  },
  {
   "cell_type": "markdown",
   "metadata": {},
   "source": [
    "# Convert image into matrix of image rows and image columns"
   ]
  },
  {
   "cell_type": "code",
   "execution_count": 3,
   "metadata": {
    "ExecuteTime": {
     "end_time": "2018-12-27T05:41:35.531971Z",
     "start_time": "2018-12-27T05:41:35.358566Z"
    }
   },
   "outputs": [],
   "source": [
    "'''\n",
    "this function convert image into matrix of image rows\n",
    "'''\n",
    "\n",
    "\n",
    "def imgToMatrixR(img):\n",
    "    # get dimensions\n",
    "    height, width = img.shape\n",
    "    matrix = []\n",
    "    # getting pixels values for all rows\n",
    "    for i in range(0, height):\n",
    "        row = []\n",
    "        for j in range(0, width):\n",
    "            row.append(img[i, j])\n",
    "        matrix.append(row)\n",
    "    return matrix\n",
    "\n",
    "\n",
    "'''\n",
    "this function convert image into matrix of image columns\n",
    "'''\n",
    "\n",
    "\n",
    "def imgToMatrixC(img):\n",
    "    # get dimensions\n",
    "    height, width = img.shape\n",
    "    matrix = []\n",
    "    # getting pixels values for all columns\n",
    "    for i in range(0, width):\n",
    "        col = []\n",
    "        for j in range(0, height):\n",
    "            col.append(img[j, i])\n",
    "        matrix.append(col)\n",
    "    return matrix\n",
    "\n",
    "\n",
    "'''\n",
    "this function count a specific value (parameter p) in matrix\n",
    "'''\n",
    "\n",
    "\n",
    "def countPixel(matrix, p):\n",
    "    counter = []\n",
    "    for k in range(0, len(matrix)):\n",
    "        counter.append(matrix[k].count(p))\n",
    "    return counter"
   ]
  },
  {
   "cell_type": "markdown",
   "metadata": {},
   "source": [
    "# Line Segmentation"
   ]
  },
  {
   "cell_type": "code",
   "execution_count": 4,
   "metadata": {
    "ExecuteTime": {
     "end_time": "2018-12-27T05:41:35.681996Z",
     "start_time": "2018-12-27T05:41:35.558750Z"
    }
   },
   "outputs": [],
   "source": [
    "def get_lines(image):\n",
    "    \n",
    "    # getting edges of the text in image\n",
    "    image_edges = cv2.Canny(image, 30, 150)\n",
    "    \n",
    "    # dilating image to detect individual lines\n",
    "    kernel_line = np.ones((3, 25), np.uint8)\n",
    "    dilated_line = cv2.dilate(image_edges, kernel_line, iterations=1)\n",
    "    \n",
    "    # finding contours of the line\n",
    "    im2, ctrs_line, hier = cv2.findContours(dilated_line.copy(), cv2.RETR_EXTERNAL, cv2.CHAIN_APPROX_SIMPLE)\n",
    "    sorted_ctrs_line = sorted(ctrs_line, key=lambda ctr: cv2.boundingRect(ctr)[1])\n",
    "    \n",
    "    for i, ctr_line in enumerate(sorted_ctrs_line):\n",
    "        # getting coordinates of the line contour\n",
    "        x_line, y_line, w_line, h_line = cv2.boundingRect(ctr_line)\n",
    "        if w_line * h_line < 3000 or w_line * h_line > 50000:\n",
    "            continue\n",
    "            \n",
    "#         get_words(x_line, y_line, w_line, h_line)"
   ]
  },
  {
   "cell_type": "markdown",
   "metadata": {},
   "source": [
    "# Word Segmentation"
   ]
  },
  {
   "cell_type": "code",
   "execution_count": 5,
   "metadata": {
    "ExecuteTime": {
     "end_time": "2018-12-27T05:41:35.795022Z",
     "start_time": "2018-12-27T05:41:35.694121Z"
    }
   },
   "outputs": [],
   "source": [
    "def get_words(x, y, w, h):\n",
    "\n",
    "    cropped_line = pre_processed[y:y + h, x:x + w]\n",
    "    # getting edges of the text in image\n",
    "    \n",
    "    # Edge Detection\n",
    "    image_edges = cv2.Canny(cropped_line, 30, 150)\n",
    "    \n",
    "    kernel_word = np.ones((3, 12), np.uint8)\n",
    "    dilated_word = cv2.dilate(image_edges, kernel_word, iterations=1)\n",
    "    \n",
    "    # Getting contours from the line\n",
    "    im2, ctrs_word, hier = cv2.findContours(dilated_word.copy(), cv2.RETR_EXTERNAL, cv2.CHAIN_APPROX_SIMPLE)\n",
    "    sorted_ctrs_word = sorted(ctrs_word, key=lambda ctr: cv2.boundingRect(ctr)[0])\n",
    "    \n",
    "    for i, ctr_word in enumerate(sorted_ctrs_word):\n",
    "        # getting coordinates of the word contour\n",
    "        x_word, y_word, w_word, h_word = cv2.boundingRect(ctr_word)\n",
    "        \n",
    "        adjusted_x = x + x_word\n",
    "        adjusted_y = y + y_word\n",
    "        \n",
    "        cropped_word = pre_processed[adjusted_y:adjusted_y + h_word, adjusted_x:adjusted_x + w_word]\n",
    "        \n",
    "        get_characters(adjusted_x, adjusted_y, w_word, h_word)"
   ]
  },
  {
   "cell_type": "markdown",
   "metadata": {},
   "source": [
    "# Character Segmentation"
   ]
  },
  {
   "cell_type": "code",
   "execution_count": 6,
   "metadata": {
    "ExecuteTime": {
     "end_time": "2018-12-27T05:41:35.950887Z",
     "start_time": "2018-12-27T05:41:35.812228Z"
    }
   },
   "outputs": [],
   "source": [
    "def get_characters(x, y, w, h):\n",
    "\n",
    "    cropped_word = pre_processed[y:y + h, x:x + w]\n",
    "    \n",
    "    kernel_word = np.ones((5, 3), np.uint8)\n",
    "    cropped_word = cv2.dilate(cropped_word, kernel_word, iterations=1)\n",
    "    \n",
    "#     cv2.imshow('test', cropped_word)\n",
    "#     cv2.waitKey(0)\n",
    "#     cv2.destroyAllWindows()\n",
    "    \n",
    "    # get image dimension\n",
    "    height, width = cropped_word.shape\n",
    "    \n",
    "    # convert image to matrix of columns\n",
    "    matrix = imgToMatrixC(cropped_word)\n",
    "    \n",
    "    # count white pixels in each column\n",
    "    white_counter = countPixel(matrix, 255)\n",
    "    \n",
    "    # determine potential segmentation columns (psc).\n",
    "    # psc is any column contains no or one white bixel at most , last column in image is also a psc .\n",
    "    psc = [0]\n",
    "    for p in range(0, len(white_counter)):\n",
    "        if white_counter[p] <= 2 or p >= len(white_counter) - 1:\n",
    "            psc.append(p)\n",
    "            \n",
    "    # determine segmentation columns (sc)\n",
    "    # sc is the average column between each sequence set of psc , average = summ of columns index/count of columns\n",
    "    sc = []\n",
    "    summ = 0\n",
    "    count = 0\n",
    "    for n in range(0, len(psc) - 1):\n",
    "        summ = summ + psc[n]\n",
    "        count = count + 1\n",
    "        # combine each set of sequence black columns into only one sc ,last column is also a sc\n",
    "        if psc[n] + 3 < psc[n + 1] or n >= len(psc) - 2:\n",
    "            sc.append(int(summ / count))\n",
    "            summ = 0\n",
    "            count = 0\n",
    "            \n",
    "    # segment image into chars\n",
    "    for c in range(0, len(sc) - 1):\n",
    "        crop_img = og_image[y:y + height, x + sc[c]:x + sc[c + 1] + 2]\n",
    "        if crop_img.shape[0] < 20 or crop_img.shape[0] * crop_img.shape[1] < 300:\n",
    "            continue\n",
    "        global j\n",
    "        j += 1\n",
    "        directory= \"output/characters\"\n",
    "        if not os.path.exists(directory):\n",
    "            os.makedirs(directory)\n",
    "        cv2.imwrite(directory+\"/\"+str(j)+\".png\", crop_img)"
   ]
  },
  {
   "cell_type": "code",
   "execution_count": 38,
   "metadata": {
    "ExecuteTime": {
     "end_time": "2018-12-27T07:10:15.922797Z",
     "start_time": "2018-12-27T06:55:37.619690Z"
    }
   },
   "outputs": [],
   "source": [
    "pre_processed = pre_processing('licence.jpg')\n",
    "image = pre_processed.copy()\n",
    "j = 0\n",
    "# get_lines(image)\n",
    "# get_words(lines[80], img)\n",
    "# for i in lines:\n",
    "#     print(i[2] * i[3])\n",
    "#     get_words(i, img)"
   ]
  },
  {
   "cell_type": "code",
   "execution_count": 6,
   "metadata": {
    "ExecuteTime": {
     "end_time": "2018-12-27T07:17:08.126245Z",
     "start_time": "2018-12-27T07:17:07.843741Z"
    }
   },
   "outputs": [],
   "source": [
    "import pytesseract as pyt\n",
    "import cv2\n",
    "import os\n",
    "import shutil\n",
    "import numpy as np\n",
    "from matplotlib.pyplot import imshow\n",
    "from PIL import Image\n",
    "import thinning"
   ]
  },
  {
   "cell_type": "code",
   "execution_count": null,
   "metadata": {},
   "outputs": [],
   "source": []
  },
  {
   "cell_type": "code",
   "execution_count": null,
   "metadata": {},
   "outputs": [],
   "source": []
  },
  {
   "cell_type": "code",
   "execution_count": 2,
   "metadata": {
    "ExecuteTime": {
     "end_time": "2018-12-26T09:27:27.786301Z",
     "start_time": "2018-12-26T09:27:27.761191Z"
    }
   },
   "outputs": [],
   "source": [
    "def pre_processing(path):\n",
    "    # Read Image\n",
    "    img = cv2.imread(path)\n",
    "\n",
    "    # scaling\n",
    "    height, width = img.shape[:2]\n",
    "    #     scaled = img\n",
    "    #     if height < 1600 and width < 1200:\n",
    "    #         scaled = cv2.resize(img, (2 * width, 2* height), interpolation=cv2.INTER_LINEAR)\n",
    "    #         # cv2.imwrite('(0)scaled.jpg', scaled)\n",
    "\n",
    "    # Deskew step\n",
    "    #     deskewed = deskew(scaled)\n",
    "    # cv2.imwrite(\"(1)deskewed.jpg\", deskewed)\n",
    "\n",
    "    # Grayscale step\n",
    "    grayscaled = cv2.cvtColor(img, cv2.COLOR_BGR2GRAY)\n",
    "    # cv2.imwrite(\"(2)grayscale.jpg\", grayscaled)\n",
    "\n",
    "    # Noise Clearing step\n",
    "    noise_cleared = cv2.fastNlMeansDenoising(grayscaled, None, 4, 7, 21)\n",
    "    cv2.imwrite(\"(3)denoise.jpg\", noise_cleared)\n",
    "    \n",
    "#     x = np.random.randn(10000)  # example data, random normal distribution\n",
    "#     num_bins = 50\n",
    "#     n, bins, patches = plt.hist(x, num_bins, normed=1, facecolor=\"green\", alpha=0.5)\n",
    "#     plt.xlabel(r\"Description of $x$ coordinate (units)\")\n",
    "#     plt.ylabel(r\"Description of $y$ coordinate (units)\")\n",
    "#     plt.title(r\"Histogram title here (remove for papers)\")\n",
    "#     plt.show();\n",
    "    \n",
    "    \n",
    "    '''\n",
    "    # GAUSSIAN's thresholding\n",
    "    GBinary = cv2.adaptiveThreshold(noise_cleared,255, cv2.ADAPTIVE_THRESH_GAUSSIAN_C, cv2.THRESH_BINARY,15,5)\n",
    "    # cv2.imwrite(\"(4)binarization.jpg\", GBinary)\n",
    "    '''\n",
    "\n",
    "    # Otsu's thresholding after Gaussian filtering\n",
    "#     blur = cv2.GaussianBlur(noise_cleared, (5, 5), 0)\n",
    "#     cv2.imwrite(\"(4)thresbinarization.jpg\", blur)\n",
    "    OBinary = cv2.adaptiveThreshold(noise_cleared,255, cv2.ADAPTIVE_THRESH_GAUSSIAN_C, cv2.THRESH_BINARY_INV,15,5)\n",
    "    ret3, OBinary = cv2.threshold(OBinary, 250, 255,\n",
    "                                  cv2.THRESH_BINARY+ cv2.THRESH_OTSU)\n",
    "    cv2.imwrite(\"(4)thresbinarization.jpg\", OBinary)\n",
    "    kernel = np.ones((3, 3), np.uint8)\n",
    "#     print(type(kernel))\n",
    "#     kernel = np.array([[1, 0, 0, 0, 0], [1, 0, 0, 0, 0], [1, 0, 0, 0, 0],\n",
    "#                        [1, 0, 0, 0, 0], [1, 0, 0, 0, 0], [1, 0, 0, 0, 0]], np.uint8)\n",
    "#     print(type(kernel))\n",
    "    print(kernel)\n",
    "    OBinary = cv2.erode(OBinary, kernel, iterations = 1)\n",
    "\n",
    "#     if os.path.exists(\"output\"):\n",
    "#         shutil.rmtree(\"output\")\n",
    "#     os.makedirs(\"output\")\n",
    "#     cv2.imwrite(\"output/Preprocessed.png\", OBinary)\n",
    "\n",
    "    return OBinary"
   ]
  },
  {
   "cell_type": "markdown",
   "metadata": {},
   "source": [
    "# Convert image into matrix of image rows and image columns"
   ]
  },
  {
   "cell_type": "code",
   "execution_count": 3,
   "metadata": {
    "ExecuteTime": {
     "end_time": "2018-12-26T09:27:28.762143Z",
     "start_time": "2018-12-26T09:27:28.756539Z"
    }
   },
   "outputs": [],
   "source": [
    "'''\n",
    "this function convert image into matrix of image rows\n",
    "'''\n",
    "\n",
    "\n",
    "def imgToMatrixR(img):\n",
    "    # get dimensions\n",
    "    height, width = img.shape\n",
    "    matrix = []\n",
    "    # getting pixels values for all rows\n",
    "    for i in range(0, height):\n",
    "        row = []\n",
    "        for j in range(0, width):\n",
    "            row.append(img[i, j])\n",
    "        matrix.append(row)\n",
    "    return matrix\n",
    "\n",
    "\n",
    "'''\n",
    "this function convert image into matrix of image columns\n",
    "'''\n",
    "\n",
    "\n",
    "def imgToMatrixC(img):\n",
    "    # get dimensions\n",
    "    height, width = img.shape\n",
    "    matrix = []\n",
    "    # getting pixels values for all columns\n",
    "    for i in range(0, width):\n",
    "        col = []\n",
    "        for j in range(0, height):\n",
    "            col.append(img[j, i])\n",
    "        matrix.append(col)\n",
    "    return matrix\n",
    "\n",
    "\n",
    "'''\n",
    "this function count a specific value (parameter p) in matrix\n",
    "'''\n",
    "\n",
    "\n",
    "def countPixel(matrix, p):\n",
    "    counter = []\n",
    "    for k in range(0, len(matrix)):\n",
    "        counter.append(matrix[k].count(p))\n",
    "    return counter"
   ]
  },
  {
   "cell_type": "markdown",
   "metadata": {},
   "source": [
    "# Line Segmentation"
   ]
  },
  {
   "cell_type": "code",
   "execution_count": 4,
   "metadata": {
    "ExecuteTime": {
     "end_time": "2018-12-26T09:27:30.274345Z",
     "start_time": "2018-12-26T09:27:30.269836Z"
    }
   },
   "outputs": [],
   "source": [
    "def get_lines(image):\n",
    "    # getting edges of the text in image\n",
    "    image_edges = cv2.Canny(image, 30, 150)\n",
    "\n",
    "    # dilating image /=to detect individual lines\n",
    "    kernel_line = np.ones((3, 25), np.uint8)\n",
    "    dilated_line = cv2.dilate(image_edges, kernel_line, iterations=1)\n",
    "\n",
    "    # finding contours of the line\n",
    "    im2, ctrs_line, hier = cv2.findContours(\n",
    "        dilated_line.copy(), cv2.RETR_EXTERNAL, cv2.CHAIN_APPROX_SIMPLE)\n",
    "    sorted_ctrs_line = sorted(\n",
    "        ctrs_line, key=lambda ctr: cv2.boundingRect(ctr)[1])\n",
    "    #     image = cv2.drawContours(image, sorted_ctrs_line, -1, (255,255,0), 5)\n",
    "\n",
    "    for i, ctr_line in enumerate(sorted_ctrs_line):\n",
    "        # getting coordinates of the line contour\n",
    "        x_line, y_line, w_line, h_line = cv2.boundingRect(ctr_line)\n",
    "        if w_line * h_line < 3000 or w_line * h_line > 50000:\n",
    "            continue\n",
    "\n",
    "\n",
    "#         lines.append(xywh)\n",
    "        get_words(x_line, y_line, w_line, h_line)"
   ]
  },
  {
   "cell_type": "markdown",
   "metadata": {},
   "source": [
    "# Word Segmentation"
   ]
  },
  {
   "cell_type": "code",
   "execution_count": 13,
   "metadata": {
    "ExecuteTime": {
     "end_time": "2018-12-26T09:33:27.635101Z",
     "start_time": "2018-12-26T09:33:27.629604Z"
    }
   },
   "outputs": [],
   "source": [
    "def get_words(x, y, w, h):\n",
    "\n",
    "    cropped_line = pre_processed[y:y + h, x:x + w]\n",
    "    # getting edges of the text in image\n",
    "    global j\n",
    "    j += 1\n",
    "    directory= \"output/lines_og\"\n",
    "    if not os.path.exists(directory):\n",
    "        os.makedirs(directory)\n",
    "#     cropped_word = pre_processed[adjusted_y:adjusted_y + h_word, adjusted_x:adjusted_x + w_word]\n",
    "    cv2.imwrite(directory+\"/\"+str(j)+\".png\", cropped_line)\n",
    "    \n",
    "    dilated_word = cv2.Canny(cropped_line, 30, 150)\n",
    "\n",
    "    # dilating image /=to detect individual words\n",
    "    kernel_word = np.ones((3, 10), np.uint8)\n",
    "#     dilated_word = cv2.dilate(image_edges, kernel_word, iterations=1)\n",
    "\n",
    "    # finding contours of the word\n",
    "    im2, ctrs_word, hier = cv2.findContours(\n",
    "        dilated_word.copy(), cv2.RETR_EXTERNAL, cv2.CHAIN_APPROX_SIMPLE)\n",
    "    sorted_ctrs_word = sorted(\n",
    "        ctrs_word, key=lambda ctr: cv2.boundingRect(ctr)[1])\n",
    "\n",
    "    for i, ctr_word in enumerate(sorted_ctrs_word):\n",
    "        # getting coordinates of the word contour\n",
    "        x_word, y_word, w_word, h_word = cv2.boundingRect(ctr_word)\n",
    "        adjusted_x = x + x_word\n",
    "        adjusted_y = y + y_word\n",
    "        directory= \"output/words_og\"\n",
    "        if not os.path.exists(directory):\n",
    "            os.makedirs(directory)\n",
    "        cropped_word = pre_processed[adjusted_y:adjusted_y + h_word, adjusted_x:adjusted_x + w_word]\n",
    "        cv2.imwrite(directory+\"/\"+str(i)+\".png\", cropped_word)\n",
    "#         get_characters(adjusted_x, adjusted_y, w_word, h_word)"
   ]
  },
  {
   "cell_type": "markdown",
   "metadata": {},
   "source": [
    "# Character Segmentation"
   ]
  },
  {
   "cell_type": "code",
   "execution_count": 65,
   "metadata": {
    "ExecuteTime": {
     "end_time": "2018-12-26T11:08:25.387116Z",
     "start_time": "2018-12-26T11:08:25.366602Z"
    }
   },
   "outputs": [],
   "source": [
    "def get_characters(x, y, w, h):\n",
    "\n",
    "    cropped_word = pre_processed[y:y + h, x:x + w]\n",
    "    #     print(cropped_word.shape)\n",
    "    global i\n",
    "    i += 1\n",
    "    directory= \"output/words_og\"\n",
    "    if not os.path.exists(directory):\n",
    "        os.makedirs(directory)\n",
    "    cv2.imwrite(directory+\"/\"+str(i)+\".png\", cropped_word)\n",
    "    \n",
    "    kernel = np.ones((1, 1), np.uint8)\n",
    "#     print(kernel)\n",
    "    thinned = cv2.erode(cropped_word, kernel, iterations = 1)\n",
    "#     cropped_word = cv2.Canny(cropped_word, 30, 150)\n",
    "    \n",
    "    directory= \"output/words_eroded\"\n",
    "    if not os.path.exists(directory):\n",
    "        os.makedirs(directory)\n",
    "    cv2.imwrite(directory+\"/\"+str(i)+\".png\", thinned)\n",
    "    \n",
    "    cropped_word = thinning.guo_hall_thinning(thinned)\n",
    "    \n",
    "    directory= \"output/words_thinned\"\n",
    "    if not os.path.exists(directory):\n",
    "        os.makedirs(directory)\n",
    "    cv2.imwrite(directory+\"/\"+str(i)+\".png\", cropped_word)\n",
    "    \n",
    "#     cv2.imshow('test', cropped_word)\n",
    "#     cv2.waitKey(0)\n",
    "#     cv2.destroyAllWindows()\n",
    "    # get image dimension\n",
    "    height, width = cropped_word.shape\n",
    "\n",
    "    # convert image to matrix of columns\n",
    "    matrix = imgToMatrixC(cropped_word)\n",
    "\n",
    "    # count white pixels in each column\n",
    "    white_counter = countPixel(matrix, 255)\n",
    "\n",
    "    # determine potential segmentation columns (psc).\n",
    "    # psc is any column contains no or one white bixel at most , last column in image is also a psc .\n",
    "    psc = [0]\n",
    "    for p in range(0, len(white_counter)):\n",
    "        if white_counter[p] <= 4 or p >= len(white_counter) - 1:\n",
    "            psc.append(p)\n",
    "\n",
    "    # determine segmentation columns (sc)\n",
    "    # sc is the average column between each sequence set of psc , average = summ of columns index/count of columns\n",
    "    sc = []\n",
    "    summ = 0\n",
    "    count = 0\n",
    "    for n in range(0, len(psc) - 1):\n",
    "        summ = summ + psc[n]\n",
    "        count = count + 1\n",
    "        # combine each set of sequence black columns into only one sc ,last column is also a sc\n",
    "        if psc[n] + 2 < psc[n + 1] or n >= len(psc) - 1:\n",
    "            sc.append(int(summ / count))\n",
    "            summ = 0\n",
    "            count = 0\n",
    "\n",
    "    # segment image into chars\n",
    "    for c in range(0, len(sc) - 1):\n",
    "        crop_img = cropped_word[0:height, sc[c]:sc[c + 1] + 2]\n",
    "#         cv2.imshow('test', crop_img)\n",
    "#         cv2.waitKey(0)\n",
    "#         cv2.destroyAllWindows()\n",
    "\n",
    "\n",
    "#         crop_img = clearBounds_horiz(crop_img)\n",
    "#         crop_img = clearBounds_vert(crop_img)\n",
    "#         crop_img = cv2.resize(crop_img, (64, 128), interpolation=cv2.INTER_LINEAR)\n",
    "#         directory= \"output/line \" + str(lineNum)+\"/word \"+str(wordNum)\n",
    "#         if not os.path.exists(directory):\n",
    "#             os.makedirs(directory)\n",
    "#         cv2.imwrite(directory+\"/\"+str(c)+\".png\", crop_img)\n",
    "#         lines[lineNum].append(crop_img)\n",
    "#         if c == (len(sc) - 2):\n",
    "#             lines[lineNum].append(\",\")"
   ]
  },
  {
   "cell_type": "code",
   "execution_count": 67,
   "metadata": {
    "ExecuteTime": {
     "end_time": "2018-12-26T11:08:27.789570Z",
     "start_time": "2018-12-26T11:08:27.785158Z"
    }
   },
   "outputs": [],
   "source": [
    "# '''\n",
    "# this function segment words into chars\n",
    "# lineNum and wordNum parameters used for naming \n",
    "# segmentation technique consists of 3 steps :\n",
    "#     1- define potential segmentation columns that contains no or only one white pixels.\n",
    "#     2- filter potential segmentation columns by determine segmentation columns which the crop operation depends on .\n",
    "#     3- segment the image into segments (chars).\n",
    "# '''\n",
    "# def char_segment(binary,lineNum,wordNum):\n",
    "#     # get image dimension\n",
    "#     height, width = binary.shape\n",
    "#     # convert image to matrix of columns\n",
    "#     matrix = imgToMatrixC(binary)\n",
    "#     # count black pixels in each column\n",
    "#     black_counter = countPixel(matrix,0)\n",
    "\n",
    "#     # determine potential segmentation columns (psc).\n",
    "#     # psc is any column contains no or one black bixel at most , last column in image is also a psc .\n",
    "#     psc = [0]\n",
    "#     for p in range(0, len(black_counter)):\n",
    "#         if black_counter[p] <= 1 or p >= len(black_counter) - 2:\n",
    "#             psc.append(p)\n",
    "\n",
    "#     # determine segmentation columns (sc)\n",
    "#     # sc is the average column between each sequence set of psc , average = summ of columns index/count of columns\n",
    "#     sc = []\n",
    "#     summ = 0\n",
    "#     count = 0\n",
    "#     for n in range(0, len(psc) - 1):\n",
    "#         summ = summ + psc[n]\n",
    "#         count = count + 1\n",
    "#         # combine each set of sequence white columns into only one sc ,last column is also a sc\n",
    "#         if psc[n] + 3 < psc[n + 1] or n >= len(psc) - 2:\n",
    "#             sc.append(int(summ / count))\n",
    "#             summ = 0\n",
    "#             count = 0\n",
    "\n",
    "#     global lines\n",
    "#     # segment image into chars\n",
    "#     for c in range(0, len(sc) - 1):\n",
    "#         crop_img = binary[0:height, sc[c]:sc[c + 1]+2]\n",
    "#         crop_img = clearBounds_horiz(crop_img)\n",
    "#         crop_img = clearBounds_vert(crop_img)\n",
    "#         crop_img = cv2.resize(crop_img, (64, 128), interpolation=cv2.INTER_LINEAR)\n",
    "#         directory= \"output/line \" + str(lineNum)+\"/word \"+str(wordNum)\n",
    "#         if not os.path.exists(directory):\n",
    "#             os.makedirs(directory)\n",
    "#         cv2.imwrite(directory+\"/\"+str(c)+\".png\", crop_img)\n",
    "#         lines[lineNum].append(crop_img)\n",
    "#         if c == (len(sc) - 2):\n",
    "#             lines[lineNum].append(\",\")\n",
    "#     print(\"HERE\")\n",
    "#     print(lines)"
   ]
  },
  {
   "cell_type": "code",
   "execution_count": 68,
   "metadata": {
    "ExecuteTime": {
     "end_time": "2018-12-26T11:08:28.750705Z",
     "start_time": "2018-12-26T11:08:28.748536Z"
    }
   },
   "outputs": [],
   "source": [
    "# from skimage.morphology import skeletonize"
   ]
  },
  {
   "cell_type": "code",
   "execution_count": 162,
   "metadata": {
    "ExecuteTime": {
     "end_time": "2018-12-26T07:46:03.003557Z",
     "start_time": "2018-12-26T07:46:02.966293Z"
    }
   },
   "outputs": [
    {
     "name": "stdout",
     "output_type": "stream",
     "text": [
      "[[1 1 0 0 0]\n",
      " [1 1 0 0 0]\n",
      " [1 1 0 0 0]\n",
      " [1 1 0 0 0]\n",
      " [1 1 0 0 0]\n",
      " [1 1 0 0 0]\n",
      " [1 1 0 0 0]]\n",
      "[[1 1 0 0 0]\n",
      " [1 1 0 0 0]\n",
      " [1 1 0 0 0]\n",
      " [0 0 0 0 0]\n",
      " [0 0 0 0 0]\n",
      " [0 0 0 0 0]\n",
      " [0 0 0 0 0]]\n"
     ]
    }
   ],
   "source": [
    "cropped_word = cv2.imread('62.png', 0)\n",
    "\n",
    "kernel = np.array([[1, 1, 0, 0, 0], [1, 1, 0, 0, 0], [1, 1, 0, 0, 0], [1, 1, 0, 0, 0],\n",
    "                       [1, 1, 0, 0, 0], [1, 1, 0, 0, 0], [1, 1, 0, 0, 0]], np.uint8)\n",
    "print(kernel)\n",
    "eroded = cv2.erode(cropped_word, kernel, iterations = 1)\n",
    "dkernel = np.array([[1, 1, 0, 0, 0], [1, 1, 0, 0, 0], [1, 1, 0, 0, 0], [0, 0, 0, 0, 0],\n",
    "                       [0, 0, 0, 0, 0], [0, 0, 0, 0, 0], [0, 0, 0, 0, 0]], np.uint8)\n",
    "print(dkernel)\n",
    "dilated = cv2.dilate(cropped_word, dkernel, iterations = 1)\n",
    "# Dilation then Erosion\n",
    "cropped_word = cv2.morphologyEx(eroded, cv2.MORPH_OPEN, kernel)\n",
    "\n",
    "directory= \"output/characters\"\n",
    "if not os.path.exists(directory):\n",
    "    os.makedirs(directory)\n",
    "cv2.imwrite(directory+\"/eroded\"+str(i)+\".png\", eroded)\n",
    "cv2.imwrite(directory+\"/dilated\"+str(i)+\".png\", dilated)\n",
    "cv2.imwrite(directory+\"/\"+str(i)+\".png\", cropped_word)\n",
    "i += 1\n",
    "height, width = cropped_word.shape\n",
    "\n",
    "# convert image to matrix of columns\n",
    "matrix = imgToMatrixC(cropped_word)\n",
    "\n",
    "# count white pixels in each column\n",
    "white_counter = countPixel(matrix, 255)\n",
    "\n",
    "# determine potential segmentation columns (psc).\n",
    "# psc is any column contains no or one white bixel at most , last column in image is also a psc .\n",
    "psc = [0]\n",
    "for p in range(0, len(white_counter)):\n",
    "    if white_counter[p] <= 2 or p >= len(white_counter) - 1:\n",
    "        psc.append(p)\n",
    "\n",
    "# determine segmentation columns (sc)\n",
    "# sc is the average column between each sequence set of psc , average = summ of columns index/count of columns\n",
    "sc = []\n",
    "summ = 0\n",
    "count = 0\n",
    "for n in range(0, len(psc) - 1):\n",
    "    summ = summ + psc[n]\n",
    "    count = count + 1\n",
    "    # combine each set of sequence black columns into only one sc ,last column is also a sc\n",
    "    if psc[n] + 3 < psc[n + 1] or n >= len(psc) - 2:\n",
    "        sc.append(int(summ / count))\n",
    "        summ = 0\n",
    "        count = 0\n",
    "\n",
    "# segment image into chars\n",
    "for c in range(0, len(sc) - 1):\n",
    "    crop_img = cropped_word[0:height, sc[c]:sc[c + 1] + 2]\n",
    "    directory= \"output/characters\"\n",
    "    if not os.path.exists(directory):\n",
    "        os.makedirs(directory)\n",
    "    cv2.imwrite(directory+\"/\"+str(i)+\".png\", crop_img)\n",
    "    i += 1"
   ]
  },
  {
   "cell_type": "code",
   "execution_count": null,
   "metadata": {},
   "outputs": [],
   "source": []
  },
  {
   "cell_type": "code",
   "execution_count": null,
   "metadata": {},
   "outputs": [],
   "source": []
  },
  {
   "cell_type": "code",
   "execution_count": null,
   "metadata": {},
   "outputs": [],
   "source": []
  },
  {
   "cell_type": "markdown",
   "metadata": {},
   "source": [
    "# Thinning example"
   ]
  },
  {
   "cell_type": "code",
   "execution_count": 30,
   "metadata": {},
   "outputs": [
    {
     "data": {
      "text/plain": [
       "True"
      ]
     },
     "execution_count": 30,
     "metadata": {},
     "output_type": "execute_result"
    }
   ],
   "source": [
    "import cv2\n",
    "import thinning\n",
    "import numpy as np\n",
    "\n",
    "img = cv2.imread(\"./cropped.jpg\", 0)\n",
    "adap = cv2.adaptiveThreshold(img, 255, cv2.ADAPTIVE_THRESH_MEAN_C,\n",
    "                             cv2.THRESH_BINARY, 11, 2)\n",
    "\n",
    "ret, img = cv2.threshold(img, 200, 255,\n",
    "                         cv2.THRESH_BINARY_INV + cv2.THRESH_OTSU)\n",
    "# img_gray = cv2.cvtColor(img, cv2.COLOR_BGR2GRAY)\n",
    "kernel = np.ones((4, 4), np.uint8)\n",
    "\n",
    "thinned = cv2.erode(img, kernel, iterations=1)\n",
    "thinned = thinning.guo_hall_thinning(img)\n",
    "\n",
    "resized = cv2.resize(thinned, None, fx=0.5, fy=0.5)\n",
    "cv2.imwrite(\"./thinned.png\", resized)"
   ]
  },
  {
   "cell_type": "markdown",
   "metadata": {},
   "source": [
    "# Testing denoising"
   ]
  },
  {
   "cell_type": "code",
   "execution_count": 22,
   "metadata": {},
   "outputs": [],
   "source": [
    "import cv2\n",
    "import numpy as np\n",
    "import thinning"
   ]
  },
  {
   "cell_type": "code",
   "execution_count": 40,
   "metadata": {},
   "outputs": [],
   "source": [
    "img = cv2.imread(\"licence.jpg\",0)\n",
    "\n",
    "denoised = cv2.fastNlMeansDenoising(img, None, 6, 7, 21)\n",
    "\n",
    "kernel = np.ones((3, 3), np.uint8)\n",
    "\n",
    "thinned = cv2.erode(img, kernel, iterations = 1)\n",
    "\n",
    "adapgaussian = cv2.adaptiveThreshold(denoised, 255, cv2.ADAPTIVE_THRESH_GAUSSIAN_C, cv2.THRESH_BINARY_INV, 11, 2)\n",
    "adapgaussian = cv2.erode(adapgaussian, kernel, iterations = 1)\n",
    "adapgaussian = thinning.guo_hall_thinning(adapgaussian)\n",
    "adapgaussian = cv2.resize(adapgaussian, None, fx = 0.5, fy = 0.5)\n",
    "\n",
    "noisedgaussian = cv2.adaptiveThreshold(img, 255, cv2.ADAPTIVE_THRESH_GAUSSIAN_C, cv2.THRESH_BINARY_INV, 11, 2)\n",
    "noisedgaussian = cv2.erode(noisedgaussian, kernel, iterations = 1)\n",
    "noisedgaussian = thinning.guo_hall_thinning(noisedgaussian)\n",
    "noisedgaussian = cv2.resize(noisedgaussian, None, fx = 0.5, fy = 0.5)\n",
    "\n",
    "adapmean = cv2.adaptiveThreshold(denoised, 255, cv2.ADAPTIVE_THRESH_MEAN_C, cv2.THRESH_BINARY_INV, 11, 2)\n",
    "adapmean = cv2.erode(adapmean, kernel, iterations = 1)\n",
    "adapmean = thinning.guo_hall_thinning(adapmean)\n",
    "adapmean = cv2.resize(adapmean, None, fx = 0.5, fy = 0.5)\n",
    "\n",
    "noisedmean = cv2.adaptiveThreshold(img, 255, cv2.ADAPTIVE_THRESH_MEAN_C, cv2.THRESH_BINARY_INV, 11, 2)\n",
    "noisedmean = cv2.erode(noisedmean, kernel, iterations = 1)\n",
    "noisedmean = thinning.guo_hall_thinning(noisedmean)\n",
    "noisedmean = cv2.resize(noisedmean, None, fx = 0.5, fy = 0.5)\n",
    "\n",
    "cv2.imshow('Denoised mean', adapmean)\n",
    "cv2.waitKey(0)\n",
    "\n",
    "cv2.imshow('noised mean', noisedmean)\n",
    "cv2.waitKey(0)\n",
    "\n",
    "cv2.imshow('Denoised gaussian', adapgaussian)\n",
    "cv2.waitKey(0)\n",
    "\n",
    "cv2.imshow('noised gaussian', noisedgaussian)\n",
    "cv2.waitKey(0)\n",
    "\n",
    "cv2.destroyAllWindows()"
   ]
  },
  {
   "cell_type": "code",
   "execution_count": null,
   "metadata": {},
   "outputs": [],
   "source": []
  },
  {
   "cell_type": "code",
   "execution_count": null,
   "metadata": {},
   "outputs": [],
   "source": []
  },
  {
   "cell_type": "code",
   "execution_count": null,
   "metadata": {},
   "outputs": [],
   "source": []
  },
  {
   "cell_type": "code",
   "execution_count": 122,
   "metadata": {},
   "outputs": [
    {
     "name": "stdout",
     "output_type": "stream",
     "text": [
      "[[1 1 1 1]\n",
      " [1 1 1 1]\n",
      " [1 1 1 1]\n",
      " [1 1 1 1]]\n"
     ]
    }
   ],
   "source": [
    "image = cv2.imread('licence.jpg', 0)\n",
    "cv2.imshow('Edges after contouring', image)\n",
    "cv2.waitKey(0)\n",
    "\n",
    "# image = cv2.GaussianBlur(image, (3, 3), 0)\n",
    "# kernel = np.array([[-1, 2, -1],\n",
    "#                    [-1, 2, -1],\n",
    "#                    [-1, 2, -1]])\n",
    "kernel = np.ones((4, 4), np.uint8)\n",
    "print(kernel)\n",
    "# image = cv2.dilate(image, kernel, iterations = 1)\n",
    "\n",
    "ret, threshold = cv2.threshold(image, 200, 255, cv2.THRESH_BINARY_INV + cv2.THRESH_OTSU)\n",
    "\n",
    "erosion = cv2.erode(threshold, kernel, iterations = 1)\n",
    "cv2.imshow('Erosion', erosion)\n",
    "cv2.waitKey()\n",
    "\n",
    "# closing = cv2.morphologyEx(threshold, cv2.MORPH_CLOSE, kernel)\n",
    "# cv2.imshow('Closing', closing)\n",
    "# cv2.waitKey()\n",
    "\n",
    "resized = cv2.resize(erosion, None, fx = 0.5, fy = 0.5)\n",
    "cv2.imshow('Edges after contouring', resized)\n",
    "cv2.waitKey(0)\n",
    "\n",
    "edges = cv2.Canny(threshold, 30, 200)\n",
    "cv2.imshow('Edges', edges)\n",
    "cv2.waitKey(0)\n",
    "\n",
    "cv2.destroyAllWindows()"
   ]
  },
  {
   "cell_type": "code",
   "execution_count": 109,
   "metadata": {},
   "outputs": [
    {
     "data": {
      "image/png": "[encoded data removed]",
      "text/plain": [
       "<Figure size 432x288 with 2 Axes>"
      ]
     },
     "metadata": {},
     "output_type": "display_data"
    }
   ],
   "source": [
    "import matplotlib\n",
    "import matplotlib.pyplot as plt\n",
    "import skimage.io as io\n",
    "\"load image data\"\n",
    "# Img_Original =  io.imread( 'download.jpeg')      # Gray image, rgb images need pre-conversion\n",
    "Img_Original = cv2.imread('cropped.jpg', 0)\n",
    "\"Convert gray images to binary images using Otsu's method\"\n",
    "from skimage.filters import threshold_otsu\n",
    "Otsu_Threshold = threshold_otsu(Img_Original)   \n",
    "BW_Original = Img_Original < Otsu_Threshold    # must set object region as 1, background region as 0 !\n",
    "\n",
    "# def neighbours(x,y,image):\n",
    "#     \"Return 8-neighbours of image point P1(x,y), in a clockwise order\"\n",
    "#     img = image\n",
    "#     x_1, y_1, x1, y1 = x-1, y-1, x+1, y+1\n",
    "#     return [ img[x_1][y], img[x_1][y1], img[x][y1], img[x1][y1],     # P2,P3,P4,P5\n",
    "#                 img[x1][y], img[x1][y_1], img[x][y_1], img[x_1][y_1] ]    # P6,P7,P8,P9\n",
    "\n",
    "# def transitions(neighbours):\n",
    "#     \"No. of 0,1 patterns (transitions from 0 to 1) in the ordered sequence\"\n",
    "#     n = neighbours + neighbours[0:1]      # P2, P3, ... , P8, P9, P2\n",
    "#     return sum( (n1, n2) == (0, 1) for n1, n2 in zip(n, n[1:]) )  # (P2,P3), (P3,P4), ... , (P8,P9), (P9,P2)\n",
    "\n",
    "# def zhangSuen(image):\n",
    "#     \"the Zhang-Suen Thinning Algorithm\"\n",
    "#     Image_Thinned = image.copy()  # deepcopy to protect the original image\n",
    "#     changing1 = changing2 = 1        #  the points to be removed (set as 0)\n",
    "#     while changing1 or changing2:   #  iterates until no further changes occur in the image\n",
    "#         # Step 1\n",
    "#         changing1 = []\n",
    "#         rows, columns = Image_Thinned.shape[0],Image_Thinned.shape[1]               # x for rows, y for columns\n",
    "#         for x in range(1, rows - 1):                     # No. of  rows\n",
    "#             for y in range(1, columns - 1):            # No. of columns\n",
    "#                 P2,P3,P4,P5,P6,P7,P8,P9 = n = neighbours(x, y, Image_Thinned)\n",
    "                \n",
    "#                 if (Image_Thinned[x][y] == 1     and    # Condition 0: Point P1 in the object regions \n",
    "#                     2 <= sum(n) <= 6   and    # Condition 1: 2<= N(P1) <= 6\n",
    "#                     transitions(n) == 1 and    # Condition 2: S(P1)=1  \n",
    "#                     P2 * P4 * P6 == 0  and    # Condition 3   \n",
    "#                     P4 * P6 * P8 == 0):         # Condition 4\n",
    "#                     changing1.append((x,y))\n",
    "#         for x, y in changing1: \n",
    "#             Image_Thinned[x][y] = 0\n",
    "#         # Step 2\n",
    "#         changing2 = []\n",
    "#         for x in range(1, rows - 1):\n",
    "#             for y in range(1, columns - 1):\n",
    "#                 P2,P3,P4,P5,P6,P7,P8,P9 = n = neighbours(x, y, Image_Thinned)\n",
    "#                 if (Image_Thinned[x][y] == 1   and        # Condition 0\n",
    "#                     2 <= sum(n) <= 6  and       # Condition 1\n",
    "#                     transitions(n) == 1 and      # Condition 2\n",
    "#                     P2 * P4 * P8 == 0 and       # Condition 3\n",
    "#                     P2 * P6 * P8 == 0):            # Condition 4\n",
    "#                     changing2.append((x,y))    \n",
    "#         for x, y in changing2: \n",
    "#             Image_Thinned[x][y] = 0\n",
    "#     return Image_Thinned\n",
    "\n",
    "def neighbours_vec(image):\n",
    "    return image[2:,1:-1], image[2:,2:], image[1:-1,2:], image[:-2,2:], image[:-2,1:-1],     image[:-2,:-2], image[1:-1,:-2], image[2:,:-2]\n",
    "\n",
    "def transitions_vec(P2, P3, P4, P5, P6, P7, P8, P9):\n",
    "    return ((P3-P2) > 0).astype(int) + ((P4-P3) > 0).astype(int) + \\\n",
    "    ((P5-P4) > 0).astype(int) + ((P6-P5) > 0).astype(int) + \\\n",
    "    ((P7-P6) > 0).astype(int) + ((P8-P7) > 0).astype(int) + \\\n",
    "    ((P9-P8) > 0).astype(int) + ((P2-P9) > 0).astype(int)\n",
    "\n",
    "def zhangSuen_vec(image, iterations):\n",
    "    for iter in range (1, iterations):\n",
    "        print(iter)\n",
    "        # step 1    \n",
    "        P2,P3,P4,P5,P6,P7,P8,P9 = neighbours_vec(image)\n",
    "        condition0 = image[1:-1,1:-1]\n",
    "        condition4 = P4*P6*P8\n",
    "        condition3 = P2*P4*P6\n",
    "        condition2 = transitions_vec(P2, P3, P4, P5, P6, P7, P8, P9) == 1\n",
    "        condition1 = (2 <= P2+P3+P4+P5+P6+P7+P8+P9) * (P2+P3+P4+P5+P6+P7+P8+P9 <= 8)\n",
    "        cond = (condition0 == 1) * (condition4 == 0) * (condition3 == 0) * (condition2 == 1) * (condition1 == 1)\n",
    "        changing1 = numpy.where(cond == 1)\n",
    "        image[changing1[0]+1,changing1[1]+1] = 0\n",
    "        # step 2\n",
    "        P2,P3,P4,P5,P6,P7,P8,P9 = neighbours_vec(image)\n",
    "        condition0 = image[1:-1,1:-1]\n",
    "        condition4 = P2*P6*P8\n",
    "        condition3 = P2*P4*P8\n",
    "        condition2 = transitions_vec(P2, P3, P4, P5, P6, P7, P8, P9) == 1\n",
    "        condition1 = (2 <= P2+P3+P4+P5+P6+P7+P8+P9) * (P2+P3+P4+P5+P6+P7+P8+P9 <= 6)\n",
    "        cond = (condition0 == 1) * (condition4 == 0) * (condition3 == 0) * (condition2 == 1) * (condition1 == 1)\n",
    "        changing2 = numpy.where(cond == 1)\n",
    "        image[changing2[0]+1,changing2[1]+1] = 0\n",
    "    return image\n",
    " \n",
    "\n",
    "\"Apply the algorithm on images\"\n",
    "BW_Skeleton = zhangSuen(BW_Original)\n",
    "# BW_Skeleton = BW_Original\n",
    "\"Display the results\"\n",
    "fig, ax = plt.subplots(1, 2)\n",
    "ax1, ax2 = ax.ravel()\n",
    "ax1.imshow(BW_Original, cmap=plt.cm.gray)\n",
    "ax1.set_title('Original binary image')\n",
    "ax1.axis('off')\n",
    "ax2.imshow(BW_Skeleton, cmap=plt.cm.gray)\n",
    "ax2.set_title('Skeleton of the image')\n",
    "ax2.axis('off')\n",
    "plt.show()"
   ]
  },
  {
   "cell_type": "code",
   "execution_count": null,
   "metadata": {},
   "outputs": [],
   "source": [
    "from skimage."
   ]
  },
  {
   "cell_type": "code",
   "execution_count": 56,
   "metadata": {},
   "outputs": [],
   "source": [
    "img = cv2.imread('cropped.jpg',0)\n",
    "size = np.size(img)\n",
    "skel = np.zeros(img.shape,np.uint8)\n",
    " \n",
    "ret,img = cv2.threshold(img,127,255,0)\n",
    "element = cv2.getStructuringElement(cv2.MORPH_CROSS,(3,3))\n",
    "done = False\n",
    " \n",
    "while( not done):\n",
    "    eroded = cv2.erode(img,element)\n",
    "    temp = cv2.dilate(eroded,element)\n",
    "    temp = cv2.subtract(img,temp)\n",
    "    skel = cv2.bitwise_or(skel,temp)\n",
    "    img = eroded.copy()\n",
    " \n",
    "    zeros = size - cv2.countNonZero(img)\n",
    "    if zeros==size:\n",
    "        done = True\n",
    " \n",
    "cv2.imshow(\"skel\",skel)\n",
    "cv2.waitKey(0)\n",
    "cv2.destroyAllWindows()"
   ]
  },
  {
   "cell_type": "code",
   "execution_count": 87,
   "metadata": {},
   "outputs": [
    {
     "name": "stdout",
     "output_type": "stream",
     "text": [
      "[[ True  True  True ...  True  True  True]\n",
      " [ True  True  True ...  True  True  True]\n",
      " [ True  True  True ...  True  True  True]\n",
      " ...\n",
      " [ True  True  True ...  True  True  True]\n",
      " [ True  True  True ...  True  True  True]\n",
      " [ True  True  True ...  True  True  True]]\n",
      "[[False False False ... False False False]\n",
      " [False False False ... False False False]\n",
      " [False False False ... False False False]\n",
      " ...\n",
      " [False False False ... False False False]\n",
      " [False False False ... False False False]\n",
      " [False False False ... False False False]]\n"
     ]
    },
    {
     "data": {
      "image/png": "[encoded data removed]",
      "text/plain": [
       "<Figure size 576x288 with 2 Axes>"
      ]
     },
     "metadata": {},
     "output_type": "display_data"
    }
   ],
   "source": [
    "from skimage.morphology import skeletonize\n",
    "from skimage import data\n",
    "import matplotlib.pyplot as plt\n",
    "from skimage.util import invert\n",
    "\n",
    "# Invert the horse image\n",
    "print(data.horse())\n",
    "image = invert(data.horse())\n",
    "print(image)\n",
    "\n",
    "# perform skeletonization\n",
    "skeleton = skeletonize(image)\n",
    "\n",
    "# display results\n",
    "fig, axes = plt.subplots(nrows=1, ncols=2, figsize=(8, 4),\n",
    "                         sharex=True, sharey=True)\n",
    "\n",
    "ax = axes.ravel()\n",
    "\n",
    "ax[0].imshow(image, cmap=plt.cm.gray)\n",
    "ax[0].axis('off')\n",
    "ax[0].set_title('original', fontsize=20)\n",
    "\n",
    "ax[1].imshow(skeleton, cmap=plt.cm.gray)\n",
    "ax[1].axis('off')\n",
    "ax[1].set_title('skeleton', fontsize=20)\n",
    "\n",
    "fig.tight_layout()\n",
    "plt.show()"
   ]
  },
  {
   "cell_type": "code",
   "execution_count": 30,
   "metadata": {},
   "outputs": [],
   "source": [
    "image = cv2.imread('licence.jpg')\n",
    "image = cv2.cvtColor(image, cv2.COLOR_BGR2GRAY)\n",
    "ret, threshold = cv2.threshold(image, 200, 255, cv2.THRESH_BINARY_INV)\n",
    "\n",
    "edges = cv2.Canny(image, 50, 220)\n",
    "resized = cv2.resize(edges, None, fx = 0.5, fy = 0.5)\n",
    "cv2.imshow('Edges', resized)\n",
    "cv2.waitKey(0)\n",
    "\n",
    "# Find Contours\n",
    "_, contours, hierarchy = cv2.findContours(edges, cv2.RETR_EXTERNAL, cv2.CHAIN_APPROX_SIMPLE)\n",
    "cv2.drawContours(edges, contours, -1, (0,255,0), 2)\n",
    "edges = cv2.resize(edges, None, fx = 0.5, fy = 0.5)\n",
    "cv2.imshow('Edges after contouring', edges)\n",
    "cv2.waitKey(0)\n",
    "cv2.destroyAllWindows()"
   ]
  },
  {
   "cell_type": "code",
   "execution_count": null,
   "metadata": {},
   "outputs": [],
   "source": [
    "kernel = np.ones((10, 1), np.uint8)\n",
    "    img_dilation = cv2.dilate(word, kernel, iterations=1)\n",
    "    im2, ctrs, hier = cv2.findContours(img_dilation.copy(), cv2.RETR_EXTERNAL, cv2.CHAIN_APPROX_SIMPLE)\n",
    "    sorted_ctrs = sorted(ctrs, key=lambda ctr: cv2.boundingRect(ctr)[0])\n",
    "    character_list = []\n",
    "    for i, ctr in enumerate(sorted_ctrs):\n",
    "        # Get bounding box\n",
    "        x, y, w, h = cv2.boundingRect(ctr)\n",
    "        #dimensions = [x, y, w, h]\n",
    "        # Getting ROI\n",
    "        roi = word[y:y + h, x:x + w]\n",
    "        squared = makeSquare(roi)\n",
    "        final = resize_to_pixel(28, squared)\n",
    "        letter = characterPrediction(final)\n",
    "        character_list.append(letter)\n",
    "    return character_list"
   ]
  },
  {
   "cell_type": "markdown",
   "metadata": {},
   "source": [
    "# Line Detection"
   ]
  },
  {
   "cell_type": "code",
   "execution_count": null,
   "metadata": {},
   "outputs": [],
   "source": []
  },
  {
   "cell_type": "markdown",
   "metadata": {},
   "source": [
    "# Word Detection"
   ]
  },
  {
   "cell_type": "code",
   "execution_count": null,
   "metadata": {},
   "outputs": [],
   "source": []
  },
  {
   "cell_type": "markdown",
   "metadata": {},
   "source": [
    "# Character Detection"
   ]
  },
  {
   "cell_type": "code",
   "execution_count": null,
   "metadata": {},
   "outputs": [],
   "source": []
  },
  {
   "cell_type": "code",
   "execution_count": 1,
   "metadata": {},
   "outputs": [
    {
     "data": {
      "text/plain": [
       "'3.3.1'"
      ]
     },
     "execution_count": 1,
     "metadata": {},
     "output_type": "execute_result"
    }
   ],
   "source": [
    "import cv2\n",
    "cv2.__version__"
   ]
  },
  {
   "cell_type": "code",
   "execution_count": 3,
   "metadata": {},
   "outputs": [],
   "source": [
    "import cv2\n",
    "import numpy"
   ]
  },
  {
   "cell_type": "code",
   "execution_count": 25,
   "metadata": {},
   "outputs": [
    {
     "name": "stdout",
     "output_type": "stream",
     "text": [
      "Number of Contours found = 742\n"
     ]
    }
   ],
   "source": [
    "# Image with shapes\n",
    "image = cv2.imread('abc.jpg')\n",
    "cv2.imshow('Original', image)\n",
    "cv2.waitKey(0)\n",
    "\n",
    "resized = cv2.resize(image, None, fx = 2, fy = 2)\n",
    "\n",
    "# Grayscale\n",
    "gray = cv2.cvtColor(resized, cv2.COLOR_BGR2GRAY)\n",
    "#gray_blur = cv2.GaussianBlur(gray, (3, 3), 0)\n",
    "# Find Canny Edges\n",
    "edges = cv2.Canny(gray, 30, 200)\n",
    "cv2.imshow('Edges', edges)\n",
    "cv2.waitKey(0)\n",
    "\n",
    "# Find Contours\n",
    "_, contours, hierarchy = cv2.findContours(edges, cv2.RETR_CCOMP, cv2.CHAIN_APPROX_NONE)\n",
    "cv2.imshow('Edges after contouring', edges)\n",
    "cv2.waitKey()\n",
    "\n",
    "print('Number of Contours found = ' + str(len(contours)))\n",
    "\n",
    "#contours = np.array(contours).reshape((-1,1,2)).astype(np.int32)\n",
    "cv2.drawContours(resized, contours, -1, (0,255,0), 2)\n",
    "\n",
    "cv2.imshow('Contours', resized)\n",
    "cv2.waitKey(0)\n",
    "cv2.destroyAllWindows()"
   ]
  },
  {
   "cell_type": "code",
   "execution_count": null,
   "metadata": {},
   "outputs": [],
   "source": []
  },
  {
   "cell_type": "code",
   "execution_count": null,
   "metadata": {},
   "outputs": [],
   "source": []
  },
  {
   "cell_type": "markdown",
   "metadata": {},
   "source": [
    "# My PSC"
   ]
  },
  {
   "cell_type": "markdown",
   "metadata": {},
   "source": [
    "### Importing libraries"
   ]
  },
  {
   "cell_type": "code",
   "execution_count": 1,
   "metadata": {
    "ExecuteTime": {
     "end_time": "2018-12-24T06:53:56.855660Z",
     "start_time": "2018-12-24T06:53:56.548516Z"
    }
   },
   "outputs": [],
   "source": [
    "import cv2\n",
    "import os\n",
    "import shutil\n",
    "import numpy as np\n",
    "from matplotlib.pyplot import imshow\n",
    "from PIL import Image"
   ]
  },
  {
   "cell_type": "markdown",
   "metadata": {},
   "source": [
    "### Preprocessing image"
   ]
  },
  {
   "cell_type": "code",
   "execution_count": 81,
   "metadata": {
    "ExecuteTime": {
     "end_time": "2018-12-24T10:32:15.228267Z",
     "start_time": "2018-12-24T10:32:15.211786Z"
    }
   },
   "outputs": [],
   "source": [
    "'''\n",
    "this function applies a set of preprocessing operations to the input image, function output is a binarized image.\n",
    "operations are scaling , grayscaling , noise clearing , gaussian's thresholding and remove underlines.\n",
    "finally the function calls lineSegment function to segment the image into lines.\n",
    "'''\n",
    "\n",
    "\n",
    "def pre_processing(path):\n",
    "    # Read Image\n",
    "    img = cv2.imread(path)\n",
    "\n",
    "    # scaling\n",
    "    height, width = img.shape[:2]\n",
    "    #     scaled = img\n",
    "    #     if height < 1600 and width < 1200:\n",
    "    #         scaled = cv2.resize(img, (2 * width, 2* height), interpolation=cv2.INTER_LINEAR)\n",
    "    #         # cv2.imwrite('(0)scaled.jpg', scaled)\n",
    "\n",
    "    # Deskew step\n",
    "    #     deskewed = deskew(scaled)\n",
    "    # cv2.imwrite(\"(1)deskewed.jpg\", deskewed)\n",
    "\n",
    "    # Grayscale step\n",
    "    grayscaled = cv2.cvtColor(img, cv2.COLOR_BGR2GRAY)\n",
    "    # cv2.imwrite(\"(2)grayscale.jpg\", grayscaled)\n",
    "\n",
    "    # Noise Clearing step\n",
    "    noise_cleared = cv2.fastNlMeansDenoising(grayscaled, None, 4, 7, 21)\n",
    "    # cv2.imwrite(\"(3)denoise.jpg\", noise_cleared)\n",
    "    '''\n",
    "    # GAUSSIAN's thresholding\n",
    "    GBinary = cv2.adaptiveThreshold(noise_cleared,255, cv2.ADAPTIVE_THRESH_GAUSSIAN_C, cv2.THRESH_BINARY,15,5)\n",
    "    # cv2.imwrite(\"(4)binarization.jpg\", GBinary)\n",
    "    '''\n",
    "\n",
    "    # Otsu's thresholding after Gaussian filtering\n",
    "    blur = cv2.GaussianBlur(noise_cleared, (5, 5), 0)\n",
    "    ret3, OBinary = cv2.threshold(blur, 0, 255,\n",
    "                                  cv2.THRESH_BINARY_INV + cv2.THRESH_OTSU)\n",
    "    # cv2.imwrite(\"(4)binarization.jpg\", OBinary)\n",
    "\n",
    "    if os.path.exists(\"output\"):\n",
    "        shutil.rmtree(\"output\")\n",
    "    os.makedirs(\"output\")\n",
    "    cv2.imwrite(\"output/Preprocessed.png\", OBinary)\n",
    "\n",
    "    return OBinary"
   ]
  },
  {
   "cell_type": "code",
   "execution_count": 82,
   "metadata": {
    "ExecuteTime": {
     "end_time": "2018-12-24T10:32:15.648961Z",
     "start_time": "2018-12-24T10:32:15.640311Z"
    }
   },
   "outputs": [],
   "source": [
    "'''\n",
    "this function convert image into matrix of image rows\n",
    "'''\n",
    "def imgToMatrixR(img):\n",
    "    # get dimensions\n",
    "    height, width = img.shape\n",
    "    matrix = []\n",
    "    # getting pixels values for all rows\n",
    "    for i in range(0, height):\n",
    "        row = []\n",
    "        for j in range(0, width):\n",
    "            row.append(img[i,j])\n",
    "        matrix.append(row)\n",
    "    return matrix\n",
    "\n",
    "'''\n",
    "this function convert image into matrix of image columns\n",
    "'''\n",
    "def imgToMatrixC(img):\n",
    "    # get dimensions\n",
    "    height, width = img.shape\n",
    "    matrix = []\n",
    "    # getting pixels values for all columns\n",
    "    for i in range(0, width):\n",
    "        col = []\n",
    "        for j in range(0, height):\n",
    "            col.append(img[j, i])\n",
    "        matrix.append(col)\n",
    "    return matrix\n",
    "\n",
    "'''\n",
    "this function count a specific value (parameter p) in matrix\n",
    "'''\n",
    "def countPixel(matrix,p):\n",
    "    counter = []\n",
    "    for k in range(0, len(matrix)):\n",
    "        counter.append(matrix[k].count(p))\n",
    "    return counter"
   ]
  },
  {
   "cell_type": "code",
   "execution_count": 83,
   "metadata": {
    "ExecuteTime": {
     "end_time": "2018-12-24T10:32:16.790847Z",
     "start_time": "2018-12-24T10:32:16.772379Z"
    }
   },
   "outputs": [],
   "source": [
    "'''\n",
    "this function searches for underlines  and replace the pixels that formed it with white pixels \n",
    "'''\n",
    "def lineRemoval(img):\n",
    "    min_length=140\n",
    "    matrix = imgToMatrixR(img)\n",
    "    for i in range(0, len(matrix)):\n",
    "        row=matrix[i]\n",
    "        start=-1\n",
    "        end=0\n",
    "        conn=0\n",
    "        for j in range(0, len(row)):\n",
    "            if (row[j]==0):\n",
    "                conn=conn+1\n",
    "                # first point in the line .\n",
    "                if( start == -1 ):\n",
    "                    start = j\n",
    "                # last point in the row .\n",
    "                if( j == len(row)-1 ):\n",
    "                    end =j\n",
    "                    if (conn > min_length):\n",
    "                        img[i-2:i+4, start:end+1] = 0\n",
    "                    start = -1\n",
    "                    end = 0\n",
    "                    conn = 0\n",
    "            # end of the line\n",
    "            else:\n",
    "                end =j\n",
    "                if (conn >min_length):\n",
    "                    img[i-2:i+4, start:end+1] = 0\n",
    "                start = -1\n",
    "                end = 0\n",
    "                conn = 0\n",
    "    return img"
   ]
  },
  {
   "cell_type": "code",
   "execution_count": 84,
   "metadata": {
    "ExecuteTime": {
     "end_time": "2018-12-24T10:32:18.021381Z",
     "start_time": "2018-12-24T10:32:18.002334Z"
    }
   },
   "outputs": [],
   "source": [
    "\n",
    "'''\n",
    "this function clears all horizontal boundaries around the input image\n",
    "'''\n",
    "def clearBounds_horiz(img):\n",
    "    height, width = img.shape\n",
    "    matrix = imgToMatrixR(img)\n",
    "    white_counter = countPixel(matrix,255)\n",
    "\n",
    "    for i in range (0,height):\n",
    "        if(white_counter[i]>= width-1):\n",
    "            img = img[1:height,0:width]\n",
    "        else:\n",
    "            break\n",
    "\n",
    "    new_height, width = img.shape\n",
    "    for i in range (1,height):\n",
    "        if(white_counter[height-i]>= width-1):\n",
    "            img = img[0:new_height-i,0:width]\n",
    "        else:\n",
    "            break\n",
    "\n",
    "    return img\n",
    "\n",
    "'''\n",
    "this function clears all vertical boundaries around the input image\n",
    "'''\n",
    "def clearBounds_vert(img):\n",
    "    height, width = img.shape\n",
    "    matrix = imgToMatrixC(img)\n",
    "    white_counter = countPixel(matrix, 0)\n",
    "\n",
    "    for i in range (0,width):\n",
    "        if(white_counter[i]>= height-1):\n",
    "            img = img[0:height,1:width]\n",
    "        else:\n",
    "            break\n",
    "\n",
    "    height, new_width = img.shape\n",
    "    for i in range (1,width):\n",
    "        if(white_counter[width-i]>= height-1):\n",
    "            img = img[0:height,0:new_width-i]\n",
    "        else:\n",
    "            break\n",
    "\n",
    "    return img"
   ]
  },
  {
   "cell_type": "code",
   "execution_count": 85,
   "metadata": {
    "ExecuteTime": {
     "end_time": "2018-12-24T10:32:40.475249Z",
     "start_time": "2018-12-24T10:32:40.464371Z"
    }
   },
   "outputs": [],
   "source": [
    "def line_segment(binary):\n",
    "    # get dimensions\n",
    "    height, width = binary.shape\n",
    "    # convert image into matrix of rows\n",
    "    matrix = imgToMatrixR(binary)\n",
    "    # count black pixels in each row\n",
    "    black_counter = countPixel(matrix, 0)\n",
    "\n",
    "    # determine potential segmentation rows (psr)\n",
    "    # psr is any row contains 0-2 black pixels, last row in image is also a psr .\n",
    "    psr = [0]\n",
    "    for i in range(0, len(black_counter)):\n",
    "        if black_counter[i] <= 2 or i >= len(black_counter) - 2:\n",
    "            psr.append(i)\n",
    "    print(psr)\n",
    "    # determine segmentation rows sr\n",
    "    # sr is the index where we segment the image\n",
    "    sr = []\n",
    "    count = 0\n",
    "    for n in range(0, len(psr) - 1):\n",
    "        # combine each set of sequence white rows into only one sr\n",
    "        if psr[n] + 3 < psr[n + 1] or n >= len(psr) - 2:\n",
    "            sr.append(psr[n - int(count / 2)])\n",
    "            count = 0\n",
    "        else:\n",
    "            count += 1\n",
    "    print(sr)\n",
    "    # segment image into lines\n",
    "    global lines\n",
    "    for c in range(0, len(sr) - 1):\n",
    "        crop_img = binary[sr[c]:sr[c + 1], 0:width]\n",
    "        img = crop_img\n",
    "        img = lineRemoval(crop_img)\n",
    "        img = clearBounds_horiz(img)\n",
    "        img = clearBounds_vert(img)\n",
    "        directory = \"output/line \" + str(c)\n",
    "        if not os.path.exists(directory):\n",
    "            os.makedirs(directory)\n",
    "        cv2.imwrite(\"output/line \" + str(c) + \"/line \" + str(c) + \".png\", img)\n",
    "        # Call function to Segment the line into words then chars\n",
    "        lines.append([])\n",
    "#         word_segment(img, c)\n",
    "        lines[c].append(\",\")\n",
    "    print(lines)"
   ]
  },
  {
   "cell_type": "code",
   "execution_count": 86,
   "metadata": {
    "ExecuteTime": {
     "end_time": "2018-12-24T10:32:49.761788Z",
     "start_time": "2018-12-24T10:32:49.430296Z"
    }
   },
   "outputs": [
    {
     "name": "stdout",
     "output_type": "stream",
     "text": [
      "[0, 243, 244]\n",
      "[0, 243]\n",
      "[[',']]\n"
     ]
    }
   ],
   "source": [
    "global lines\n",
    "lines = []\n",
    "\n",
    "pre_processed = pre_processing('cropped.jpg')\n",
    "line_segment(pre_processed)"
   ]
  },
  {
   "cell_type": "code",
   "execution_count": null,
   "metadata": {},
   "outputs": [],
   "source": []
  },
  {
   "cell_type": "code",
   "execution_count": null,
   "metadata": {},
   "outputs": [],
   "source": []
  },
  {
   "cell_type": "code",
   "execution_count": null,
   "metadata": {},
   "outputs": [],
   "source": []
  },
  {
   "cell_type": "code",
   "execution_count": null,
   "metadata": {},
   "outputs": [],
   "source": []
  },
  {
   "cell_type": "code",
   "execution_count": 3,
   "metadata": {
    "ExecuteTime": {
     "end_time": "2019-01-16T02:23:59.322824Z",
     "start_time": "2019-01-16T02:23:59.319450Z"
    }
   },
   "outputs": [],
   "source": [
    "def pre_processing(path):\n",
    "\n",
    "    img = cv2.imread(path, 0)\n",
    "    showImage('main image', img)\n",
    "    hist,bins = np.histogram(img,256,[0,256])\n",
    "\n",
    "    _, img = cv2.threshold(img, np.argmax(hist) - 15, 255, cv2.THRESH_BINARY)\n",
    "    \n",
    "    # Deskew step\n",
    "#     deskewed = deskew(img)\n",
    "    # cv2.imwrite(\"(1)deskewed.jpg\", deskewed)\n",
    "\n",
    "    # Noise Clearing step\n",
    "    noise_cleared = cv2.fastNlMeansDenoising(img, None, 4, 7, 21)\n",
    "    # cv2.imwrite(\"(3)denoise.jpg\", noise_cleared)\n",
    "    \n",
    "    lines_removed = lineRemoval(noise_cleared)\n",
    "    \n",
    "    character_segmentation(lines_removed)"
   ]
  },
  {
   "cell_type": "code",
   "execution_count": 4,
   "metadata": {
    "ExecuteTime": {
     "end_time": "2019-01-16T02:23:59.575142Z",
     "start_time": "2019-01-16T02:23:59.343023Z"
    }
   },
   "outputs": [],
   "source": [
    "def showImage(title, img):\n",
    "    cv2.imshow(title, img)\n",
    "    cv2.waitKey(0)\n",
    "    cv2.destroyAllWindows()"
   ]
  },
  {
   "cell_type": "code",
   "execution_count": 14,
   "metadata": {
    "ExecuteTime": {
     "end_time": "2019-01-16T02:26:32.964337Z",
     "start_time": "2019-01-16T02:26:32.955428Z"
    }
   },
   "outputs": [],
   "source": [
    "def character_segmentation(img):\n",
    "    height = img.shape[0] / 3\n",
    "    img = np.invert(img)\n",
    "    \n",
    "    kernel = np.ones((40, 1))\n",
    "    \n",
    "    dilated = cv2.dilate(img, np.ones((1, 1)), iterations = 1)\n",
    "    dilated = cv2.dilate(img, kernel, iterations = 1)\n",
    "    \n",
    "    canny = cv2.Canny(dilated, 30, 150)\n",
    "    \n",
    "    showImage('image', canny)\n",
    "    \n",
    "    _, ctrs_line, _ = cv2.findContours(dilated.copy(), cv2.RETR_EXTERNAL, cv2.CHAIN_APPROX_SIMPLE)\n",
    "    sorted_ctrs_line = sorted(ctrs_line, key=lambda ctr: cv2.boundingRect(ctr)[0])\n",
    "#     img = cv2.copyMakeBorder(img, 40, 40, 40, 40, cv2.BORDER_CONSTANT)\n",
    "# # img = cv2.resize(img, (32, 32))\n",
    "\n",
    "    for i, ctr_line in enumerate(sorted_ctrs_line):\n",
    "        x_line, y_line, w_line, h_line = cv2.boundingRect(ctr_line)\n",
    "        if h_line < height:\n",
    "            continue\n",
    "#         print(x_line, y_line, w_line, h_line)\n",
    "        cropped_line = img[y_line:y_line + h_line, x_line:x_line + w_line]\n",
    "#         cropped_line = cv2.copyMakeBorder(cropped_line, 2, 2, 2, 2, cv2.BORDER_CONSTANT)\n",
    "#         showImage('image', cropped_line)\n",
    "        \n",
    "        cropped_line = cv2.resize(cropped_line, (20, 20), None)\n",
    "        cropped_line = cv2.copyMakeBorder(cropped_line, 6, 6, 6, 6, cv2.BORDER_CONSTANT)\n",
    "#         cropped_line = cv2.resize(cropped_line, (32, 32), None)\n",
    "        showImage('image', cropped_line)\n",
    "        output = model.predict_classes(cropped_line.reshape(-1, 32, 32, 1))\n",
    "#         probab = model.predict_proba(cropped_line.reshape(-1, 32, 32, 1))\n",
    "        probab = model.predict(cropped_line.reshape(-1, 32, 32, 1))\n",
    "        print(probab, output)\n",
    "\n",
    "#         cropped_line = cv2.copyMakeBorder(cropped_line, 2,2,2,2,cv2.BORDER_CONSTANT)\n",
    "#         cropped_line = cv2.resize(cropped_line, (32, 32))"
   ]
  },
  {
   "cell_type": "code",
   "execution_count": 37,
   "metadata": {
    "ExecuteTime": {
     "end_time": "2019-01-16T06:56:17.239192Z",
     "start_time": "2019-01-16T06:56:01.288883Z"
    }
   },
   "outputs": [
    {
     "name": "stderr",
     "output_type": "stream",
     "text": [
      "/home/praneet/envs/deeplearning/lib/python3.5/site-packages/h5py/__init__.py:36: FutureWarning: Conversion of the second argument of issubdtype from `float` to `np.floating` is deprecated. In future, it will be treated as `np.float64 == np.dtype(float).type`.\n",
      "  from ._conv import register_converters as _register_converters\n",
      "Using TensorFlow backend.\n"
     ]
    },
    {
     "name": "stdout",
     "output_type": "stream",
     "text": [
      "Loaded Model from disk\n"
     ]
    }
   ],
   "source": [
    "from keras.models import model_from_json\n",
    "import tensorflow as tf\n",
    "\n",
    "json_file = open('../../Seven_Segment_Display_Prediction/models/model.json', 'r')\n",
    "loaded_model_json = json_file.read()\n",
    "json_file.close()\n",
    "model = model_from_json(loaded_model_json)\n",
    "# load weights into new model\n",
    "model.load_weights(\"../../Seven_Segment_Display_Prediction/models/model.h5\")\n",
    "print(\"Loaded Model from disk\")\n",
    "\n",
    "# compile and evaluate model\n",
    "model.compile(loss='categorical_crossentropy', optimizer='adam', metrics=['accuracy'])"
   ]
  },
  {
   "cell_type": "code",
   "execution_count": 6,
   "metadata": {
    "ExecuteTime": {
     "end_time": "2019-01-16T02:24:00.241393Z",
     "start_time": "2019-01-16T02:23:59.691147Z"
    }
   },
   "outputs": [
    {
     "name": "stdout",
     "output_type": "stream",
     "text": [
      "Loaded Model from disk\n"
     ]
    }
   ],
   "source": [
    "graph = tf.get_default_graph()\n",
    "graph = tf.Graph()"
   ]
  },
  {
   "cell_type": "code",
   "execution_count": 8,
   "metadata": {
    "ExecuteTime": {
     "end_time": "2019-01-16T02:24:29.273144Z",
     "start_time": "2019-01-16T02:24:27.512947Z"
    }
   },
   "outputs": [],
   "source": [
    "import cv2\n",
    "import os\n",
    "import shutil\n",
    "import numpy as np\n",
    "from matplotlib.pyplot import imshow\n",
    "from PIL import Image"
   ]
  },
  {
   "cell_type": "code",
   "execution_count": 15,
   "metadata": {
    "ExecuteTime": {
     "end_time": "2019-01-16T02:26:44.573321Z",
     "start_time": "2019-01-16T02:26:35.878966Z"
    }
   },
   "outputs": [
    {
     "name": "stdout",
     "output_type": "stream",
     "text": [
      "[[1. 0. 0. 0. 0. 0. 0. 0. 0. 0.]] [0]\n",
      "[[1. 0. 0. 0. 0. 0. 0. 0. 0. 0.]] [0]\n",
      "[[0. 0. 0. 1. 0. 0. 0. 0. 0. 0.]] [3]\n",
      "[[0. 0. 0. 0. 0. 0. 1. 0. 0. 0.]] [6]\n",
      "[[0. 0. 0. 1. 0. 0. 0. 0. 0. 0.]] [3]\n",
      "[[1. 0. 0. 0. 0. 0. 0. 0. 0. 0.]] [0]\n",
      "[[1. 0. 0. 0. 0. 0. 0. 0. 0. 0.]] [0]\n"
     ]
    }
   ],
   "source": [
    "pre_processing('ignore/test1.jpg')"
   ]
  },
  {
   "cell_type": "markdown",
   "metadata": {},
   "source": [
    "# Potential Segmentation Columns"
   ]
  },
  {
   "cell_type": "code",
   "execution_count": 10,
   "metadata": {
    "ExecuteTime": {
     "end_time": "2019-01-16T02:24:39.779115Z",
     "start_time": "2019-01-16T02:24:39.741067Z"
    }
   },
   "outputs": [],
   "source": [
    "import cv2\n",
    "import os\n",
    "import shutil\n",
    "import numpy as np\n",
    "from matplotlib.pyplot import imshow\n",
    "from PIL import Image\n",
    "\n",
    "'''\n",
    "this function convert image into matrix of image rows\n",
    "'''\n",
    "def imgToMatrixR(img):\n",
    "    # get dimensions\n",
    "    height, width = img.shape\n",
    "    matrix = []\n",
    "    # getting pixels values for all rows\n",
    "    for i in range(0, height):\n",
    "        row = []\n",
    "        for j in range(0, width):\n",
    "            row.append(img[i,j])\n",
    "        matrix.append(row)\n",
    "    return matrix\n",
    "\n",
    "'''\n",
    "this function convert image into matrix of image columns\n",
    "'''\n",
    "def imgToMatrixC(img):\n",
    "    # get dimensions\n",
    "    height, width = int(img.shape[1] / 2)\n",
    "    matrix = []\n",
    "    # getting pixels values for all columns\n",
    "    for i in range(0, width):\n",
    "        col = []\n",
    "        for j in range(0, height):\n",
    "            col.append(img[j, i])\n",
    "        matrix.append(col)\n",
    "    return matrix\n",
    "\n",
    "'''\n",
    "this function count a specific value (parameter p) in matrix\n",
    "'''\n",
    "def countPixel(matrix,p):\n",
    "    counter = []\n",
    "    for k in range(0, len(matrix)):\n",
    "        counter.append(matrix[k].count(p))\n",
    "    return counter\n",
    "\n",
    "'''\n",
    "this function searches for underlines  and replace the pixels that formed it with white pixels \n",
    "'''\n",
    "def lineRemoval(img):\n",
    "    min_length=140\n",
    "    matrix = imgToMatrixR(img)\n",
    "    for i in range(0, len(matrix)):\n",
    "        row=matrix[i]\n",
    "        start=-1\n",
    "        end=0\n",
    "        conn=0\n",
    "        for j in range(0, len(row)):\n",
    "            if (row[j]==0):\n",
    "                conn=conn+1\n",
    "                # first point in the line .\n",
    "                if( start == -1 ):\n",
    "                    start = j\n",
    "                # last point in the row .\n",
    "                if( j == len(row)-1 ):\n",
    "                    end =j\n",
    "                    if (conn > min_length):\n",
    "                        img[i-2:i+4, start:end+1] = 255\n",
    "                    start = -1\n",
    "                    end = 0\n",
    "                    conn = 0\n",
    "            # end of the line\n",
    "            else:\n",
    "                end =j\n",
    "                if (conn >min_length):\n",
    "                    img[i-2:i+4, start:end+1] = 255\n",
    "                start = -1\n",
    "                end = 0\n",
    "                conn = 0\n",
    "#     showImage('after line', img)\n",
    "    return img\n",
    "\n",
    "'''\n",
    "this function clears all horizontal boundaries around the input image\n",
    "'''\n",
    "def clearBounds_horiz(img):\n",
    "#     showImage('before horizontal', img)\n",
    "    height, width = img.shape\n",
    "    matrix = imgToMatrixR(img)\n",
    "    white_counter = countPixel(matrix,255)\n",
    "\n",
    "    for i in range (0,height):\n",
    "        if(white_counter[i]>= width-1):\n",
    "            img = img[1:height,0:width]\n",
    "        else:\n",
    "            break\n",
    "\n",
    "    new_height, width = img.shape\n",
    "    for i in range (1,height):\n",
    "        if(white_counter[height-i]>= width-1):\n",
    "            img = img[0:new_height-i,0:width]\n",
    "        else:\n",
    "            break\n",
    "#     showImage('after horizontal', img)\n",
    "    return img\n",
    "\n",
    "'''\n",
    "this function clears all vertical boundaries around the input image\n",
    "'''\n",
    "def clearBounds_vert(img):\n",
    "#     showImage('before vertical', img)\n",
    "    height, width = img.shape\n",
    "    matrix = imgToMatrixC(img)\n",
    "    white_counter = countPixel(matrix,255)\n",
    "\n",
    "    for i in range (0,width):\n",
    "        if(white_counter[i]>= height-1):\n",
    "            img = img[0:height,1:width]\n",
    "        else:\n",
    "            break\n",
    "\n",
    "    height, new_width = img.shape\n",
    "    for i in range (1,width):\n",
    "        if(white_counter[width-i]>= height-1):\n",
    "            img = img[0:height,0:new_width-i]\n",
    "        else:\n",
    "            break\n",
    "#     showImage('after vertical', img)\n",
    "    return img\n",
    "\n",
    "'''\n",
    "this function makes lines of text perfectly horizontal.\n",
    "'''\n",
    "def deskew(img):\n",
    "    gray = cv2.cvtColor(img, cv2.COLOR_BGR2GRAY)\n",
    "    gray = cv2.bitwise_not(gray)\n",
    "    thresh = cv2.threshold(gray, 0, 255, cv2.THRESH_BINARY | cv2.THRESH_OTSU)[1]\n",
    "    coords = np.column_stack(np.where(thresh > 0))\n",
    "    angle = cv2.minAreaRect(coords)[-1]\n",
    "    if angle < -45:\n",
    "        angle = -(90 + angle)\n",
    "    else:\n",
    "        angle = -angle\n",
    "    (h, w) = img.shape[:2]\n",
    "    center = (w // 2, h // 2)\n",
    "    M = cv2.getRotationMatrix2D(center, angle, 1.0)\n",
    "    rotated = cv2.warpAffine(img, M, (w, h),flags=cv2.INTER_CUBIC, borderMode=cv2.BORDER_REPLICATE)\n",
    "    return rotated\n",
    "\n",
    "\n",
    "'''\n",
    "this function applies a set of preprocessing operations to the input image, function output is a binarized image.\n",
    "operations are scaling , grayscaling , noise clearing , gaussian's thresholding and remove underlines.\n",
    "finally the function calls lineSegment function to segment the image into lines.\n",
    "'''\n",
    "# def pre_processing(path):\n",
    "#     # Read Image\n",
    "#     img = cv2.imread(path)\n",
    "\n",
    "#     # scaling\n",
    "#     height, width = img.shape[:2]\n",
    "#     scaled = img\n",
    "#     if height < 1600 and width < 1200:\n",
    "#         scaled = cv2.resize(img, (2 * width, 2* height), interpolation=cv2.INTER_LINEAR)\n",
    "#         # cv2.imwrite('(0)scaled.jpg', scaled)\n",
    "\n",
    "#     # Deskew step\n",
    "#     deskewed = deskew(scaled)\n",
    "#     # cv2.imwrite(\"(1)deskewed.jpg\", deskewed)\n",
    "\n",
    "#     # Grayscale step\n",
    "#     grayscaled = cv2.cvtColor(deskewed, cv2.COLOR_BGR2GRAY)\n",
    "#     # cv2.imwrite(\"(2)grayscale.jpg\", grayscaled)\n",
    "\n",
    "#     # Noise Clearing step\n",
    "#     noise_cleared = cv2.fastNlMeansDenoising(grayscaled, None, 4, 7, 21)\n",
    "#     # cv2.imwrite(\"(3)denoise.jpg\", noise_cleared)\n",
    "\n",
    "#     '''\n",
    "#     # GAUSSIAN's thresholding\n",
    "#     GBinary = cv2.adaptiveThreshold(noise_cleared,255, cv2.ADAPTIVE_THRESH_GAUSSIAN_C, cv2.THRESH_BINARY,15,5)\n",
    "#     # cv2.imwrite(\"(4)binarization.jpg\", GBinary)\n",
    "#     '''\n",
    "\n",
    "#     # Otsu's thresholding after Gaussian filtering\n",
    "#     blur = cv2.GaussianBlur(noise_cleared, (5, 5), 0)\n",
    "#     ret3, OBinary = cv2.threshold(blur, 0, 255, cv2.THRESH_BINARY + cv2.THRESH_OTSU)\n",
    "#     # cv2.imwrite(\"(4)binarization.jpg\", OBinary)\n",
    "    \n",
    "#     if os.path.exists(\"output\"):\n",
    "#        shutil.rmtree(\"output\")\n",
    "#     os.makedirs(\"output\")\n",
    "#     cv2.imwrite(\"output/Preprocessed.png\", OBinary)\n",
    "\n",
    "#     line_segment(OBinary)\n",
    "    \n",
    "#     return lines\n",
    "'''\n",
    "this function segment the binarized image into lines\n",
    "segmentation technique consists of 3 steps :\n",
    "    1- define potential segmentation rows that contains no or 20 black pixels at most.\n",
    "    2- filter the potential segmentation rows and determine only segmentation rows which the crop operation depends on.\n",
    "    3- segment the image into lines.\n",
    "'''\n",
    "def line_segment(binary):\n",
    "    # get dimensions\n",
    "    height, width = binary.shape\n",
    "    # convert image into matrix of rows\n",
    "    matrix = imgToMatrixR(binary)\n",
    "    # count black pixels in each row\n",
    "    black_counter =countPixel(matrix,0)\n",
    "\n",
    "    # determine potential segmentation rows (psr)\n",
    "    # psr is any row contains 0-2 black pixels, last row in image is also a psr .\n",
    "    psr=[0]\n",
    "    for i in range(0, len(black_counter)):\n",
    "        if black_counter[i] <= 2 or i >= len(black_counter) - 2:\n",
    "            psr.append(i)\n",
    "\n",
    "    # determine segmentation rows sr\n",
    "    # sr is the index where we segment the image\n",
    "    sr = []\n",
    "    count = 0\n",
    "    for n in range(0, len(psr) - 1):\n",
    "        # combine each set of sequence white rows into only one sr\n",
    "        if psr[n] + 3 < psr[n + 1] or n >= len(psr) - 2:\n",
    "            sr.append(psr[n - int(count/2)])\n",
    "            count=0\n",
    "        else:\n",
    "            count += 1\n",
    "\n",
    "    # segment image into lines\n",
    "    global lines\n",
    "    for c in range(0, len(sr) - 1):\n",
    "        crop_img = binary[sr[c]:sr[c + 1], 0:width]\n",
    "        img = lineRemoval(crop_img)\n",
    "        img = clearBounds_horiz(img)\n",
    "        img = clearBounds_vert(img)\n",
    "        directory=\"output/line \"+str(c)\n",
    "        if not os.path.exists(directory):\n",
    "            os.makedirs(directory)\n",
    "        cv2.imwrite(\"output/line \"+str(c)+\"/line \" + str(c) + \".png\", img)\n",
    "        # Call function to Segment the line into words then chars\n",
    "        lines.append([])\n",
    "        word_segment(img, c)\n",
    "        lines[c].append(\",\")\n",
    "\n",
    "'''\n",
    "this function segment lines into columns then words\n",
    "lineNum parameter used for naming, flag parameter refers to the type of segmentation.\n",
    "segmentation technique consists of 4 steps :\n",
    "    1- define potential segmentation columns that contains no or only two black pixels.\n",
    "    2- filter the potential segmentation columns,determine only segmentation columns which the crop operation depends on\n",
    "    3- segment the image into segments (column)\n",
    "    4- recursive call to segment columns into words\n",
    "'''\n",
    "def word_segment(binary, lineNum):\n",
    "    word_threshold=7\n",
    "\n",
    "    # get image dimension\n",
    "    height, width = binary.shape\n",
    "    # convert image to matrix of columns\n",
    "    matrix = imgToMatrixC(binary)\n",
    "    # count black pixels in each column\n",
    "    black_counter = countPixel(matrix,0)\n",
    "\n",
    "    # determine potential segmentation columns (psc).\n",
    "    # psc is any column contains no or two black pixel at most , last column in image is also a psc .\n",
    "    psc = [0]\n",
    "    for p in range(0, len(black_counter)):\n",
    "        if black_counter[p] <= 2 or p >= len(black_counter) - 2:\n",
    "            psc.append(p)\n",
    "\n",
    "    # determine segmentation columns (sc)\n",
    "    # sc is the index where we segment the image .\n",
    "    sc = []\n",
    "    count = 0\n",
    "    for n in range(0, len(psc) - 1):\n",
    "        # first column is sc\n",
    "        if n == 0:\n",
    "            sc.append(psc[n])\n",
    "            count = 0\n",
    "        # last column is also sc\n",
    "        elif n >= len(psc) - 2:\n",
    "            sc.append(psc[n])\n",
    "            count = 0\n",
    "\n",
    "        # combine each set of sequence white columns into only one sc\n",
    "        elif psc[n] + 3 < psc[n + 1] :\n",
    "            # space between words >= threshold value, low values is a space between chars not words.\n",
    "            if count >= word_threshold :\n",
    "                sc.append(psc[n -int(count/2)])\n",
    "            count = 0\n",
    "\n",
    "        else:\n",
    "            count += 1\n",
    "\n",
    "    for c in range(0, len(sc) - 1):\n",
    "        crop_img = binary[0:height, sc[c]:sc[c + 1] + 2]\n",
    "        directory = \"output/line \" + str(lineNum)+\"/word \" + str(c)\n",
    "        if not os.path.exists(directory):\n",
    "            os.makedirs(directory)\n",
    "        cv2.imwrite(directory + \"/word \" + str(c) + \".png\", crop_img)\n",
    "        char_segment(crop_img, lineNum, c)\n",
    "\n",
    "'''\n",
    "this function segment words into chars\n",
    "lineNum and wordNum parameters used for naming \n",
    "segmentation technique consists of 3 steps :\n",
    "    1- define potential segmentation columns that contains no or only one black pixels.\n",
    "    2- filter potential segmentation columns by determine segmentation columns which the crop operation depends on .\n",
    "    3- segment the image into segments (chars).\n",
    "'''\n",
    "def char_segment(binary,lineNum,wordNum):\n",
    "    # get image dimension\n",
    "    height, width = binary.shape\n",
    "    # convert image to matrix of columns\n",
    "    matrix = imgToMatrixC(binary)\n",
    "    # count black pixels in each column\n",
    "    black_counter = countPixel(matrix,0)\n",
    "\n",
    "    # determine potential segmentation columns (psc).\n",
    "    # psc is any column contains no or one black bixel at most , last column in image is also a psc .\n",
    "    psc = [0]\n",
    "    for p in range(0, len(black_counter)):\n",
    "        if black_counter[p] <= 1 or p >= len(black_counter) - 2:\n",
    "            psc.append(p)\n",
    "\n",
    "    # determine segmentation columns (sc)\n",
    "    # sc is the average column between each sequence set of psc , average = summ of columns index/count of columns\n",
    "    sc = []\n",
    "    summ = 0\n",
    "    count = 0\n",
    "    for n in range(0, len(psc) - 1):\n",
    "        summ = summ + psc[n]\n",
    "        count = count + 1\n",
    "        # combine each set of sequence white columns into only one sc ,last column is also a sc\n",
    "        if psc[n] + 3 < psc[n + 1] or n >= len(psc) - 2:\n",
    "            sc.append(int(summ / count))\n",
    "            summ = 0\n",
    "            count = 0\n",
    "\n",
    "    global lines\n",
    "    # segment image into chars\n",
    "    for c in range(0, len(sc) - 1):\n",
    "        crop_img = binary[0:height, sc[c]:sc[c + 1]+2]\n",
    "        crop_img = clearBounds_horiz(crop_img)\n",
    "        crop_img = clearBounds_vert(crop_img)\n",
    "        crop_img = cv2.resize(crop_img, (64, 128), interpolation=cv2.INTER_LINEAR)\n",
    "        directory= \"output/line \" + str(lineNum)+\"/word \"+str(wordNum)\n",
    "        if not os.path.exists(directory):\n",
    "            os.makedirs(directory)\n",
    "        cv2.imwrite(directory+\"/\"+str(c)+\".png\", crop_img)\n",
    "        lines[lineNum].append(crop_img)\n",
    "        if c == (len(sc) - 2):\n",
    "            lines[lineNum].append(\",\")\n",
    "    print(\"HERE\")\n",
    "    print(lines)\n",
    "\n",
    "\n",
    "# Preprocessing function Calling\n",
    "lines =[]\n",
    "# lines = g(\"Test\\\\testcase1.png\")"
   ]
  },
  {
   "cell_type": "code",
   "execution_count": null,
   "metadata": {},
   "outputs": [],
   "source": []
  }
 ],
 "metadata": {
  "kernelspec": {
   "display_name": "Python 3",
   "language": "python",
   "name": "python3"
  },
  "language_info": {
   "codemirror_mode": {
    "name": "ipython",
    "version": 3
   },
   "file_extension": ".py",
   "mimetype": "text/x-python",
   "name": "python",
   "nbconvert_exporter": "python",
   "pygments_lexer": "ipython3",
   "version": "3.5.2"
  },
  "varInspector": {
   "cols": {
    "lenName": 16,
    "lenType": 16,
    "lenVar": 40
   },
   "kernels_config": {
    "python": {
     "delete_cmd_postfix": "",
     "delete_cmd_prefix": "del ",
     "library": "var_list.py",
     "varRefreshCmd": "print(var_dic_list())"
    },
    "r": {
     "delete_cmd_postfix": ") ",
     "delete_cmd_prefix": "rm(",
     "library": "var_list.r",
     "varRefreshCmd": "cat(var_dic_list()) "
    }
   },
   "oldHeight": 202,
   "position": {
    "height": "224px",
    "left": "1539px",
    "right": "20px",
    "top": "158px",
    "width": "342px"
   },
   "types_to_exclude": [
    "module",
    "function",
    "builtin_function_or_method",
    "instance",
    "_Feature"
   ],
   "varInspector_section_display": "block",
   "window_display": true
  }
 },
 "nbformat": 4,
 "nbformat_minor": 2
}
