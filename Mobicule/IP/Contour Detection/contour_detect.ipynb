{
 "cells": [
  {
   "cell_type": "code",
   "execution_count": 8,
   "metadata": {},
   "outputs": [],
   "source": [
    "import cv2\n",
    "import numpy as np\n",
    "\n",
    "image = cv2.imread('cursive.jpg')\n",
    "blurred = cv2.pyrMeanShiftFiltering(image, 81, 101)\n",
    "gray = cv2.cvtColor(blurred, cv2.COLOR_BGR2GRAY)\n",
    "_, thresh = cv2.threshold(gray, 0, 255, cv2.THRESH_BINARY+cv2.THRESH_OTSU)\n",
    "\n",
    "_, contours, _ = cv2.findContours(thresh, cv2.RETR_LIST, cv2.CHAIN_APPROX_NONE)\n",
    "\n",
    "for i in range(len(contours)):\n",
    "    cv2.drawContours(image, contours, i, (0,255,0), 5)\n",
    "    cv2.namedWindow('Display', cv2.WINDOW_NORMAL)\n",
    "    cv2.imshow('Display', image)\n",
    "    cv2.waitKey(0)\n",
    "\n",
    "cv2.destroyAllWindows()"
   ]
  },
  {
   "cell_type": "code",
   "execution_count": 16,
   "metadata": {},
   "outputs": [
    {
     "name": "stdout",
     "output_type": "stream",
     "text": [
      "239.0\n",
      "209.5\n",
      "35.5\n",
      "245.0\n",
      "287.5\n",
      "2318.5\n",
      "21.5\n",
      "21.5\n",
      "89.0\n",
      "42.5\n",
      "43.0\n",
      "125.0\n",
      "866.5\n",
      "203.0\n",
      "120.5\n",
      "182.0\n",
      "1288.5\n",
      "567.5\n",
      "878.0\n",
      "977.0\n",
      "370.5\n",
      "389.5\n",
      "60.5\n",
      "96.5\n",
      "122.5\n",
      "27.0\n",
      "203.5\n",
      "236.0\n",
      "203.5\n",
      "200.5\n",
      "40.0\n",
      "2369.0\n",
      "2682.5\n",
      "104.5\n",
      "111.0\n",
      "244.5\n",
      "246.5\n",
      "34.5\n",
      "35.5\n",
      "192.5\n",
      "1354.0\n",
      "2424.0\n",
      "21.5\n",
      "4.0\n",
      "1275.5\n",
      "140.5\n",
      "74.5\n",
      "236.0\n",
      "238.0\n",
      "47.0\n",
      "21.0\n",
      "45.5\n",
      "983.0\n",
      "42.0\n",
      "21.0\n",
      "2982.5\n",
      "1710.5\n",
      "2018.0\n",
      "183141.0\n"
     ]
    }
   ],
   "source": [
    "import cv2\n",
    "import numpy as np\n",
    "\n",
    "image = cv2.imread('cursive.jpg')\n",
    "image = cv2.resize(image, (image.shape[0]*2, image.shape[1]))\n",
    "blurred = cv2.pyrMeanShiftFiltering(image, 31, 71)\n",
    "gray = cv2.cvtColor(blurred, cv2.COLOR_BGR2GRAY)\n",
    "_, thresh = cv2.threshold(gray, 0, 255, cv2.THRESH_BINARY+cv2.THRESH_OTSU)\n",
    "\n",
    "_, contours, _ = cv2.findContours(thresh, cv2.RETR_LIST, cv2.CHAIN_APPROX_NONE)\n",
    "\n",
    "for c in contours:\n",
    "    rect = cv2.boundingRect(c)\n",
    "#     if rect[2] < 5 or rect[3] < 5: continue\n",
    "    print(cv2.contourArea(c))\n",
    "    x, y, w, h = rect\n",
    "    cv2.rectangle(image,(x,y),(x+w,y+h),(0,255,0),2)\n",
    "\n",
    "cv2.imshow(\"Show\",image)\n",
    "cv2.waitKey()  \n",
    "cv2.destroyAllWindows()"
   ]
  },
  {
   "cell_type": "code",
   "execution_count": null,
   "metadata": {},
   "outputs": [],
   "source": []
  },
  {
   "cell_type": "code",
   "execution_count": null,
   "metadata": {},
   "outputs": [],
   "source": []
  }
 ],
 "metadata": {
  "kernelspec": {
   "display_name": "Python 3",
   "language": "python",
   "name": "python3"
  },
  "language_info": {
   "codemirror_mode": {
    "name": "ipython",
    "version": 3
   },
   "file_extension": ".py",
   "mimetype": "text/x-python",
   "name": "python",
   "nbconvert_exporter": "python",
   "pygments_lexer": "ipython3",
   "version": "3.6.6"
  }
 },
 "nbformat": 4,
 "nbformat_minor": 2
}
